{
  "nbformat": 4,
  "nbformat_minor": 0,
  "metadata": {
    "colab": {
      "name": "Simulate Target Minerals 4",
      "version": "0.3.2",
      "provenance": [],
      "collapsed_sections": []
    },
    "kernelspec": {
      "name": "python3",
      "display_name": "Python 3"
    }
  },
  "cells": [
    {
      "metadata": {
        "id": "ySc3L3pBWFUI",
        "colab_type": "code",
        "colab": {
          "base_uri": "https://localhost:8080/",
          "height": 68
        },
        "outputId": "db9485bb-1cf2-4d3b-9a0b-65340f855d85"
      },
      "cell_type": "code",
      "source": [
        "import numpy as np\n",
        "import pandas as pd\n",
        "from skimage.io import imread, imshow\n",
        "!pip install periodictable\n",
        "import periodictable\n",
        "\n",
        "from sklearn.ensemble import RandomForestClassifier, RandomForestRegressor\n",
        "from sklearn.linear_model import SGDClassifier, SGDRegressor\n",
        "from sklearn.svm import SVC\n",
        "from sklearn.model_selection import train_test_split\n",
        "\n",
        "from pathlib import Path\n",
        "import re\n",
        "import json\n",
        "import matplotlib.pyplot as plt"
      ],
      "execution_count": 108,
      "outputs": [
        {
          "output_type": "stream",
          "text": [
            "Requirement already satisfied: periodictable in /usr/local/lib/python3.6/dist-packages (1.5.0)\n",
            "Requirement already satisfied: numpy in /usr/local/lib/python3.6/dist-packages (from periodictable) (1.14.6)\n",
            "Requirement already satisfied: pyparsing in /usr/local/lib/python3.6/dist-packages (from periodictable) (2.3.1)\n"
          ],
          "name": "stdout"
        }
      ]
    },
    {
      "metadata": {
        "id": "fM2YYQpOW5Yz",
        "colab_type": "code",
        "colab": {}
      },
      "cell_type": "code",
      "source": [
        "from sklearn.linear_model import LinearRegression"
      ],
      "execution_count": 0,
      "outputs": []
    },
    {
      "metadata": {
        "id": "1EkZPQAoWMY_",
        "colab_type": "code",
        "colab": {
          "base_uri": "https://localhost:8080/",
          "height": 34
        },
        "outputId": "9e897343-e4e6-468e-ac71-769d2a19d70e"
      },
      "cell_type": "code",
      "source": [
        "# Only if on Google Colab\n",
        "\n",
        "from google.colab import drive\n",
        "drive.mount('/content/gdrive', force_remount=True)"
      ],
      "execution_count": 89,
      "outputs": [
        {
          "output_type": "stream",
          "text": [
            "Mounted at /content/gdrive\n"
          ],
          "name": "stdout"
        }
      ]
    },
    {
      "metadata": {
        "id": "TSF0dYwZWNk3",
        "colab_type": "code",
        "colab": {
          "base_uri": "https://localhost:8080/",
          "height": 204
        },
        "outputId": "1d935101-693c-4f1b-fac4-23bdd83cae4f"
      },
      "cell_type": "code",
      "source": [
        "standards_df = pd.read_csv('https://raw.githubusercontent.com/HackTheSolarSystem/MineralMapping/master/challenge_data/mineral_standards.csv')\n",
        "standards_df.head(5)"
      ],
      "execution_count": 90,
      "outputs": [
        {
          "output_type": "execute_result",
          "data": {
            "text/html": [
              "<div>\n",
              "<style scoped>\n",
              "    .dataframe tbody tr th:only-of-type {\n",
              "        vertical-align: middle;\n",
              "    }\n",
              "\n",
              "    .dataframe tbody tr th {\n",
              "        vertical-align: top;\n",
              "    }\n",
              "\n",
              "    .dataframe thead th {\n",
              "        text-align: right;\n",
              "    }\n",
              "</style>\n",
              "<table border=\"1\" class=\"dataframe\">\n",
              "  <thead>\n",
              "    <tr style=\"text-align: right;\">\n",
              "      <th></th>\n",
              "      <th>Mg</th>\n",
              "      <th>Ni</th>\n",
              "      <th>Al</th>\n",
              "      <th>Fe</th>\n",
              "      <th>Ca</th>\n",
              "      <th>Cr</th>\n",
              "      <th>P</th>\n",
              "      <th>S</th>\n",
              "      <th>Ti</th>\n",
              "      <th>Si</th>\n",
              "      <th>mineral</th>\n",
              "    </tr>\n",
              "  </thead>\n",
              "  <tbody>\n",
              "    <tr>\n",
              "      <th>0</th>\n",
              "      <td>0</td>\n",
              "      <td>0</td>\n",
              "      <td>0</td>\n",
              "      <td>0</td>\n",
              "      <td>171</td>\n",
              "      <td>0</td>\n",
              "      <td>4</td>\n",
              "      <td>0</td>\n",
              "      <td>459</td>\n",
              "      <td>0</td>\n",
              "      <td>CaTiO3std15</td>\n",
              "    </tr>\n",
              "    <tr>\n",
              "      <th>1</th>\n",
              "      <td>0</td>\n",
              "      <td>0</td>\n",
              "      <td>0</td>\n",
              "      <td>0</td>\n",
              "      <td>148</td>\n",
              "      <td>3</td>\n",
              "      <td>2</td>\n",
              "      <td>0</td>\n",
              "      <td>462</td>\n",
              "      <td>1</td>\n",
              "      <td>CaTiO3std15</td>\n",
              "    </tr>\n",
              "    <tr>\n",
              "      <th>2</th>\n",
              "      <td>0</td>\n",
              "      <td>2</td>\n",
              "      <td>0</td>\n",
              "      <td>0</td>\n",
              "      <td>141</td>\n",
              "      <td>6</td>\n",
              "      <td>3</td>\n",
              "      <td>0</td>\n",
              "      <td>455</td>\n",
              "      <td>2</td>\n",
              "      <td>CaTiO3std15</td>\n",
              "    </tr>\n",
              "    <tr>\n",
              "      <th>3</th>\n",
              "      <td>1</td>\n",
              "      <td>2</td>\n",
              "      <td>2</td>\n",
              "      <td>0</td>\n",
              "      <td>122</td>\n",
              "      <td>6</td>\n",
              "      <td>3</td>\n",
              "      <td>0</td>\n",
              "      <td>502</td>\n",
              "      <td>0</td>\n",
              "      <td>CaTiO3std15</td>\n",
              "    </tr>\n",
              "    <tr>\n",
              "      <th>4</th>\n",
              "      <td>0</td>\n",
              "      <td>0</td>\n",
              "      <td>0</td>\n",
              "      <td>0</td>\n",
              "      <td>138</td>\n",
              "      <td>5</td>\n",
              "      <td>5</td>\n",
              "      <td>0</td>\n",
              "      <td>457</td>\n",
              "      <td>1</td>\n",
              "      <td>CaTiO3std15</td>\n",
              "    </tr>\n",
              "  </tbody>\n",
              "</table>\n",
              "</div>"
            ],
            "text/plain": [
              "   Mg  Ni  Al  Fe   Ca  Cr  P  S   Ti  Si      mineral\n",
              "0   0   0   0   0  171   0  4  0  459   0  CaTiO3std15\n",
              "1   0   0   0   0  148   3  2  0  462   1  CaTiO3std15\n",
              "2   0   2   0   0  141   6  3  0  455   2  CaTiO3std15\n",
              "3   1   2   2   0  122   6  3  0  502   0  CaTiO3std15\n",
              "4   0   0   0   0  138   5  5  0  457   1  CaTiO3std15"
            ]
          },
          "metadata": {
            "tags": []
          },
          "execution_count": 90
        }
      ]
    },
    {
      "metadata": {
        "id": "_rrRTbQ7WaVf",
        "colab_type": "code",
        "colab": {
          "base_uri": "https://localhost:8080/",
          "height": 267
        },
        "outputId": "8620bf47-5d9c-450d-b7fc-972027b277ce"
      },
      "cell_type": "code",
      "source": [
        "# Get expected standards weights \n",
        "\n",
        "rows = []\n",
        "for filename in standards_df['mineral'].unique():\n",
        "  try:\n",
        "    formula = re.match(r'([A-Za-z0-9]*).*(std)(.*)', filename).groups()[0]\n",
        "    weights = periodictable.formula(formula).mass_fraction\n",
        "    weights = dict((str(e), w) for e,w in weights.items())\n",
        "    weights['mineral_formula'] = formula\n",
        "    weights['mineral'] = filename\n",
        "    rows.append(weights)\n",
        "  except:\n",
        "    print(filename)\n",
        "\n",
        "# rutile\n",
        "weights = periodictable.formula('TiO2').mass_fraction\n",
        "weights = dict((str(e), w) for e,w in weights.items())\n",
        "weights['mineral_formula'] = 'TiO2'\n",
        "weights['mineral'] = 'rutile'\n",
        "rows.append(weights)\n",
        "\n",
        "# SCOlv\n",
        "rows.append({\n",
        "    'mineral': 'SCOlvstd6', 'mineral_formula': '???', \n",
        "    'Si': .1908, 'Fe': .0742, 'Mg': .298, 'Mn': .0011, 'Ca': .0002, 'Ni': .0029\n",
        "})  \n",
        "  \n",
        "weights_df = pd.DataFrame.from_records(rows).fillna(0)\n",
        "weights_df.columns = [str(i) + '_weight' if str(i)[0].isupper() else str(i) for i in weights_df.columns]\n",
        "\n",
        "\n",
        "standards_df = standards_df.merge(weights_df, on='mineral')\n",
        "standards_df.head()"
      ],
      "execution_count": 91,
      "outputs": [
        {
          "output_type": "stream",
          "text": [
            "rutile\n",
            "SCOlvstd6\n"
          ],
          "name": "stdout"
        },
        {
          "output_type": "execute_result",
          "data": {
            "text/html": [
              "<div>\n",
              "<style scoped>\n",
              "    .dataframe tbody tr th:only-of-type {\n",
              "        vertical-align: middle;\n",
              "    }\n",
              "\n",
              "    .dataframe tbody tr th {\n",
              "        vertical-align: top;\n",
              "    }\n",
              "\n",
              "    .dataframe thead th {\n",
              "        text-align: right;\n",
              "    }\n",
              "</style>\n",
              "<table border=\"1\" class=\"dataframe\">\n",
              "  <thead>\n",
              "    <tr style=\"text-align: right;\">\n",
              "      <th></th>\n",
              "      <th>Mg</th>\n",
              "      <th>Ni</th>\n",
              "      <th>Al</th>\n",
              "      <th>Fe</th>\n",
              "      <th>Ca</th>\n",
              "      <th>Cr</th>\n",
              "      <th>P</th>\n",
              "      <th>S</th>\n",
              "      <th>Ti</th>\n",
              "      <th>Si</th>\n",
              "      <th>...</th>\n",
              "      <th>Ca_weight</th>\n",
              "      <th>Fe_weight</th>\n",
              "      <th>Mg_weight</th>\n",
              "      <th>Mn_weight</th>\n",
              "      <th>Ni_weight</th>\n",
              "      <th>O_weight</th>\n",
              "      <th>S_weight</th>\n",
              "      <th>Si_weight</th>\n",
              "      <th>Ti_weight</th>\n",
              "      <th>mineral_formula</th>\n",
              "    </tr>\n",
              "  </thead>\n",
              "  <tbody>\n",
              "    <tr>\n",
              "      <th>0</th>\n",
              "      <td>0</td>\n",
              "      <td>0</td>\n",
              "      <td>0</td>\n",
              "      <td>0</td>\n",
              "      <td>171</td>\n",
              "      <td>0</td>\n",
              "      <td>4</td>\n",
              "      <td>0</td>\n",
              "      <td>459</td>\n",
              "      <td>0</td>\n",
              "      <td>...</td>\n",
              "      <td>0.294814</td>\n",
              "      <td>0.0</td>\n",
              "      <td>0.0</td>\n",
              "      <td>0.0</td>\n",
              "      <td>0.0</td>\n",
              "      <td>0.353075</td>\n",
              "      <td>0.0</td>\n",
              "      <td>0.0</td>\n",
              "      <td>0.35211</td>\n",
              "      <td>CaTiO3</td>\n",
              "    </tr>\n",
              "    <tr>\n",
              "      <th>1</th>\n",
              "      <td>0</td>\n",
              "      <td>0</td>\n",
              "      <td>0</td>\n",
              "      <td>0</td>\n",
              "      <td>148</td>\n",
              "      <td>3</td>\n",
              "      <td>2</td>\n",
              "      <td>0</td>\n",
              "      <td>462</td>\n",
              "      <td>1</td>\n",
              "      <td>...</td>\n",
              "      <td>0.294814</td>\n",
              "      <td>0.0</td>\n",
              "      <td>0.0</td>\n",
              "      <td>0.0</td>\n",
              "      <td>0.0</td>\n",
              "      <td>0.353075</td>\n",
              "      <td>0.0</td>\n",
              "      <td>0.0</td>\n",
              "      <td>0.35211</td>\n",
              "      <td>CaTiO3</td>\n",
              "    </tr>\n",
              "    <tr>\n",
              "      <th>2</th>\n",
              "      <td>0</td>\n",
              "      <td>2</td>\n",
              "      <td>0</td>\n",
              "      <td>0</td>\n",
              "      <td>141</td>\n",
              "      <td>6</td>\n",
              "      <td>3</td>\n",
              "      <td>0</td>\n",
              "      <td>455</td>\n",
              "      <td>2</td>\n",
              "      <td>...</td>\n",
              "      <td>0.294814</td>\n",
              "      <td>0.0</td>\n",
              "      <td>0.0</td>\n",
              "      <td>0.0</td>\n",
              "      <td>0.0</td>\n",
              "      <td>0.353075</td>\n",
              "      <td>0.0</td>\n",
              "      <td>0.0</td>\n",
              "      <td>0.35211</td>\n",
              "      <td>CaTiO3</td>\n",
              "    </tr>\n",
              "    <tr>\n",
              "      <th>3</th>\n",
              "      <td>1</td>\n",
              "      <td>2</td>\n",
              "      <td>2</td>\n",
              "      <td>0</td>\n",
              "      <td>122</td>\n",
              "      <td>6</td>\n",
              "      <td>3</td>\n",
              "      <td>0</td>\n",
              "      <td>502</td>\n",
              "      <td>0</td>\n",
              "      <td>...</td>\n",
              "      <td>0.294814</td>\n",
              "      <td>0.0</td>\n",
              "      <td>0.0</td>\n",
              "      <td>0.0</td>\n",
              "      <td>0.0</td>\n",
              "      <td>0.353075</td>\n",
              "      <td>0.0</td>\n",
              "      <td>0.0</td>\n",
              "      <td>0.35211</td>\n",
              "      <td>CaTiO3</td>\n",
              "    </tr>\n",
              "    <tr>\n",
              "      <th>4</th>\n",
              "      <td>0</td>\n",
              "      <td>0</td>\n",
              "      <td>0</td>\n",
              "      <td>0</td>\n",
              "      <td>138</td>\n",
              "      <td>5</td>\n",
              "      <td>5</td>\n",
              "      <td>0</td>\n",
              "      <td>457</td>\n",
              "      <td>1</td>\n",
              "      <td>...</td>\n",
              "      <td>0.294814</td>\n",
              "      <td>0.0</td>\n",
              "      <td>0.0</td>\n",
              "      <td>0.0</td>\n",
              "      <td>0.0</td>\n",
              "      <td>0.353075</td>\n",
              "      <td>0.0</td>\n",
              "      <td>0.0</td>\n",
              "      <td>0.35211</td>\n",
              "      <td>CaTiO3</td>\n",
              "    </tr>\n",
              "  </tbody>\n",
              "</table>\n",
              "<p>5 rows × 21 columns</p>\n",
              "</div>"
            ],
            "text/plain": [
              "   Mg  Ni  Al  Fe   Ca  Cr  P  S   Ti  Si       ...        Ca_weight  \\\n",
              "0   0   0   0   0  171   0  4  0  459   0       ...         0.294814   \n",
              "1   0   0   0   0  148   3  2  0  462   1       ...         0.294814   \n",
              "2   0   2   0   0  141   6  3  0  455   2       ...         0.294814   \n",
              "3   1   2   2   0  122   6  3  0  502   0       ...         0.294814   \n",
              "4   0   0   0   0  138   5  5  0  457   1       ...         0.294814   \n",
              "\n",
              "   Fe_weight  Mg_weight  Mn_weight  Ni_weight  O_weight  S_weight  Si_weight  \\\n",
              "0        0.0        0.0        0.0        0.0  0.353075       0.0        0.0   \n",
              "1        0.0        0.0        0.0        0.0  0.353075       0.0        0.0   \n",
              "2        0.0        0.0        0.0        0.0  0.353075       0.0        0.0   \n",
              "3        0.0        0.0        0.0        0.0  0.353075       0.0        0.0   \n",
              "4        0.0        0.0        0.0        0.0  0.353075       0.0        0.0   \n",
              "\n",
              "   Ti_weight  mineral_formula  \n",
              "0    0.35211           CaTiO3  \n",
              "1    0.35211           CaTiO3  \n",
              "2    0.35211           CaTiO3  \n",
              "3    0.35211           CaTiO3  \n",
              "4    0.35211           CaTiO3  \n",
              "\n",
              "[5 rows x 21 columns]"
            ]
          },
          "metadata": {
            "tags": []
          },
          "execution_count": 91
        }
      ]
    },
    {
      "metadata": {
        "id": "HZPFDw6NWpXn",
        "colab_type": "code",
        "colab": {
          "base_uri": "https://localhost:8080/",
          "height": 374
        },
        "outputId": "a285735d-8420-4563-a078-52d1dc35f58e"
      },
      "cell_type": "code",
      "source": [
        "elements = {}\n",
        "\n",
        "for col in ['Mg', 'Ni', 'Al', 'Fe', 'Ca', 'Cr', 'P', 'S', 'Ti', 'Si']:\n",
        "  try:\n",
        "    x = standards_df['%s_weight' % col].reshape(-1,1)\n",
        "    y = standards_df[col]\n",
        "    \n",
        "    m = LinearRegression()\n",
        "    m.fit(x,y)\n",
        "    print(col, m.coef_[0], m.intercept_)\n",
        "    d = {\n",
        "        'element': col,\n",
        "        'coef': m.coef_[0],\n",
        "        'intercept': m.intercept_,\n",
        "        'std': standards_df[standards_df['%s_weight' % col] > .01][col].std(),\n",
        "        'noise': standards_df[standards_df['%s_weight' % col] == 0][col].std()\n",
        "    }\n",
        "    elements[col] = d\n",
        "  except:\n",
        "    pass"
      ],
      "execution_count": 93,
      "outputs": [
        {
          "output_type": "stream",
          "text": [
            "Mg 840.1532511324668 0.1436064531510226\n",
            "Ni 302.0864913360913 0.5339756727391531\n",
            "Fe 311.4356452476751 -0.18536195985906545\n",
            "Ca 461.2234598579972 0.28230528466584914\n",
            "S 210.310447449412 0.01002271126765919\n",
            "Ti 1279.045019042139 3.850835728870237\n",
            "Si 1012.3924348641195 0.8699038385122613\n"
          ],
          "name": "stdout"
        },
        {
          "output_type": "stream",
          "text": [
            "/usr/local/lib/python3.6/dist-packages/ipykernel_launcher.py:5: FutureWarning: reshape is deprecated and will raise in a subsequent release. Please use .values.reshape(...) instead\n",
            "  \"\"\"\n",
            "/usr/local/lib/python3.6/dist-packages/ipykernel_launcher.py:5: FutureWarning: reshape is deprecated and will raise in a subsequent release. Please use .values.reshape(...) instead\n",
            "  \"\"\"\n",
            "/usr/local/lib/python3.6/dist-packages/ipykernel_launcher.py:5: FutureWarning: reshape is deprecated and will raise in a subsequent release. Please use .values.reshape(...) instead\n",
            "  \"\"\"\n",
            "/usr/local/lib/python3.6/dist-packages/ipykernel_launcher.py:5: FutureWarning: reshape is deprecated and will raise in a subsequent release. Please use .values.reshape(...) instead\n",
            "  \"\"\"\n",
            "/usr/local/lib/python3.6/dist-packages/ipykernel_launcher.py:5: FutureWarning: reshape is deprecated and will raise in a subsequent release. Please use .values.reshape(...) instead\n",
            "  \"\"\"\n",
            "/usr/local/lib/python3.6/dist-packages/ipykernel_launcher.py:5: FutureWarning: reshape is deprecated and will raise in a subsequent release. Please use .values.reshape(...) instead\n",
            "  \"\"\"\n",
            "/usr/local/lib/python3.6/dist-packages/ipykernel_launcher.py:5: FutureWarning: reshape is deprecated and will raise in a subsequent release. Please use .values.reshape(...) instead\n",
            "  \"\"\"\n"
          ],
          "name": "stderr"
        }
      ]
    },
    {
      "metadata": {
        "id": "xPJkS464aCCR",
        "colab_type": "code",
        "colab": {
          "base_uri": "https://localhost:8080/",
          "height": 612
        },
        "outputId": "b0c3e9e0-687c-4007-cc1b-ae844364e32c"
      },
      "cell_type": "code",
      "source": [
        "elements"
      ],
      "execution_count": 37,
      "outputs": [
        {
          "output_type": "execute_result",
          "data": {
            "text/plain": [
              "{'Ca': {'coef': 461.2234598579972,\n",
              "  'element': 'Ca',\n",
              "  'intercept': 0.28230528466584914,\n",
              "  'noise': 0.7839330547099527,\n",
              "  'std': 11.257305019123955},\n",
              " 'Fe': {'coef': 311.4356452476751,\n",
              "  'element': 'Fe',\n",
              "  'intercept': -0.18536195985906545,\n",
              "  'noise': 1.1155958908410166,\n",
              "  'std': 106.4856160349156},\n",
              " 'Mg': {'coef': 840.1532511324668,\n",
              "  'element': 'Mg',\n",
              "  'intercept': 0.1436064531510226,\n",
              "  'noise': 0.4296300849187811,\n",
              "  'std': 13.785308695058726},\n",
              " 'Ni': {'coef': 302.0864913360913,\n",
              "  'element': 'Ni',\n",
              "  'intercept': 0.5339756727391531,\n",
              "  'noise': 1.329300610782946,\n",
              "  'std': 52.85466500629178},\n",
              " 'S': {'coef': 210.310447449412,\n",
              "  'element': 'S',\n",
              "  'intercept': 0.01002271126765919,\n",
              "  'noise': 0.16686134572121558,\n",
              "  'std': 8.823133419855987},\n",
              " 'Si': {'coef': 1012.3924348641195,\n",
              "  'element': 'Si',\n",
              "  'intercept': 0.8699038385122613,\n",
              "  'noise': 1.2343527334863502,\n",
              "  'std': 12.817817389598126},\n",
              " 'Ti': {'coef': 1279.045019042139,\n",
              "  'element': 'Ti',\n",
              "  'intercept': 3.850835728870237,\n",
              "  'noise': 2.206258503945934,\n",
              "  'std': 153.34264365759503}}"
            ]
          },
          "metadata": {
            "tags": []
          },
          "execution_count": 37
        }
      ]
    },
    {
      "metadata": {
        "id": "mYsrRUaAXrsP",
        "colab_type": "code",
        "colab": {}
      },
      "cell_type": "code",
      "source": [
        "#targets = ['']\n",
        "\n",
        "\n",
        "#to_dict(periodictable.formula('NiS').mass_fraction)\n",
        "\n",
        "targets = [\n",
        "    {'type': 'formula', 'formula': 'NiS', 'name': 'Millerite'},\n",
        "    {'type': 'formula', 'formula': 'FeS', 'name': 'Troilite'},\n",
        "    {'type': 'formula', 'formula': 'FeNiS', 'name': 'Pentlandite'},\n",
        "    {'type': 'formula', 'formula': 'Ca2Si2O6', 'name': 'Ca2Si2O6'},\n",
        "    {'type': 'formula', 'formula': 'CaAl2Si2O8', 'name': 'CaAl2Si2O8'},\n",
        "    {'type': 'formula', 'formula': 'CaMgSi2O6', 'name': 'Diopside'},\n",
        "    {'type': 'formula', 'formula': 'NaAlSi3O8', 'name': 'Albite'},\n",
        "    {'type': 'variable', 'name': 'Olivine', 'formula': [\n",
        "        {'type': 'choice', 'elements': [('Fe', (0, 1)), ('Mg', (0, 1))], 'quantity': 2},\n",
        "        {'type': 'fixed', 'elements': 'SiO4'}\n",
        "    ]},\n",
        "    {'type': 'variable', 'name': 'Pyroxene', 'formula': [\n",
        "        {'type': 'choice', 'elements': [('Fe', (0, 1)), ('Mg', (0, 1))], 'quantity': 1},\n",
        "        {'type': 'fixed', 'elements': 'SiO3'}\n",
        "    ]},\n",
        "    {'type': 'variable', 'name': 'Taenite', 'formula': [\n",
        "        {'type': 'choice', 'elements': [('Fe', (.5, .6)), ('Ni', (.4, .5))], 'quantity': 1},\n",
        "    ]},\n",
        "    {'type': 'variable', 'name': 'Kamacite', 'formula': [\n",
        "        {'type': 'choice', 'elements': [('Fe', (.9, .9)), ('Ni', (.1, .1))], 'quantity': 1},\n",
        "    ]}\n",
        "    \n",
        "]"
      ],
      "execution_count": 0,
      "outputs": []
    },
    {
      "metadata": {
        "id": "fi2HRoomdH9p",
        "colab_type": "code",
        "colab": {
          "base_uri": "https://localhost:8080/",
          "height": 85
        },
        "outputId": "b662e7e0-ed7a-4554-c53d-e3928fe61b37"
      },
      "cell_type": "code",
      "source": [
        ":periodictable.elements.Fe.mass, periodictable.elements.S.mass, periodictable.formula('FeS').mass_fraction, 55.845/(55.845 + 32.065)"
      ],
      "execution_count": 48,
      "outputs": [
        {
          "output_type": "execute_result",
          "data": {
            "text/plain": [
              "(55.845,\n",
              " 32.065,\n",
              " {Fe: 0.6352519622341031, S: 0.3647480377658969},\n",
              " 0.6352519622341031)"
            ]
          },
          "metadata": {
            "tags": []
          },
          "execution_count": 48
        }
      ]
    },
    {
      "metadata": {
        "id": "O7HeEkKGhRYj",
        "colab_type": "code",
        "colab": {
          "base_uri": "https://localhost:8080/",
          "height": 34
        },
        "outputId": "579145d7-03a0-4bd5-b38b-9a68ee81ac0c"
      },
      "cell_type": "code",
      "source": [
        "np.random.uniform(.9,.9)"
      ],
      "execution_count": 73,
      "outputs": [
        {
          "output_type": "execute_result",
          "data": {
            "text/plain": [
              "0.9"
            ]
          },
          "metadata": {
            "tags": []
          },
          "execution_count": 73
        }
      ]
    },
    {
      "metadata": {
        "id": "NUpEyFw7fvob",
        "colab_type": "code",
        "colab": {
          "base_uri": "https://localhost:8080/",
          "height": 34
        },
        "outputId": "343321e7-2e5b-441e-bb86-4a6aae5f3efd"
      },
      "cell_type": "code",
      "source": [
        "q = periodictable.formula('FeS')\n",
        "q.mass_fraction\n",
        "\n",
        "def get_formula_weights(formula):\n",
        "  f = periodictable.formula(formula)\n",
        "  mass = f.mass\n",
        "  fractions = f.mass_fraction\n",
        "  \n",
        "  return dict([(str(e), mass*f) for e,f in fractions.items()])\n",
        "\n",
        "get_formula_weights('FeS')"
      ],
      "execution_count": 58,
      "outputs": [
        {
          "output_type": "execute_result",
          "data": {
            "text/plain": [
              "{'Fe': 55.845, 'S': 32.065}"
            ]
          },
          "metadata": {
            "tags": []
          },
          "execution_count": 58
        }
      ]
    },
    {
      "metadata": {
        "id": "3-PiMCPkfAIW",
        "colab_type": "code",
        "colab": {
          "base_uri": "https://localhost:8080/",
          "height": 442
        },
        "outputId": "2c3cca73-9853-478c-9252-69b1c9a353d7"
      },
      "cell_type": "code",
      "source": [
        "def to_dict(d):\n",
        "  return dict([(str(e), w) for e,w in d.items()])\n",
        "\n",
        "def get_formula_weights(formula):\n",
        "  f = periodictable.formula(formula)\n",
        "  mass = f.mass\n",
        "  fractions = f.mass_fraction\n",
        "  \n",
        "  return dict([(str(e), mass*f) for e,f in fractions.items()])\n",
        "\n",
        "def get_formula_percents(formula):\n",
        "  return to_dict(periodictable.formula(formula).mass_fraction)\n",
        "\n",
        "def get_variable_percents(formula):\n",
        "  weights = {}\n",
        "  \n",
        "  def add_weight(element, mass):\n",
        "    if element in weights:\n",
        "      weights[element] += mass\n",
        "    else:\n",
        "      weights[element] = mass\n",
        "  \n",
        "  for component in formula:\n",
        "    if component['type'] == 'choice':\n",
        "      elements = component['elements']\n",
        "      interval = elements[0][1]\n",
        "      frac = np.random.uniform(*interval)\n",
        "      add_weight(\n",
        "          elements[0][0],\n",
        "          periodictable.formula(elements[0][0]).mass * frac * component['quantity']\n",
        "      )\n",
        "      add_weight(\n",
        "          elements[1][0],\n",
        "          periodictable.formula(elements[1][0]).mass * (1 - frac) * component['quantity']\n",
        "      )\n",
        "    elif component['type'] == 'fixed':\n",
        "      for e,m in get_formula_weights(component['elements']).items():\n",
        "        add_weight(e,m)\n",
        "  \n",
        "  total = sum(weights.values())\n",
        "  \n",
        "  return dict([(e, m/total) for e,m in weights.items()])\n",
        "      \n",
        "\n",
        "def simulate_mineral(name, weights):\n",
        "  intensities = {'mineral': name}\n",
        "  for e in elements.values():\n",
        "    v = e['intercept']\n",
        "    v += np.random.normal(scale=e['noise'])\n",
        "    if e['element'] in weights:\n",
        "      v += e['coef']*weights[e['element']]\n",
        "      v += np.random.normal(scale=e['std'])\n",
        "      \n",
        "    v = int(np.clip(v, 0, None))\n",
        "    intensities[e['element']] = v\n",
        "\n",
        "  return intensities\n",
        "  \n",
        "'''for t in targets:\n",
        "  if t['type'] == 'formula':\n",
        "    print(simulate_mineral(t['name'], get_formula_percents(t['formula'])))\n",
        "  elif t['type'] == 'variable':\n",
        "    for i in range(5):\n",
        "      print(simulate_mineral(t['name'], get_variable_percents(t['formula'])))'''\n"
      ],
      "execution_count": 96,
      "outputs": [
        {
          "output_type": "stream",
          "text": [
            "{'mineral': 'Millerite', 'Mg': 0, 'Ni': 235, 'Fe': 0, 'Ca': 0, 'S': 77, 'Ti': 3, 'Si': 0}\n",
            "{'mineral': 'Troilite', 'Mg': 0, 'Ni': 0, 'Fe': 161, 'Ca': 1, 'S': 86, 'Ti': 0, 'Si': 0}\n",
            "{'mineral': 'Pentlandite', 'Mg': 0, 'Ni': 109, 'Fe': 0, 'Ca': 0, 'S': 49, 'Ti': 5, 'Si': 0}\n",
            "{'mineral': 'Ca2Si2O6', 'Mg': 0, 'Ni': 1, 'Fe': 0, 'Ca': 155, 'S': 0, 'Ti': 4, 'Si': 247}\n",
            "{'mineral': 'CaAl2Si2O8', 'Mg': 0, 'Ni': 2, 'Fe': 0, 'Ca': 68, 'S': 0, 'Ti': 1, 'Si': 196}\n",
            "{'mineral': 'Olivine', 'Mg': 85, 'Ni': 0, 'Fe': 28, 'Ca': 0, 'S': 0, 'Ti': 3, 'Si': 154}\n",
            "{'mineral': 'Olivine', 'Mg': 131, 'Ni': 0, 'Fe': 5, 'Ca': 0, 'S': 0, 'Ti': 4, 'Si': 160}\n",
            "{'mineral': 'Olivine', 'Mg': 162, 'Ni': 2, 'Fe': 74, 'Ca': 2, 'S': 0, 'Ti': 6, 'Si': 192}\n",
            "{'mineral': 'Olivine', 'Mg': 222, 'Ni': 1, 'Fe': 33, 'Ca': 1, 'S': 0, 'Ti': 6, 'Si': 194}\n",
            "{'mineral': 'Olivine', 'Mg': 182, 'Ni': 0, 'Fe': 139, 'Ca': 0, 'S': 0, 'Ti': 3, 'Si': 177}\n",
            "{'mineral': 'Pyroxene', 'Mg': 45, 'Ni': 0, 'Fe': 26, 'Ca': 0, 'S': 0, 'Ti': 7, 'Si': 230}\n",
            "{'mineral': 'Pyroxene', 'Mg': 125, 'Ni': 0, 'Fe': 160, 'Ca': 1, 'S': 0, 'Ti': 1, 'Si': 250}\n",
            "{'mineral': 'Pyroxene', 'Mg': 161, 'Ni': 0, 'Fe': 0, 'Ca': 0, 'S': 0, 'Ti': 3, 'Si': 268}\n",
            "{'mineral': 'Pyroxene', 'Mg': 64, 'Ni': 3, 'Fe': 84, 'Ca': 0, 'S': 0, 'Ti': 6, 'Si': 245}\n",
            "{'mineral': 'Pyroxene', 'Mg': 43, 'Ni': 0, 'Fe': 211, 'Ca': 0, 'S': 0, 'Ti': 6, 'Si': 231}\n",
            "{'mineral': 'Taenite', 'Mg': 0, 'Ni': 173, 'Fe': 45, 'Ca': 0, 'S': 0, 'Ti': 3, 'Si': 0}\n",
            "{'mineral': 'Taenite', 'Mg': 0, 'Ni': 116, 'Fe': 217, 'Ca': 0, 'S': 0, 'Ti': 3, 'Si': 2}\n",
            "{'mineral': 'Taenite', 'Mg': 0, 'Ni': 163, 'Fe': 45, 'Ca': 0, 'S': 0, 'Ti': 4, 'Si': 1}\n",
            "{'mineral': 'Taenite', 'Mg': 0, 'Ni': 172, 'Fe': 0, 'Ca': 0, 'S': 0, 'Ti': 3, 'Si': 1}\n",
            "{'mineral': 'Taenite', 'Mg': 0, 'Ni': 201, 'Fe': 301, 'Ca': 0, 'S': 0, 'Ti': 4, 'Si': 1}\n",
            "{'mineral': 'Kamacite', 'Mg': 0, 'Ni': 80, 'Fe': 345, 'Ca': 0, 'S': 0, 'Ti': 1, 'Si': 2}\n",
            "{'mineral': 'Kamacite', 'Mg': 0, 'Ni': 0, 'Fe': 587, 'Ca': 0, 'S': 0, 'Ti': 1, 'Si': 2}\n",
            "{'mineral': 'Kamacite', 'Mg': 0, 'Ni': 143, 'Fe': 379, 'Ca': 0, 'S': 0, 'Ti': 3, 'Si': 0}\n",
            "{'mineral': 'Kamacite', 'Mg': 0, 'Ni': 49, 'Fe': 208, 'Ca': 0, 'S': 0, 'Ti': 1, 'Si': 1}\n",
            "{'mineral': 'Kamacite', 'Mg': 0, 'Ni': 51, 'Fe': 273, 'Ca': 1, 'S': 0, 'Ti': 5, 'Si': 2}\n"
          ],
          "name": "stdout"
        }
      ]
    },
    {
      "metadata": {
        "id": "hSc0FQigj0zn",
        "colab_type": "code",
        "colab": {}
      },
      "cell_type": "code",
      "source": [
        "samples = []\n",
        "\n",
        "N = 10000\n",
        "M = 10\n",
        "\n",
        "for t in targets:\n",
        "  if t['type'] == 'formula':\n",
        "    for i in range(N):\n",
        "      samples.append(simulate_mineral(t['name'], get_formula_percents(t['formula'])))\n",
        "  elif t['type'] == 'variable':\n",
        "    for i in range(int(N/M)):\n",
        "      percents = get_variable_percents(t['formula'])\n",
        "      for j in range(M):\n",
        "        samples.append(simulate_mineral(t['name'], percents))"
      ],
      "execution_count": 0,
      "outputs": []
    },
    {
      "metadata": {
        "id": "CNAldnrikTXF",
        "colab_type": "code",
        "colab": {
          "base_uri": "https://localhost:8080/",
          "height": 204
        },
        "outputId": "27da17bf-1b9a-4d5c-c5ca-163934aaf821"
      },
      "cell_type": "code",
      "source": [
        "samples_df = pd.DataFrame.from_records(samples)\n",
        "samples_df.head()"
      ],
      "execution_count": 113,
      "outputs": [
        {
          "output_type": "execute_result",
          "data": {
            "text/html": [
              "<div>\n",
              "<style scoped>\n",
              "    .dataframe tbody tr th:only-of-type {\n",
              "        vertical-align: middle;\n",
              "    }\n",
              "\n",
              "    .dataframe tbody tr th {\n",
              "        vertical-align: top;\n",
              "    }\n",
              "\n",
              "    .dataframe thead th {\n",
              "        text-align: right;\n",
              "    }\n",
              "</style>\n",
              "<table border=\"1\" class=\"dataframe\">\n",
              "  <thead>\n",
              "    <tr style=\"text-align: right;\">\n",
              "      <th></th>\n",
              "      <th>Ca</th>\n",
              "      <th>Fe</th>\n",
              "      <th>Mg</th>\n",
              "      <th>Ni</th>\n",
              "      <th>S</th>\n",
              "      <th>Si</th>\n",
              "      <th>Ti</th>\n",
              "      <th>mineral</th>\n",
              "    </tr>\n",
              "  </thead>\n",
              "  <tbody>\n",
              "    <tr>\n",
              "      <th>0</th>\n",
              "      <td>0</td>\n",
              "      <td>0</td>\n",
              "      <td>0</td>\n",
              "      <td>181</td>\n",
              "      <td>88</td>\n",
              "      <td>0</td>\n",
              "      <td>2</td>\n",
              "      <td>Millerite</td>\n",
              "    </tr>\n",
              "    <tr>\n",
              "      <th>1</th>\n",
              "      <td>0</td>\n",
              "      <td>0</td>\n",
              "      <td>0</td>\n",
              "      <td>167</td>\n",
              "      <td>81</td>\n",
              "      <td>1</td>\n",
              "      <td>4</td>\n",
              "      <td>Millerite</td>\n",
              "    </tr>\n",
              "    <tr>\n",
              "      <th>2</th>\n",
              "      <td>0</td>\n",
              "      <td>0</td>\n",
              "      <td>0</td>\n",
              "      <td>167</td>\n",
              "      <td>77</td>\n",
              "      <td>1</td>\n",
              "      <td>5</td>\n",
              "      <td>Millerite</td>\n",
              "    </tr>\n",
              "    <tr>\n",
              "      <th>3</th>\n",
              "      <td>1</td>\n",
              "      <td>0</td>\n",
              "      <td>0</td>\n",
              "      <td>222</td>\n",
              "      <td>75</td>\n",
              "      <td>1</td>\n",
              "      <td>4</td>\n",
              "      <td>Millerite</td>\n",
              "    </tr>\n",
              "    <tr>\n",
              "      <th>4</th>\n",
              "      <td>0</td>\n",
              "      <td>0</td>\n",
              "      <td>0</td>\n",
              "      <td>158</td>\n",
              "      <td>66</td>\n",
              "      <td>1</td>\n",
              "      <td>9</td>\n",
              "      <td>Millerite</td>\n",
              "    </tr>\n",
              "  </tbody>\n",
              "</table>\n",
              "</div>"
            ],
            "text/plain": [
              "   Ca  Fe  Mg   Ni   S  Si  Ti    mineral\n",
              "0   0   0   0  181  88   0   2  Millerite\n",
              "1   0   0   0  167  81   1   4  Millerite\n",
              "2   0   0   0  167  77   1   5  Millerite\n",
              "3   1   0   0  222  75   1   4  Millerite\n",
              "4   0   0   0  158  66   1   9  Millerite"
            ]
          },
          "metadata": {
            "tags": []
          },
          "execution_count": 113
        }
      ]
    },
    {
      "metadata": {
        "id": "l8i5kapRlFDz",
        "colab_type": "code",
        "colab": {}
      },
      "cell_type": "code",
      "source": [
        "samples_df.to_csv('simulated_mineral_samples_3.csv', index=False)"
      ],
      "execution_count": 0,
      "outputs": []
    },
    {
      "metadata": {
        "id": "M_-KC3dhlTJz",
        "colab_type": "code",
        "colab": {}
      },
      "cell_type": "code",
      "source": [
        "X = samples_df[['Ca', 'Fe', 'Mg', 'Ni', 'S', 'Si', 'Ti']].values\n",
        "Y = samples_df['mineral']\n",
        "\n",
        "X_train, X_test, Y_train, Y_test = train_test_split(X, Y, test_size=.2)"
      ],
      "execution_count": 0,
      "outputs": []
    },
    {
      "metadata": {
        "id": "BPMYQLh0lgRA",
        "colab_type": "code",
        "colab": {
          "base_uri": "https://localhost:8080/",
          "height": 34
        },
        "outputId": "74599703-4635-49ec-c90a-0702bd99900d"
      },
      "cell_type": "code",
      "source": [
        "#mod = SVC(kernel='rbf', max_iter=300)\n",
        "mod = RandomForestClassifier(100, max_depth=5, n_jobs=-1)\n",
        "mod.fit(X_train, Y_train)\n",
        "(mod.predict(X_train) == Y_train).mean(), (mod.predict(X_test) == Y_test).mean()"
      ],
      "execution_count": 116,
      "outputs": [
        {
          "output_type": "execute_result",
          "data": {
            "text/plain": [
              "(0.9685681818181818, 0.9674545454545455)"
            ]
          },
          "metadata": {
            "tags": []
          },
          "execution_count": 116
        }
      ]
    },
    {
      "metadata": {
        "id": "aVNS4b4sW_sG",
        "colab_type": "code",
        "colab": {}
      },
      "cell_type": "code",
      "source": [
        "# Define where your images are\n",
        "\n",
        "root = Path('gdrive/My Drive/meteorite_mineral_mapper')\n",
        "image_path = root / 'dataset_1_opaques'"
      ],
      "execution_count": 0,
      "outputs": []
    },
    {
      "metadata": {
        "id": "jdh6Hha1Xiqf",
        "colab_type": "code",
        "colab": {
          "base_uri": "https://localhost:8080/",
          "height": 1207
        },
        "outputId": "8ee659e1-ba25-4184-eae4-6e1934680aa5"
      },
      "cell_type": "code",
      "source": [
        "images = [{'element': s.name.split('_')[2].split('.')[0], 'image': imread(s)} for s in image_path.glob('obj2_32bt_*')]\n",
        "images"
      ],
      "execution_count": 120,
      "outputs": [
        {
          "output_type": "execute_result",
          "data": {
            "text/plain": [
              "[{'element': 'Al', 'image': array([[ 9, 12,  3, ...,  0,  5,  7],\n",
              "         [15, 12,  7, ...,  4,  3,  2],\n",
              "         [13, 15, 11, ...,  3,  4,  3],\n",
              "         ...,\n",
              "         [ 0,  0,  0, ..., 10,  8,  3],\n",
              "         [ 0,  2,  2, ..., 10,  9,  5],\n",
              "         [ 0,  0,  0, ..., 14,  6,  4]], dtype=int32)},\n",
              " {'element': 'Ca', 'image': array([[12, 12, 11, ...,  5,  4, 12],\n",
              "         [ 4,  4, 15, ...,  4,  8,  0],\n",
              "         [ 6,  6, 18, ...,  5,  3,  7],\n",
              "         ...,\n",
              "         [ 0,  3,  0, ..., 10,  7,  4],\n",
              "         [ 0,  0,  0, ...,  3,  7,  2],\n",
              "         [ 2,  0,  2, ...,  7,  3,  3]], dtype=int32)},\n",
              " {'element': 'Cr', 'image': array([[ 5, 10,  9, ...,  7, 12, 12],\n",
              "         [ 6,  3,  7, ..., 17, 10, 15],\n",
              "         [14, 12,  3, ..., 12,  6, 20],\n",
              "         ...,\n",
              "         [11,  7,  8, ..., 11, 10, 10],\n",
              "         [10,  5, 12, ...,  6,  5, 11],\n",
              "         [ 7, 13,  7, ...,  7,  6, 11]], dtype=int32)},\n",
              " {'element': 'Fe', 'image': array([[49, 44, 45, ..., 19, 21, 17],\n",
              "         [38, 42, 48, ..., 11, 17, 23],\n",
              "         [52, 38, 37, ..., 20, 17, 20],\n",
              "         ...,\n",
              "         [48, 33, 30, ..., 41, 41, 41],\n",
              "         [47, 46, 34, ..., 42, 54, 43],\n",
              "         [56, 32, 41, ..., 56, 51, 40]], dtype=int32)},\n",
              " {'element': 'Mg', 'image': array([[ 66,  76,  90, ..., 167, 171, 150],\n",
              "         [ 49,  62,  90, ..., 159, 174, 148],\n",
              "         [ 70,  72,  64, ..., 186, 159, 181],\n",
              "         ...,\n",
              "         [239, 201, 196, ..., 114, 133, 186],\n",
              "         [216, 162, 158, ...,  90, 127, 186],\n",
              "         [188, 149, 161, ...,  79, 121, 138]], dtype=int32)},\n",
              " {'element': 'Ni', 'image': array([[2, 0, 2, ..., 0, 0, 0],\n",
              "         [0, 0, 0, ..., 0, 2, 0],\n",
              "         [0, 0, 0, ..., 0, 0, 3],\n",
              "         ...,\n",
              "         [2, 2, 2, ..., 3, 2, 0],\n",
              "         [0, 0, 0, ..., 3, 2, 0],\n",
              "         [0, 0, 0, ..., 4, 4, 0]], dtype=int32)},\n",
              " {'element': 'P', 'image': array([[0, 0, 3, ..., 0, 0, 0],\n",
              "         [0, 0, 3, ..., 0, 0, 2],\n",
              "         [0, 0, 0, ..., 0, 2, 0],\n",
              "         ...,\n",
              "         [0, 0, 0, ..., 0, 3, 2],\n",
              "         [3, 3, 0, ..., 3, 3, 4],\n",
              "         [2, 0, 0, ..., 4, 6, 0]], dtype=int32)},\n",
              " {'element': 'S', 'image': array([[0, 0, 0, ..., 0, 0, 0],\n",
              "         [0, 0, 0, ..., 0, 0, 0],\n",
              "         [0, 0, 0, ..., 0, 0, 0],\n",
              "         ...,\n",
              "         [0, 0, 0, ..., 0, 0, 2],\n",
              "         [0, 0, 0, ..., 0, 4, 0],\n",
              "         [0, 0, 0, ..., 0, 2, 0]], dtype=int32)},\n",
              " {'element': 'Si', 'image': array([[330, 226, 221, ..., 263, 271, 289],\n",
              "         [344, 215, 210, ..., 297, 288, 286],\n",
              "         [307, 231, 183, ..., 275, 281, 285],\n",
              "         ...,\n",
              "         [194, 164, 191, ..., 227, 196, 277],\n",
              "         [191, 161, 171, ..., 221, 196, 257],\n",
              "         [193, 165, 171, ..., 209, 186, 225]], dtype=int32)},\n",
              " {'element': 'Ti', 'image': array([[3, 0, 0, ..., 0, 3, 0],\n",
              "         [0, 4, 4, ..., 4, 0, 3],\n",
              "         [2, 3, 3, ..., 2, 4, 2],\n",
              "         ...,\n",
              "         [0, 0, 2, ..., 8, 4, 2],\n",
              "         [3, 2, 4, ..., 5, 5, 2],\n",
              "         [0, 3, 2, ..., 9, 3, 2]], dtype=int32)}]"
            ]
          },
          "metadata": {
            "tags": []
          },
          "execution_count": 120
        }
      ]
    },
    {
      "metadata": {
        "id": "kSKlHezeZwRg",
        "colab_type": "code",
        "colab": {
          "base_uri": "https://localhost:8080/",
          "height": 204
        },
        "outputId": "9c1911bf-e5bf-40c4-cdcd-7acf871fa38b"
      },
      "cell_type": "code",
      "source": [
        "columns = []\n",
        "pixels = []\n",
        "for element in images:\n",
        "  columns.append(element['element'])\n",
        "  pixels.append(element['image'].flatten())\n",
        "  \n",
        "image_pixels_df = pd.DataFrame(np.dstack(pixels)[0], columns=columns)\n",
        "image_pixels_df = image_pixels_df.reset_index().rename(columns={'Pho': 'P', 'Sul': 'S', 'index': 'order'})\n",
        "image_pixels_df.head()"
      ],
      "execution_count": 121,
      "outputs": [
        {
          "output_type": "execute_result",
          "data": {
            "text/html": [
              "<div>\n",
              "<style scoped>\n",
              "    .dataframe tbody tr th:only-of-type {\n",
              "        vertical-align: middle;\n",
              "    }\n",
              "\n",
              "    .dataframe tbody tr th {\n",
              "        vertical-align: top;\n",
              "    }\n",
              "\n",
              "    .dataframe thead th {\n",
              "        text-align: right;\n",
              "    }\n",
              "</style>\n",
              "<table border=\"1\" class=\"dataframe\">\n",
              "  <thead>\n",
              "    <tr style=\"text-align: right;\">\n",
              "      <th></th>\n",
              "      <th>order</th>\n",
              "      <th>Al</th>\n",
              "      <th>Ca</th>\n",
              "      <th>Cr</th>\n",
              "      <th>Fe</th>\n",
              "      <th>Mg</th>\n",
              "      <th>Ni</th>\n",
              "      <th>P</th>\n",
              "      <th>S</th>\n",
              "      <th>Si</th>\n",
              "      <th>Ti</th>\n",
              "    </tr>\n",
              "  </thead>\n",
              "  <tbody>\n",
              "    <tr>\n",
              "      <th>0</th>\n",
              "      <td>0</td>\n",
              "      <td>9</td>\n",
              "      <td>12</td>\n",
              "      <td>5</td>\n",
              "      <td>49</td>\n",
              "      <td>66</td>\n",
              "      <td>2</td>\n",
              "      <td>0</td>\n",
              "      <td>0</td>\n",
              "      <td>330</td>\n",
              "      <td>3</td>\n",
              "    </tr>\n",
              "    <tr>\n",
              "      <th>1</th>\n",
              "      <td>1</td>\n",
              "      <td>12</td>\n",
              "      <td>12</td>\n",
              "      <td>10</td>\n",
              "      <td>44</td>\n",
              "      <td>76</td>\n",
              "      <td>0</td>\n",
              "      <td>0</td>\n",
              "      <td>0</td>\n",
              "      <td>226</td>\n",
              "      <td>0</td>\n",
              "    </tr>\n",
              "    <tr>\n",
              "      <th>2</th>\n",
              "      <td>2</td>\n",
              "      <td>3</td>\n",
              "      <td>11</td>\n",
              "      <td>9</td>\n",
              "      <td>45</td>\n",
              "      <td>90</td>\n",
              "      <td>2</td>\n",
              "      <td>3</td>\n",
              "      <td>0</td>\n",
              "      <td>221</td>\n",
              "      <td>0</td>\n",
              "    </tr>\n",
              "    <tr>\n",
              "      <th>3</th>\n",
              "      <td>3</td>\n",
              "      <td>0</td>\n",
              "      <td>12</td>\n",
              "      <td>10</td>\n",
              "      <td>53</td>\n",
              "      <td>105</td>\n",
              "      <td>0</td>\n",
              "      <td>0</td>\n",
              "      <td>0</td>\n",
              "      <td>205</td>\n",
              "      <td>4</td>\n",
              "    </tr>\n",
              "    <tr>\n",
              "      <th>4</th>\n",
              "      <td>4</td>\n",
              "      <td>2</td>\n",
              "      <td>5</td>\n",
              "      <td>11</td>\n",
              "      <td>41</td>\n",
              "      <td>85</td>\n",
              "      <td>0</td>\n",
              "      <td>0</td>\n",
              "      <td>0</td>\n",
              "      <td>224</td>\n",
              "      <td>3</td>\n",
              "    </tr>\n",
              "  </tbody>\n",
              "</table>\n",
              "</div>"
            ],
            "text/plain": [
              "   order  Al  Ca  Cr  Fe   Mg  Ni  P  S   Si  Ti\n",
              "0      0   9  12   5  49   66   2  0  0  330   3\n",
              "1      1  12  12  10  44   76   0  0  0  226   0\n",
              "2      2   3  11   9  45   90   2  3  0  221   0\n",
              "3      3   0  12  10  53  105   0  0  0  205   4\n",
              "4      4   2   5  11  41   85   0  0  0  224   3"
            ]
          },
          "metadata": {
            "tags": []
          },
          "execution_count": 121
        }
      ]
    },
    {
      "metadata": {
        "id": "Mnvn9iI9_NlM",
        "colab_type": "code",
        "colab": {}
      },
      "cell_type": "code",
      "source": [
        "X = image_pixels_df[['Ca', 'Fe', 'Mg', 'Ni', 'S', 'Si', 'Ti']].values\n",
        "image_pixels_df['predicted_element'] = mod.predict(X)"
      ],
      "execution_count": 0,
      "outputs": []
    },
    {
      "metadata": {
        "id": "13DPqycP_Qzk",
        "colab_type": "code",
        "colab": {
          "base_uri": "https://localhost:8080/",
          "height": 204
        },
        "outputId": "98400f14-0fd2-4bf6-dddf-9d2ed46d5b46"
      },
      "cell_type": "code",
      "source": [
        "\n",
        "results = image_pixels_df.merge(\n",
        "    pd.Series(mod.classes_, name='predicted_element').reset_index().rename(columns={'index': 'element_index'}),\n",
        "    on='predicted_element'\n",
        ").sort_values('order')\n",
        "results.head()"
      ],
      "execution_count": 123,
      "outputs": [
        {
          "output_type": "execute_result",
          "data": {
            "text/html": [
              "<div>\n",
              "<style scoped>\n",
              "    .dataframe tbody tr th:only-of-type {\n",
              "        vertical-align: middle;\n",
              "    }\n",
              "\n",
              "    .dataframe tbody tr th {\n",
              "        vertical-align: top;\n",
              "    }\n",
              "\n",
              "    .dataframe thead th {\n",
              "        text-align: right;\n",
              "    }\n",
              "</style>\n",
              "<table border=\"1\" class=\"dataframe\">\n",
              "  <thead>\n",
              "    <tr style=\"text-align: right;\">\n",
              "      <th></th>\n",
              "      <th>order</th>\n",
              "      <th>Al</th>\n",
              "      <th>Ca</th>\n",
              "      <th>Cr</th>\n",
              "      <th>Fe</th>\n",
              "      <th>Mg</th>\n",
              "      <th>Ni</th>\n",
              "      <th>P</th>\n",
              "      <th>S</th>\n",
              "      <th>Si</th>\n",
              "      <th>Ti</th>\n",
              "      <th>predicted_element</th>\n",
              "      <th>element_index</th>\n",
              "    </tr>\n",
              "  </thead>\n",
              "  <tbody>\n",
              "    <tr>\n",
              "      <th>0</th>\n",
              "      <td>0</td>\n",
              "      <td>9</td>\n",
              "      <td>12</td>\n",
              "      <td>5</td>\n",
              "      <td>49</td>\n",
              "      <td>66</td>\n",
              "      <td>2</td>\n",
              "      <td>0</td>\n",
              "      <td>0</td>\n",
              "      <td>330</td>\n",
              "      <td>3</td>\n",
              "      <td>Pyroxene</td>\n",
              "      <td>8</td>\n",
              "    </tr>\n",
              "    <tr>\n",
              "      <th>1</th>\n",
              "      <td>1</td>\n",
              "      <td>12</td>\n",
              "      <td>12</td>\n",
              "      <td>10</td>\n",
              "      <td>44</td>\n",
              "      <td>76</td>\n",
              "      <td>0</td>\n",
              "      <td>0</td>\n",
              "      <td>0</td>\n",
              "      <td>226</td>\n",
              "      <td>0</td>\n",
              "      <td>Pyroxene</td>\n",
              "      <td>8</td>\n",
              "    </tr>\n",
              "    <tr>\n",
              "      <th>2</th>\n",
              "      <td>2</td>\n",
              "      <td>3</td>\n",
              "      <td>11</td>\n",
              "      <td>9</td>\n",
              "      <td>45</td>\n",
              "      <td>90</td>\n",
              "      <td>2</td>\n",
              "      <td>3</td>\n",
              "      <td>0</td>\n",
              "      <td>221</td>\n",
              "      <td>0</td>\n",
              "      <td>Pyroxene</td>\n",
              "      <td>8</td>\n",
              "    </tr>\n",
              "    <tr>\n",
              "      <th>30028</th>\n",
              "      <td>3</td>\n",
              "      <td>0</td>\n",
              "      <td>12</td>\n",
              "      <td>10</td>\n",
              "      <td>53</td>\n",
              "      <td>105</td>\n",
              "      <td>0</td>\n",
              "      <td>0</td>\n",
              "      <td>0</td>\n",
              "      <td>205</td>\n",
              "      <td>4</td>\n",
              "      <td>Olivine</td>\n",
              "      <td>6</td>\n",
              "    </tr>\n",
              "    <tr>\n",
              "      <th>3</th>\n",
              "      <td>4</td>\n",
              "      <td>2</td>\n",
              "      <td>5</td>\n",
              "      <td>11</td>\n",
              "      <td>41</td>\n",
              "      <td>85</td>\n",
              "      <td>0</td>\n",
              "      <td>0</td>\n",
              "      <td>0</td>\n",
              "      <td>224</td>\n",
              "      <td>3</td>\n",
              "      <td>Pyroxene</td>\n",
              "      <td>8</td>\n",
              "    </tr>\n",
              "  </tbody>\n",
              "</table>\n",
              "</div>"
            ],
            "text/plain": [
              "       order  Al  Ca  Cr  Fe   Mg  Ni  P  S   Si  Ti predicted_element  \\\n",
              "0          0   9  12   5  49   66   2  0  0  330   3          Pyroxene   \n",
              "1          1  12  12  10  44   76   0  0  0  226   0          Pyroxene   \n",
              "2          2   3  11   9  45   90   2  3  0  221   0          Pyroxene   \n",
              "30028      3   0  12  10  53  105   0  0  0  205   4           Olivine   \n",
              "3          4   2   5  11  41   85   0  0  0  224   3          Pyroxene   \n",
              "\n",
              "       element_index  \n",
              "0                  8  \n",
              "1                  8  \n",
              "2                  8  \n",
              "30028              6  \n",
              "3                  8  "
            ]
          },
          "metadata": {
            "tags": []
          },
          "execution_count": 123
        }
      ]
    },
    {
      "metadata": {
        "id": "3PTsjzTW_Ta8",
        "colab_type": "code",
        "colab": {
          "base_uri": "https://localhost:8080/",
          "height": 924
        },
        "outputId": "2b9d964a-d077-430a-c09e-999f4307926d"
      },
      "cell_type": "code",
      "source": [
        "figure, ax = plt.subplots(figsize=(15,15))\n",
        "i = ax.imshow(\n",
        "    results['element_index'].reshape((512, 512)),\n",
        "    cmap=plt.cm.get_cmap('jet', len(mod.classes_))\n",
        ")\n",
        "cbar = figure.colorbar(i, ticks=range(len(mod.classes_)))\n",
        "cbar.ax.set_yticklabels(mod.classes_)\n",
        "ax.legend()"
      ],
      "execution_count": 124,
      "outputs": [
        {
          "output_type": "stream",
          "text": [
            "/usr/local/lib/python3.6/dist-packages/ipykernel_launcher.py:3: FutureWarning: reshape is deprecated and will raise in a subsequent release. Please use .values.reshape(...) instead\n",
            "  This is separate from the ipykernel package so we can avoid doing imports until\n",
            "No handles with labels found to put in legend.\n"
          ],
          "name": "stderr"
        },
        {
          "output_type": "execute_result",
          "data": {
            "text/plain": [
              "<matplotlib.legend.Legend at 0x7fb2685437b8>"
            ]
          },
          "metadata": {
            "tags": []
          },
          "execution_count": 124
        },
        {
          "output_type": "display_data",
          "data": {
            "image/png": "[encoded data removed]",
            "text/plain": [
              "<Figure size 1080x1080 with 2 Axes>"
            ]
          },
          "metadata": {
            "tags": []
          }
        }
      ]
    },
    {
      "metadata": {
        "id": "O-EsNJSb_W00",
        "colab_type": "code",
        "colab": {
          "base_uri": "https://localhost:8080/",
          "height": 328
        },
        "outputId": "1955e9c4-8816-4876-c8c2-27dbefc9a56e"
      },
      "cell_type": "code",
      "source": [
        "results.groupby('predicted_element').count()"
      ],
      "execution_count": 110,
      "outputs": [
        {
          "output_type": "execute_result",
          "data": {
            "text/html": [
              "<div>\n",
              "<style scoped>\n",
              "    .dataframe tbody tr th:only-of-type {\n",
              "        vertical-align: middle;\n",
              "    }\n",
              "\n",
              "    .dataframe tbody tr th {\n",
              "        vertical-align: top;\n",
              "    }\n",
              "\n",
              "    .dataframe thead th {\n",
              "        text-align: right;\n",
              "    }\n",
              "</style>\n",
              "<table border=\"1\" class=\"dataframe\">\n",
              "  <thead>\n",
              "    <tr style=\"text-align: right;\">\n",
              "      <th></th>\n",
              "      <th>order</th>\n",
              "      <th>Al</th>\n",
              "      <th>Ca</th>\n",
              "      <th>Cr</th>\n",
              "      <th>Fe</th>\n",
              "      <th>Mg</th>\n",
              "      <th>Ni</th>\n",
              "      <th>P</th>\n",
              "      <th>Si</th>\n",
              "      <th>S</th>\n",
              "      <th>Ti</th>\n",
              "      <th>element_index</th>\n",
              "    </tr>\n",
              "    <tr>\n",
              "      <th>predicted_element</th>\n",
              "      <th></th>\n",
              "      <th></th>\n",
              "      <th></th>\n",
              "      <th></th>\n",
              "      <th></th>\n",
              "      <th></th>\n",
              "      <th></th>\n",
              "      <th></th>\n",
              "      <th></th>\n",
              "      <th></th>\n",
              "      <th></th>\n",
              "      <th></th>\n",
              "    </tr>\n",
              "  </thead>\n",
              "  <tbody>\n",
              "    <tr>\n",
              "      <th>Ca2Si2O6</th>\n",
              "      <td>1</td>\n",
              "      <td>1</td>\n",
              "      <td>1</td>\n",
              "      <td>1</td>\n",
              "      <td>1</td>\n",
              "      <td>1</td>\n",
              "      <td>1</td>\n",
              "      <td>1</td>\n",
              "      <td>1</td>\n",
              "      <td>1</td>\n",
              "      <td>1</td>\n",
              "      <td>1</td>\n",
              "    </tr>\n",
              "    <tr>\n",
              "      <th>CaAl2Si2O8</th>\n",
              "      <td>2064</td>\n",
              "      <td>2064</td>\n",
              "      <td>2064</td>\n",
              "      <td>2064</td>\n",
              "      <td>2064</td>\n",
              "      <td>2064</td>\n",
              "      <td>2064</td>\n",
              "      <td>2064</td>\n",
              "      <td>2064</td>\n",
              "      <td>2064</td>\n",
              "      <td>2064</td>\n",
              "      <td>2064</td>\n",
              "    </tr>\n",
              "    <tr>\n",
              "      <th>Kamacite</th>\n",
              "      <td>42000</td>\n",
              "      <td>42000</td>\n",
              "      <td>42000</td>\n",
              "      <td>42000</td>\n",
              "      <td>42000</td>\n",
              "      <td>42000</td>\n",
              "      <td>42000</td>\n",
              "      <td>42000</td>\n",
              "      <td>42000</td>\n",
              "      <td>42000</td>\n",
              "      <td>42000</td>\n",
              "      <td>42000</td>\n",
              "    </tr>\n",
              "    <tr>\n",
              "      <th>Olivine</th>\n",
              "      <td>108295</td>\n",
              "      <td>108295</td>\n",
              "      <td>108295</td>\n",
              "      <td>108295</td>\n",
              "      <td>108295</td>\n",
              "      <td>108295</td>\n",
              "      <td>108295</td>\n",
              "      <td>108295</td>\n",
              "      <td>108295</td>\n",
              "      <td>108295</td>\n",
              "      <td>108295</td>\n",
              "      <td>108295</td>\n",
              "    </tr>\n",
              "    <tr>\n",
              "      <th>Pentlandite</th>\n",
              "      <td>30893</td>\n",
              "      <td>30893</td>\n",
              "      <td>30893</td>\n",
              "      <td>30893</td>\n",
              "      <td>30893</td>\n",
              "      <td>30893</td>\n",
              "      <td>30893</td>\n",
              "      <td>30893</td>\n",
              "      <td>30893</td>\n",
              "      <td>30893</td>\n",
              "      <td>30893</td>\n",
              "      <td>30893</td>\n",
              "    </tr>\n",
              "    <tr>\n",
              "      <th>Pyroxene</th>\n",
              "      <td>73632</td>\n",
              "      <td>73632</td>\n",
              "      <td>73632</td>\n",
              "      <td>73632</td>\n",
              "      <td>73632</td>\n",
              "      <td>73632</td>\n",
              "      <td>73632</td>\n",
              "      <td>73632</td>\n",
              "      <td>73632</td>\n",
              "      <td>73632</td>\n",
              "      <td>73632</td>\n",
              "      <td>73632</td>\n",
              "    </tr>\n",
              "    <tr>\n",
              "      <th>Taenite</th>\n",
              "      <td>3828</td>\n",
              "      <td>3828</td>\n",
              "      <td>3828</td>\n",
              "      <td>3828</td>\n",
              "      <td>3828</td>\n",
              "      <td>3828</td>\n",
              "      <td>3828</td>\n",
              "      <td>3828</td>\n",
              "      <td>3828</td>\n",
              "      <td>3828</td>\n",
              "      <td>3828</td>\n",
              "      <td>3828</td>\n",
              "    </tr>\n",
              "    <tr>\n",
              "      <th>Troilite</th>\n",
              "      <td>1431</td>\n",
              "      <td>1431</td>\n",
              "      <td>1431</td>\n",
              "      <td>1431</td>\n",
              "      <td>1431</td>\n",
              "      <td>1431</td>\n",
              "      <td>1431</td>\n",
              "      <td>1431</td>\n",
              "      <td>1431</td>\n",
              "      <td>1431</td>\n",
              "      <td>1431</td>\n",
              "      <td>1431</td>\n",
              "    </tr>\n",
              "  </tbody>\n",
              "</table>\n",
              "</div>"
            ],
            "text/plain": [
              "                    order      Al      Ca      Cr      Fe      Mg      Ni  \\\n",
              "predicted_element                                                           \n",
              "Ca2Si2O6                1       1       1       1       1       1       1   \n",
              "CaAl2Si2O8           2064    2064    2064    2064    2064    2064    2064   \n",
              "Kamacite            42000   42000   42000   42000   42000   42000   42000   \n",
              "Olivine            108295  108295  108295  108295  108295  108295  108295   \n",
              "Pentlandite         30893   30893   30893   30893   30893   30893   30893   \n",
              "Pyroxene            73632   73632   73632   73632   73632   73632   73632   \n",
              "Taenite              3828    3828    3828    3828    3828    3828    3828   \n",
              "Troilite             1431    1431    1431    1431    1431    1431    1431   \n",
              "\n",
              "                        P      Si       S      Ti  element_index  \n",
              "predicted_element                                                 \n",
              "Ca2Si2O6                1       1       1       1              1  \n",
              "CaAl2Si2O8           2064    2064    2064    2064           2064  \n",
              "Kamacite            42000   42000   42000   42000          42000  \n",
              "Olivine            108295  108295  108295  108295         108295  \n",
              "Pentlandite         30893   30893   30893   30893          30893  \n",
              "Pyroxene            73632   73632   73632   73632          73632  \n",
              "Taenite              3828    3828    3828    3828           3828  \n",
              "Troilite             1431    1431    1431    1431           1431  "
            ]
          },
          "metadata": {
            "tags": []
          },
          "execution_count": 110
        }
      ]
    },
    {
      "metadata": {
        "id": "gz4vBOBc_ubl",
        "colab_type": "code",
        "colab": {}
      },
      "cell_type": "code",
      "source": [
        ""
      ],
      "execution_count": 0,
      "outputs": []
    }
  ]
}