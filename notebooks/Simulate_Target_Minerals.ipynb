{
  "nbformat": 4,
  "nbformat_minor": 0,
  "metadata": {
    "colab": {
      "name": "Simulate Target Minerals",
      "version": "0.3.2",
      "provenance": [],
      "collapsed_sections": []
    },
    "kernelspec": {
      "name": "python3",
      "display_name": "Python 3"
    }
  },
  "cells": [
    {
      "metadata": {
        "id": "ySc3L3pBWFUI",
        "colab_type": "code",
        "colab": {
          "base_uri": "https://localhost:8080/",
          "height": 68
        },
        "outputId": "60073c5b-a100-4e42-d24e-ae47404dfe90"
      },
      "cell_type": "code",
      "source": [
        "import numpy as np\n",
        "import pandas as pd\n",
        "from skimage.io import imread, imshow\n",
        "!pip install periodictable\n",
        "import periodictable\n",
        "\n",
        "from sklearn.ensemble import RandomForestClassifier, RandomForestRegressor\n",
        "from sklearn.linear_model import SGDClassifier, SGDRegressor\n",
        "from sklearn.svm import SVC\n",
        "from sklearn.model_selection import train_test_split\n",
        "\n",
        "from pathlib import Path\n",
        "import re\n",
        "import json"
      ],
      "execution_count": 8,
      "outputs": [
        {
          "output_type": "stream",
          "text": [
            "Requirement already satisfied: periodictable in /usr/local/lib/python3.6/dist-packages (1.5.0)\n",
            "Requirement already satisfied: pyparsing in /usr/local/lib/python3.6/dist-packages (from periodictable) (2.3.1)\n",
            "Requirement already satisfied: numpy in /usr/local/lib/python3.6/dist-packages (from periodictable) (1.14.6)\n"
          ],
          "name": "stdout"
        }
      ]
    },
    {
      "metadata": {
        "id": "fM2YYQpOW5Yz",
        "colab_type": "code",
        "colab": {}
      },
      "cell_type": "code",
      "source": [
        "from sklearn.linear_model import LinearRegression"
      ],
      "execution_count": 0,
      "outputs": []
    },
    {
      "metadata": {
        "id": "1EkZPQAoWMY_",
        "colab_type": "code",
        "colab": {
          "base_uri": "https://localhost:8080/",
          "height": 122
        },
        "outputId": "ea9227fe-435f-4c4a-fac7-6e1e07682430"
      },
      "cell_type": "code",
      "source": [
        "# Only if on Google Colab\n",
        "\n",
        "from google.colab import drive\n",
        "drive.mount('/content/gdrive', force_remount=True)"
      ],
      "execution_count": 2,
      "outputs": [
        {
          "output_type": "stream",
          "text": [
            "Go to this URL in a browser: https://accounts.google.com/o/oauth2/auth?client_id=947318989803-6bn6qk8qdgf4n4g3pfee6491hc0brc4i.apps.googleusercontent.com&redirect_uri=urn%3Aietf%3Awg%3Aoauth%3A2.0%3Aoob&scope=email%20https%3A%2F%2Fwww.googleapis.com%2Fauth%2Fdocs.test%20https%3A%2F%2Fwww.googleapis.com%2Fauth%2Fdrive%20https%3A%2F%2Fwww.googleapis.com%2Fauth%2Fdrive.photos.readonly%20https%3A%2F%2Fwww.googleapis.com%2Fauth%2Fpeopleapi.readonly&response_type=code\n",
            "\n",
            "Enter your authorization code:\n",
            "··········\n",
            "Mounted at /content/gdrive\n"
          ],
          "name": "stdout"
        }
      ]
    },
    {
      "metadata": {
        "id": "TSF0dYwZWNk3",
        "colab_type": "code",
        "colab": {
          "base_uri": "https://localhost:8080/",
          "height": 204
        },
        "outputId": "5e9f3309-4092-4739-f395-a58fa636d4a5"
      },
      "cell_type": "code",
      "source": [
        "standards_df = pd.read_csv('https://raw.githubusercontent.com/HackTheSolarSystem/MineralMapping/master/challenge_data/mineral_standards.csv')\n",
        "standards_df.head(5)"
      ],
      "execution_count": 5,
      "outputs": [
        {
          "output_type": "execute_result",
          "data": {
            "text/html": [
              "<div>\n",
              "<style scoped>\n",
              "    .dataframe tbody tr th:only-of-type {\n",
              "        vertical-align: middle;\n",
              "    }\n",
              "\n",
              "    .dataframe tbody tr th {\n",
              "        vertical-align: top;\n",
              "    }\n",
              "\n",
              "    .dataframe thead th {\n",
              "        text-align: right;\n",
              "    }\n",
              "</style>\n",
              "<table border=\"1\" class=\"dataframe\">\n",
              "  <thead>\n",
              "    <tr style=\"text-align: right;\">\n",
              "      <th></th>\n",
              "      <th>Mg</th>\n",
              "      <th>Ni</th>\n",
              "      <th>Al</th>\n",
              "      <th>Fe</th>\n",
              "      <th>Ca</th>\n",
              "      <th>Cr</th>\n",
              "      <th>P</th>\n",
              "      <th>S</th>\n",
              "      <th>Ti</th>\n",
              "      <th>Si</th>\n",
              "      <th>mineral</th>\n",
              "    </tr>\n",
              "  </thead>\n",
              "  <tbody>\n",
              "    <tr>\n",
              "      <th>0</th>\n",
              "      <td>0</td>\n",
              "      <td>0</td>\n",
              "      <td>0</td>\n",
              "      <td>0</td>\n",
              "      <td>171</td>\n",
              "      <td>0</td>\n",
              "      <td>4</td>\n",
              "      <td>0</td>\n",
              "      <td>459</td>\n",
              "      <td>0</td>\n",
              "      <td>CaTiO3std15</td>\n",
              "    </tr>\n",
              "    <tr>\n",
              "      <th>1</th>\n",
              "      <td>0</td>\n",
              "      <td>0</td>\n",
              "      <td>0</td>\n",
              "      <td>0</td>\n",
              "      <td>148</td>\n",
              "      <td>3</td>\n",
              "      <td>2</td>\n",
              "      <td>0</td>\n",
              "      <td>462</td>\n",
              "      <td>1</td>\n",
              "      <td>CaTiO3std15</td>\n",
              "    </tr>\n",
              "    <tr>\n",
              "      <th>2</th>\n",
              "      <td>0</td>\n",
              "      <td>2</td>\n",
              "      <td>0</td>\n",
              "      <td>0</td>\n",
              "      <td>141</td>\n",
              "      <td>6</td>\n",
              "      <td>3</td>\n",
              "      <td>0</td>\n",
              "      <td>455</td>\n",
              "      <td>2</td>\n",
              "      <td>CaTiO3std15</td>\n",
              "    </tr>\n",
              "    <tr>\n",
              "      <th>3</th>\n",
              "      <td>1</td>\n",
              "      <td>2</td>\n",
              "      <td>2</td>\n",
              "      <td>0</td>\n",
              "      <td>122</td>\n",
              "      <td>6</td>\n",
              "      <td>3</td>\n",
              "      <td>0</td>\n",
              "      <td>502</td>\n",
              "      <td>0</td>\n",
              "      <td>CaTiO3std15</td>\n",
              "    </tr>\n",
              "    <tr>\n",
              "      <th>4</th>\n",
              "      <td>0</td>\n",
              "      <td>0</td>\n",
              "      <td>0</td>\n",
              "      <td>0</td>\n",
              "      <td>138</td>\n",
              "      <td>5</td>\n",
              "      <td>5</td>\n",
              "      <td>0</td>\n",
              "      <td>457</td>\n",
              "      <td>1</td>\n",
              "      <td>CaTiO3std15</td>\n",
              "    </tr>\n",
              "  </tbody>\n",
              "</table>\n",
              "</div>"
            ],
            "text/plain": [
              "   Mg  Ni  Al  Fe   Ca  Cr  P  S   Ti  Si      mineral\n",
              "0   0   0   0   0  171   0  4  0  459   0  CaTiO3std15\n",
              "1   0   0   0   0  148   3  2  0  462   1  CaTiO3std15\n",
              "2   0   2   0   0  141   6  3  0  455   2  CaTiO3std15\n",
              "3   1   2   2   0  122   6  3  0  502   0  CaTiO3std15\n",
              "4   0   0   0   0  138   5  5  0  457   1  CaTiO3std15"
            ]
          },
          "metadata": {
            "tags": []
          },
          "execution_count": 5
        }
      ]
    },
    {
      "metadata": {
        "id": "_rrRTbQ7WaVf",
        "colab_type": "code",
        "colab": {
          "base_uri": "https://localhost:8080/",
          "height": 267
        },
        "outputId": "586cb877-6606-4b35-ffde-7e87c6b888c6"
      },
      "cell_type": "code",
      "source": [
        "# Get expected standards weights \n",
        "\n",
        "rows = []\n",
        "for filename in standards_df['mineral'].unique():\n",
        "  try:\n",
        "    formula = re.match(r'([A-Za-z0-9]*).*(std)(.*)', filename).groups()[0]\n",
        "    weights = periodictable.formula(formula).mass_fraction\n",
        "    weights = dict((str(e), w) for e,w in weights.items())\n",
        "    weights['mineral_formula'] = formula\n",
        "    weights['mineral'] = filename\n",
        "    rows.append(weights)\n",
        "  except:\n",
        "    print(filename)\n",
        "\n",
        "# rutile\n",
        "weights = periodictable.formula('TiO2').mass_fraction\n",
        "weights = dict((str(e), w) for e,w in weights.items())\n",
        "weights['mineral_formula'] = 'TiO2'\n",
        "weights['mineral'] = 'rutile'\n",
        "rows.append(weights)\n",
        "\n",
        "# SCOlv\n",
        "rows.append({\n",
        "    'mineral': 'SCOlvstd6', 'mineral_formula': '???', \n",
        "    'Si': .1908, 'Fe': .0742, 'Mg': .298, 'Mn': .0011, 'Ca': .0002, 'Ni': .0029\n",
        "})  \n",
        "  \n",
        "weights_df = pd.DataFrame.from_records(rows).fillna(0)\n",
        "weights_df.columns = [str(i) + '_weight' if str(i)[0].isupper() else str(i) for i in weights_df.columns]\n",
        "\n",
        "\n",
        "standards_df = standards_df.merge(weights_df, on='mineral')\n",
        "standards_df.head()"
      ],
      "execution_count": 7,
      "outputs": [
        {
          "output_type": "stream",
          "text": [
            "rutile\n",
            "SCOlvstd6\n"
          ],
          "name": "stdout"
        },
        {
          "output_type": "execute_result",
          "data": {
            "text/html": [
              "<div>\n",
              "<style scoped>\n",
              "    .dataframe tbody tr th:only-of-type {\n",
              "        vertical-align: middle;\n",
              "    }\n",
              "\n",
              "    .dataframe tbody tr th {\n",
              "        vertical-align: top;\n",
              "    }\n",
              "\n",
              "    .dataframe thead th {\n",
              "        text-align: right;\n",
              "    }\n",
              "</style>\n",
              "<table border=\"1\" class=\"dataframe\">\n",
              "  <thead>\n",
              "    <tr style=\"text-align: right;\">\n",
              "      <th></th>\n",
              "      <th>Mg</th>\n",
              "      <th>Ni</th>\n",
              "      <th>Al</th>\n",
              "      <th>Fe</th>\n",
              "      <th>Ca</th>\n",
              "      <th>Cr</th>\n",
              "      <th>P</th>\n",
              "      <th>S</th>\n",
              "      <th>Ti</th>\n",
              "      <th>Si</th>\n",
              "      <th>...</th>\n",
              "      <th>Ca_weight</th>\n",
              "      <th>Fe_weight</th>\n",
              "      <th>Mg_weight</th>\n",
              "      <th>Mn_weight</th>\n",
              "      <th>Ni_weight</th>\n",
              "      <th>O_weight</th>\n",
              "      <th>S_weight</th>\n",
              "      <th>Si_weight</th>\n",
              "      <th>Ti_weight</th>\n",
              "      <th>mineral_formula</th>\n",
              "    </tr>\n",
              "  </thead>\n",
              "  <tbody>\n",
              "    <tr>\n",
              "      <th>0</th>\n",
              "      <td>0</td>\n",
              "      <td>0</td>\n",
              "      <td>0</td>\n",
              "      <td>0</td>\n",
              "      <td>171</td>\n",
              "      <td>0</td>\n",
              "      <td>4</td>\n",
              "      <td>0</td>\n",
              "      <td>459</td>\n",
              "      <td>0</td>\n",
              "      <td>...</td>\n",
              "      <td>0.294814</td>\n",
              "      <td>0.0</td>\n",
              "      <td>0.0</td>\n",
              "      <td>0.0</td>\n",
              "      <td>0.0</td>\n",
              "      <td>0.353075</td>\n",
              "      <td>0.0</td>\n",
              "      <td>0.0</td>\n",
              "      <td>0.35211</td>\n",
              "      <td>CaTiO3</td>\n",
              "    </tr>\n",
              "    <tr>\n",
              "      <th>1</th>\n",
              "      <td>0</td>\n",
              "      <td>0</td>\n",
              "      <td>0</td>\n",
              "      <td>0</td>\n",
              "      <td>148</td>\n",
              "      <td>3</td>\n",
              "      <td>2</td>\n",
              "      <td>0</td>\n",
              "      <td>462</td>\n",
              "      <td>1</td>\n",
              "      <td>...</td>\n",
              "      <td>0.294814</td>\n",
              "      <td>0.0</td>\n",
              "      <td>0.0</td>\n",
              "      <td>0.0</td>\n",
              "      <td>0.0</td>\n",
              "      <td>0.353075</td>\n",
              "      <td>0.0</td>\n",
              "      <td>0.0</td>\n",
              "      <td>0.35211</td>\n",
              "      <td>CaTiO3</td>\n",
              "    </tr>\n",
              "    <tr>\n",
              "      <th>2</th>\n",
              "      <td>0</td>\n",
              "      <td>2</td>\n",
              "      <td>0</td>\n",
              "      <td>0</td>\n",
              "      <td>141</td>\n",
              "      <td>6</td>\n",
              "      <td>3</td>\n",
              "      <td>0</td>\n",
              "      <td>455</td>\n",
              "      <td>2</td>\n",
              "      <td>...</td>\n",
              "      <td>0.294814</td>\n",
              "      <td>0.0</td>\n",
              "      <td>0.0</td>\n",
              "      <td>0.0</td>\n",
              "      <td>0.0</td>\n",
              "      <td>0.353075</td>\n",
              "      <td>0.0</td>\n",
              "      <td>0.0</td>\n",
              "      <td>0.35211</td>\n",
              "      <td>CaTiO3</td>\n",
              "    </tr>\n",
              "    <tr>\n",
              "      <th>3</th>\n",
              "      <td>1</td>\n",
              "      <td>2</td>\n",
              "      <td>2</td>\n",
              "      <td>0</td>\n",
              "      <td>122</td>\n",
              "      <td>6</td>\n",
              "      <td>3</td>\n",
              "      <td>0</td>\n",
              "      <td>502</td>\n",
              "      <td>0</td>\n",
              "      <td>...</td>\n",
              "      <td>0.294814</td>\n",
              "      <td>0.0</td>\n",
              "      <td>0.0</td>\n",
              "      <td>0.0</td>\n",
              "      <td>0.0</td>\n",
              "      <td>0.353075</td>\n",
              "      <td>0.0</td>\n",
              "      <td>0.0</td>\n",
              "      <td>0.35211</td>\n",
              "      <td>CaTiO3</td>\n",
              "    </tr>\n",
              "    <tr>\n",
              "      <th>4</th>\n",
              "      <td>0</td>\n",
              "      <td>0</td>\n",
              "      <td>0</td>\n",
              "      <td>0</td>\n",
              "      <td>138</td>\n",
              "      <td>5</td>\n",
              "      <td>5</td>\n",
              "      <td>0</td>\n",
              "      <td>457</td>\n",
              "      <td>1</td>\n",
              "      <td>...</td>\n",
              "      <td>0.294814</td>\n",
              "      <td>0.0</td>\n",
              "      <td>0.0</td>\n",
              "      <td>0.0</td>\n",
              "      <td>0.0</td>\n",
              "      <td>0.353075</td>\n",
              "      <td>0.0</td>\n",
              "      <td>0.0</td>\n",
              "      <td>0.35211</td>\n",
              "      <td>CaTiO3</td>\n",
              "    </tr>\n",
              "  </tbody>\n",
              "</table>\n",
              "<p>5 rows × 21 columns</p>\n",
              "</div>"
            ],
            "text/plain": [
              "   Mg  Ni  Al  Fe   Ca  Cr  P  S   Ti  Si       ...        Ca_weight  \\\n",
              "0   0   0   0   0  171   0  4  0  459   0       ...         0.294814   \n",
              "1   0   0   0   0  148   3  2  0  462   1       ...         0.294814   \n",
              "2   0   2   0   0  141   6  3  0  455   2       ...         0.294814   \n",
              "3   1   2   2   0  122   6  3  0  502   0       ...         0.294814   \n",
              "4   0   0   0   0  138   5  5  0  457   1       ...         0.294814   \n",
              "\n",
              "   Fe_weight  Mg_weight  Mn_weight  Ni_weight  O_weight  S_weight  Si_weight  \\\n",
              "0        0.0        0.0        0.0        0.0  0.353075       0.0        0.0   \n",
              "1        0.0        0.0        0.0        0.0  0.353075       0.0        0.0   \n",
              "2        0.0        0.0        0.0        0.0  0.353075       0.0        0.0   \n",
              "3        0.0        0.0        0.0        0.0  0.353075       0.0        0.0   \n",
              "4        0.0        0.0        0.0        0.0  0.353075       0.0        0.0   \n",
              "\n",
              "   Ti_weight  mineral_formula  \n",
              "0    0.35211           CaTiO3  \n",
              "1    0.35211           CaTiO3  \n",
              "2    0.35211           CaTiO3  \n",
              "3    0.35211           CaTiO3  \n",
              "4    0.35211           CaTiO3  \n",
              "\n",
              "[5 rows x 21 columns]"
            ]
          },
          "metadata": {
            "tags": []
          },
          "execution_count": 7
        }
      ]
    },
    {
      "metadata": {
        "id": "HZPFDw6NWpXn",
        "colab_type": "code",
        "colab": {
          "base_uri": "https://localhost:8080/",
          "height": 374
        },
        "outputId": "401a9c01-dbaa-4b13-ece5-27c57ab657b6"
      },
      "cell_type": "code",
      "source": [
        "elements = {}\n",
        "\n",
        "for col in ['Mg', 'Ni', 'Al', 'Fe', 'Ca', 'Cr', 'P', 'S', 'Ti', 'Si']:\n",
        "  try:\n",
        "    x = standards_df['%s_weight' % col].reshape(-1,1)\n",
        "    y = standards_df[col]\n",
        "    \n",
        "    m = LinearRegression()\n",
        "    m.fit(x,y)\n",
        "    print(col, m.coef_[0], m.intercept_)\n",
        "    d = {\n",
        "        'element': col,\n",
        "        'coef': m.coef_[0],\n",
        "        'intercept': m.intercept_,\n",
        "        'std': standards_df[standards_df['%s_weight' % col] > .01][col].std(),\n",
        "        'noise': standards_df[standards_df['%s_weight' % col] == 0][col].std()\n",
        "    }\n",
        "    elements[col] = d\n",
        "  except:\n",
        "    pass"
      ],
      "execution_count": 36,
      "outputs": [
        {
          "output_type": "stream",
          "text": [
            "Mg 840.1532511324668 0.1436064531510226\n",
            "Ni 302.0864913360913 0.5339756727391531\n",
            "Fe 311.4356452476751 -0.18536195985906545\n",
            "Ca 461.2234598579972 0.28230528466584914\n",
            "S 210.310447449412 0.01002271126765919\n",
            "Ti 1279.045019042139 3.850835728870237\n",
            "Si 1012.3924348641195 0.8699038385122613\n"
          ],
          "name": "stdout"
        },
        {
          "output_type": "stream",
          "text": [
            "/usr/local/lib/python3.6/dist-packages/ipykernel_launcher.py:5: FutureWarning: reshape is deprecated and will raise in a subsequent release. Please use .values.reshape(...) instead\n",
            "  \"\"\"\n",
            "/usr/local/lib/python3.6/dist-packages/ipykernel_launcher.py:5: FutureWarning: reshape is deprecated and will raise in a subsequent release. Please use .values.reshape(...) instead\n",
            "  \"\"\"\n",
            "/usr/local/lib/python3.6/dist-packages/ipykernel_launcher.py:5: FutureWarning: reshape is deprecated and will raise in a subsequent release. Please use .values.reshape(...) instead\n",
            "  \"\"\"\n",
            "/usr/local/lib/python3.6/dist-packages/ipykernel_launcher.py:5: FutureWarning: reshape is deprecated and will raise in a subsequent release. Please use .values.reshape(...) instead\n",
            "  \"\"\"\n",
            "/usr/local/lib/python3.6/dist-packages/ipykernel_launcher.py:5: FutureWarning: reshape is deprecated and will raise in a subsequent release. Please use .values.reshape(...) instead\n",
            "  \"\"\"\n",
            "/usr/local/lib/python3.6/dist-packages/ipykernel_launcher.py:5: FutureWarning: reshape is deprecated and will raise in a subsequent release. Please use .values.reshape(...) instead\n",
            "  \"\"\"\n",
            "/usr/local/lib/python3.6/dist-packages/ipykernel_launcher.py:5: FutureWarning: reshape is deprecated and will raise in a subsequent release. Please use .values.reshape(...) instead\n",
            "  \"\"\"\n"
          ],
          "name": "stderr"
        }
      ]
    },
    {
      "metadata": {
        "id": "xPJkS464aCCR",
        "colab_type": "code",
        "colab": {
          "base_uri": "https://localhost:8080/",
          "height": 612
        },
        "outputId": "b0c3e9e0-687c-4007-cc1b-ae844364e32c"
      },
      "cell_type": "code",
      "source": [
        "elements"
      ],
      "execution_count": 37,
      "outputs": [
        {
          "output_type": "execute_result",
          "data": {
            "text/plain": [
              "{'Ca': {'coef': 461.2234598579972,\n",
              "  'element': 'Ca',\n",
              "  'intercept': 0.28230528466584914,\n",
              "  'noise': 0.7839330547099527,\n",
              "  'std': 11.257305019123955},\n",
              " 'Fe': {'coef': 311.4356452476751,\n",
              "  'element': 'Fe',\n",
              "  'intercept': -0.18536195985906545,\n",
              "  'noise': 1.1155958908410166,\n",
              "  'std': 106.4856160349156},\n",
              " 'Mg': {'coef': 840.1532511324668,\n",
              "  'element': 'Mg',\n",
              "  'intercept': 0.1436064531510226,\n",
              "  'noise': 0.4296300849187811,\n",
              "  'std': 13.785308695058726},\n",
              " 'Ni': {'coef': 302.0864913360913,\n",
              "  'element': 'Ni',\n",
              "  'intercept': 0.5339756727391531,\n",
              "  'noise': 1.329300610782946,\n",
              "  'std': 52.85466500629178},\n",
              " 'S': {'coef': 210.310447449412,\n",
              "  'element': 'S',\n",
              "  'intercept': 0.01002271126765919,\n",
              "  'noise': 0.16686134572121558,\n",
              "  'std': 8.823133419855987},\n",
              " 'Si': {'coef': 1012.3924348641195,\n",
              "  'element': 'Si',\n",
              "  'intercept': 0.8699038385122613,\n",
              "  'noise': 1.2343527334863502,\n",
              "  'std': 12.817817389598126},\n",
              " 'Ti': {'coef': 1279.045019042139,\n",
              "  'element': 'Ti',\n",
              "  'intercept': 3.850835728870237,\n",
              "  'noise': 2.206258503945934,\n",
              "  'std': 153.34264365759503}}"
            ]
          },
          "metadata": {
            "tags": []
          },
          "execution_count": 37
        }
      ]
    },
    {
      "metadata": {
        "id": "mYsrRUaAXrsP",
        "colab_type": "code",
        "colab": {}
      },
      "cell_type": "code",
      "source": [
        "#targets = ['']\n",
        "\n",
        "\n",
        "#to_dict(periodictable.formula('NiS').mass_fraction)\n",
        "\n",
        "targets = [\n",
        "    {'type': 'formula', 'formula': 'NiS', 'name': 'Millerite'},\n",
        "    {'type': 'formula', 'formula': 'FeS', 'name': 'Troilite'},\n",
        "    {'type': 'formula', 'formula': 'FeNiS', 'name': 'Pentlandite'},\n",
        "    {'type': 'variable', 'name': 'Olivine', 'formula': [\n",
        "        {'type': 'choice', 'elements': [('Fe', (0, 1)), ('Mg', (0, 1))], 'quantity': 2},\n",
        "        {'type': 'fixed', 'elements': 'SiO4'}\n",
        "    ]},\n",
        "    {'type': 'variable', 'name': 'Pyroxene', 'formula': [\n",
        "        {'type': 'choice', 'elements': [('Fe', (0, 1)), ('Mg', (0, 1))], 'quantity': 1},\n",
        "        {'type': 'fixed', 'elements': 'SiO3'}\n",
        "    ]},\n",
        "    {'type': 'variable', 'name': 'Taenite', 'formula': [\n",
        "        {'type': 'choice', 'elements': [('Fe', (.5, .6)), ('Ni', (.4, .5))], 'quantity': 1},\n",
        "    ]},\n",
        "    {'type': 'variable', 'name': 'Kamacite', 'formula': [\n",
        "        {'type': 'choice', 'elements': [('Fe', (.9, .9)), ('Ni', (.1, .1))], 'quantity': 1},\n",
        "    ]}\n",
        "    \n",
        "]"
      ],
      "execution_count": 0,
      "outputs": []
    },
    {
      "metadata": {
        "id": "fi2HRoomdH9p",
        "colab_type": "code",
        "colab": {
          "base_uri": "https://localhost:8080/",
          "height": 85
        },
        "outputId": "b662e7e0-ed7a-4554-c53d-e3928fe61b37"
      },
      "cell_type": "code",
      "source": [
        "periodictable.elements.Fe.mass, periodictable.elements.S.mass, periodictable.formula('FeS').mass_fraction, 55.845/(55.845 + 32.065)"
      ],
      "execution_count": 48,
      "outputs": [
        {
          "output_type": "execute_result",
          "data": {
            "text/plain": [
              "(55.845,\n",
              " 32.065,\n",
              " {Fe: 0.6352519622341031, S: 0.3647480377658969},\n",
              " 0.6352519622341031)"
            ]
          },
          "metadata": {
            "tags": []
          },
          "execution_count": 48
        }
      ]
    },
    {
      "metadata": {
        "id": "O7HeEkKGhRYj",
        "colab_type": "code",
        "colab": {
          "base_uri": "https://localhost:8080/",
          "height": 34
        },
        "outputId": "579145d7-03a0-4bd5-b38b-9a68ee81ac0c"
      },
      "cell_type": "code",
      "source": [
        "np.random.uniform(.9,.9)"
      ],
      "execution_count": 73,
      "outputs": [
        {
          "output_type": "execute_result",
          "data": {
            "text/plain": [
              "0.9"
            ]
          },
          "metadata": {
            "tags": []
          },
          "execution_count": 73
        }
      ]
    },
    {
      "metadata": {
        "id": "NUpEyFw7fvob",
        "colab_type": "code",
        "colab": {
          "base_uri": "https://localhost:8080/",
          "height": 34
        },
        "outputId": "343321e7-2e5b-441e-bb86-4a6aae5f3efd"
      },
      "cell_type": "code",
      "source": [
        "q = periodictable.formula('FeS')\n",
        "q.mass_fraction\n",
        "\n",
        "def get_formula_weights(formula):\n",
        "  f = periodictable.formula(formula)\n",
        "  mass = f.mass\n",
        "  fractions = f.mass_fraction\n",
        "  \n",
        "  return dict([(str(e), mass*f) for e,f in fractions.items()])\n",
        "\n",
        "get_formula_weights('FeS')"
      ],
      "execution_count": 58,
      "outputs": [
        {
          "output_type": "execute_result",
          "data": {
            "text/plain": [
              "{'Fe': 55.845, 'S': 32.065}"
            ]
          },
          "metadata": {
            "tags": []
          },
          "execution_count": 58
        }
      ]
    },
    {
      "metadata": {
        "id": "3-PiMCPkfAIW",
        "colab_type": "code",
        "colab": {
          "base_uri": "https://localhost:8080/",
          "height": 408
        },
        "outputId": "4af26050-c2ca-4446-e4d8-c6ad1e8939ff"
      },
      "cell_type": "code",
      "source": [
        "def to_dict(d):\n",
        "  return dict([(str(e), w) for e,w in d.items()])\n",
        "\n",
        "def get_formula_weights(formula):\n",
        "  f = periodictable.formula(formula)\n",
        "  mass = f.mass\n",
        "  fractions = f.mass_fraction\n",
        "  \n",
        "  return dict([(str(e), mass*f) for e,f in fractions.items()])\n",
        "\n",
        "def get_formula_percents(formula):\n",
        "  return to_dict(periodictable.formula(formula).mass_fraction)\n",
        "\n",
        "def get_variable_percents(formula):\n",
        "  weights = {}\n",
        "  \n",
        "  def add_weight(element, mass):\n",
        "    if element in weights:\n",
        "      weights[element] += mass\n",
        "    else:\n",
        "      weights[element] = mass\n",
        "  \n",
        "  for component in formula:\n",
        "    if component['type'] == 'choice':\n",
        "      elements = component['elements']\n",
        "      interval = elements[0][1]\n",
        "      frac = np.random.uniform(*interval)\n",
        "      add_weight(\n",
        "          elements[0][0],\n",
        "          periodictable.formula(elements[0][0]).mass * frac * component['quantity']\n",
        "      )\n",
        "      add_weight(\n",
        "          elements[1][0],\n",
        "          periodictable.formula(elements[1][0]).mass * (1 - frac) * component['quantity']\n",
        "      )\n",
        "    elif component['type'] == 'fixed':\n",
        "      for e,m in get_formula_weights(component['elements']).items():\n",
        "        add_weight(e,m)\n",
        "  \n",
        "  total = sum(weights.values())\n",
        "  \n",
        "  return dict([(e, m/total) for e,m in weights.items()])\n",
        "      \n",
        "\n",
        "def simulate_mineral(name, weights):\n",
        "  intensities = {'mineral': name}\n",
        "  for e in elements.values():\n",
        "    v = e['intercept']\n",
        "    v += np.random.normal(scale=e['noise'])\n",
        "    if e['element'] in weights:\n",
        "      v += e['coef']*weights[e['element']]\n",
        "      v += np.random.normal(scale=e['std'])\n",
        "      \n",
        "    v = int(np.clip(v, 0, None))\n",
        "    intensities[e['element']] = v\n",
        "\n",
        "  return intensities\n",
        "  \n",
        "for t in targets:\n",
        "  if t['type'] == 'formula':\n",
        "    print(simulate_mineral(t['name'], get_formula_percents(t['formula'])))\n",
        "  elif t['type'] == 'variable':\n",
        "    for i in range(5):\n",
        "      print(simulate_mineral(t['name'], get_variable_percents(t['formula'])))\n"
      ],
      "execution_count": 75,
      "outputs": [
        {
          "output_type": "stream",
          "text": [
            "{'mineral': 'Millerite', 'Mg': 0, 'Ni': 239, 'Fe': 0, 'Ca': 0, 'S': 71, 'Ti': 4, 'Si': 2}\n",
            "{'mineral': 'Troilite', 'Mg': 0, 'Ni': 1, 'Fe': 234, 'Ca': 0, 'S': 67, 'Ti': 5, 'Si': 0}\n",
            "{'mineral': 'Pentlandite', 'Mg': 0, 'Ni': 142, 'Fe': 236, 'Ca': 0, 'S': 46, 'Ti': 7, 'Si': 0}\n",
            "{'mineral': 'Olivine', 'Mg': 236, 'Ni': 0, 'Fe': 0, 'Ca': 0, 'S': 0, 'Ti': 5, 'Si': 218}\n",
            "{'mineral': 'Olivine', 'Mg': 55, 'Ni': 0, 'Fe': 0, 'Ca': 0, 'S': 0, 'Ti': 1, 'Si': 160}\n",
            "{'mineral': 'Olivine', 'Mg': 155, 'Ni': 2, 'Fe': 172, 'Ca': 0, 'S': 0, 'Ti': 1, 'Si': 152}\n",
            "{'mineral': 'Olivine', 'Mg': 151, 'Ni': 0, 'Fe': 53, 'Ca': 0, 'S': 0, 'Ti': 0, 'Si': 157}\n",
            "{'mineral': 'Olivine', 'Mg': 213, 'Ni': 0, 'Fe': 203, 'Ca': 0, 'S': 0, 'Ti': 0, 'Si': 147}\n",
            "{'mineral': 'Pyroxene', 'Mg': 83, 'Ni': 0, 'Fe': 194, 'Ca': 0, 'S': 0, 'Ti': 4, 'Si': 248}\n",
            "{'mineral': 'Pyroxene', 'Mg': 83, 'Ni': 0, 'Fe': 0, 'Ca': 0, 'S': 0, 'Ti': 0, 'Si': 246}\n",
            "{'mineral': 'Pyroxene', 'Mg': 153, 'Ni': 0, 'Fe': 0, 'Ca': 1, 'S': 0, 'Ti': 2, 'Si': 292}\n",
            "{'mineral': 'Pyroxene', 'Mg': 29, 'Ni': 1, 'Fe': 16, 'Ca': 0, 'S': 0, 'Ti': 2, 'Si': 235}\n",
            "{'mineral': 'Pyroxene', 'Mg': 130, 'Ni': 1, 'Fe': 142, 'Ca': 0, 'S': 0, 'Ti': 0, 'Si': 266}\n",
            "{'mineral': 'Taenite', 'Mg': 1, 'Ni': 87, 'Fe': 106, 'Ca': 0, 'S': 0, 'Ti': 4, 'Si': 0}\n",
            "{'mineral': 'Taenite', 'Mg': 0, 'Ni': 132, 'Fe': 175, 'Ca': 0, 'S': 0, 'Ti': 3, 'Si': 0}\n",
            "{'mineral': 'Taenite', 'Mg': 0, 'Ni': 107, 'Fe': 150, 'Ca': 0, 'S': 0, 'Ti': 6, 'Si': 0}\n",
            "{'mineral': 'Taenite', 'Mg': 1, 'Ni': 124, 'Fe': 232, 'Ca': 1, 'S': 0, 'Ti': 3, 'Si': 0}\n",
            "{'mineral': 'Taenite', 'Mg': 0, 'Ni': 244, 'Fe': 363, 'Ca': 0, 'S': 0, 'Ti': 0, 'Si': 0}\n",
            "{'mineral': 'Kamacite', 'Mg': 0, 'Ni': 21, 'Fe': 264, 'Ca': 0, 'S': 0, 'Ti': 2, 'Si': 0}\n",
            "{'mineral': 'Kamacite', 'Mg': 0, 'Ni': 53, 'Fe': 362, 'Ca': 1, 'S': 0, 'Ti': 6, 'Si': 2}\n",
            "{'mineral': 'Kamacite', 'Mg': 0, 'Ni': 111, 'Fe': 181, 'Ca': 0, 'S': 0, 'Ti': 0, 'Si': 0}\n",
            "{'mineral': 'Kamacite', 'Mg': 0, 'Ni': 34, 'Fe': 158, 'Ca': 0, 'S': 0, 'Ti': 2, 'Si': 0}\n",
            "{'mineral': 'Kamacite', 'Mg': 0, 'Ni': 50, 'Fe': 204, 'Ca': 0, 'S': 0, 'Ti': 2, 'Si': 0}\n"
          ],
          "name": "stdout"
        }
      ]
    },
    {
      "metadata": {
        "id": "hSc0FQigj0zn",
        "colab_type": "code",
        "colab": {}
      },
      "cell_type": "code",
      "source": [
        "samples = []\n",
        "\n",
        "N = 10000\n",
        "M = 10\n",
        "\n",
        "for t in targets:\n",
        "  if t['type'] == 'formula':\n",
        "    for i in range(N):\n",
        "      samples.append(simulate_mineral(t['name'], get_formula_percents(t['formula'])))\n",
        "  elif t['type'] == 'variable':\n",
        "    for i in range(int(N/M)):\n",
        "      percents = get_variable_percents(t['formula'])\n",
        "      for j in range(M):\n",
        "        samples.append(simulate_mineral(t['name'], percents))"
      ],
      "execution_count": 0,
      "outputs": []
    },
    {
      "metadata": {
        "id": "CNAldnrikTXF",
        "colab_type": "code",
        "colab": {
          "base_uri": "https://localhost:8080/",
          "height": 204
        },
        "outputId": "c6de32fd-ca5a-4bd7-ccca-e904e0c6c1cc"
      },
      "cell_type": "code",
      "source": [
        "samples_df = pd.DataFrame.from_records(samples)\n",
        "samples_df.head()"
      ],
      "execution_count": 83,
      "outputs": [
        {
          "output_type": "execute_result",
          "data": {
            "text/html": [
              "<div>\n",
              "<style scoped>\n",
              "    .dataframe tbody tr th:only-of-type {\n",
              "        vertical-align: middle;\n",
              "    }\n",
              "\n",
              "    .dataframe tbody tr th {\n",
              "        vertical-align: top;\n",
              "    }\n",
              "\n",
              "    .dataframe thead th {\n",
              "        text-align: right;\n",
              "    }\n",
              "</style>\n",
              "<table border=\"1\" class=\"dataframe\">\n",
              "  <thead>\n",
              "    <tr style=\"text-align: right;\">\n",
              "      <th></th>\n",
              "      <th>Ca</th>\n",
              "      <th>Fe</th>\n",
              "      <th>Mg</th>\n",
              "      <th>Ni</th>\n",
              "      <th>S</th>\n",
              "      <th>Si</th>\n",
              "      <th>Ti</th>\n",
              "      <th>mineral</th>\n",
              "    </tr>\n",
              "  </thead>\n",
              "  <tbody>\n",
              "    <tr>\n",
              "      <th>0</th>\n",
              "      <td>0</td>\n",
              "      <td>0</td>\n",
              "      <td>0</td>\n",
              "      <td>268</td>\n",
              "      <td>69</td>\n",
              "      <td>0</td>\n",
              "      <td>4</td>\n",
              "      <td>Millerite</td>\n",
              "    </tr>\n",
              "    <tr>\n",
              "      <th>1</th>\n",
              "      <td>0</td>\n",
              "      <td>0</td>\n",
              "      <td>0</td>\n",
              "      <td>109</td>\n",
              "      <td>74</td>\n",
              "      <td>0</td>\n",
              "      <td>4</td>\n",
              "      <td>Millerite</td>\n",
              "    </tr>\n",
              "    <tr>\n",
              "      <th>2</th>\n",
              "      <td>0</td>\n",
              "      <td>1</td>\n",
              "      <td>0</td>\n",
              "      <td>159</td>\n",
              "      <td>78</td>\n",
              "      <td>0</td>\n",
              "      <td>2</td>\n",
              "      <td>Millerite</td>\n",
              "    </tr>\n",
              "    <tr>\n",
              "      <th>3</th>\n",
              "      <td>0</td>\n",
              "      <td>0</td>\n",
              "      <td>0</td>\n",
              "      <td>323</td>\n",
              "      <td>76</td>\n",
              "      <td>0</td>\n",
              "      <td>3</td>\n",
              "      <td>Millerite</td>\n",
              "    </tr>\n",
              "    <tr>\n",
              "      <th>4</th>\n",
              "      <td>0</td>\n",
              "      <td>1</td>\n",
              "      <td>0</td>\n",
              "      <td>240</td>\n",
              "      <td>72</td>\n",
              "      <td>0</td>\n",
              "      <td>4</td>\n",
              "      <td>Millerite</td>\n",
              "    </tr>\n",
              "  </tbody>\n",
              "</table>\n",
              "</div>"
            ],
            "text/plain": [
              "   Ca  Fe  Mg   Ni   S  Si  Ti    mineral\n",
              "0   0   0   0  268  69   0   4  Millerite\n",
              "1   0   0   0  109  74   0   4  Millerite\n",
              "2   0   1   0  159  78   0   2  Millerite\n",
              "3   0   0   0  323  76   0   3  Millerite\n",
              "4   0   1   0  240  72   0   4  Millerite"
            ]
          },
          "metadata": {
            "tags": []
          },
          "execution_count": 83
        }
      ]
    },
    {
      "metadata": {
        "id": "l8i5kapRlFDz",
        "colab_type": "code",
        "colab": {}
      },
      "cell_type": "code",
      "source": [
        "samples_df.to_csv('simulated_mineral_samples.csv', index=False)"
      ],
      "execution_count": 0,
      "outputs": []
    },
    {
      "metadata": {
        "id": "M_-KC3dhlTJz",
        "colab_type": "code",
        "colab": {}
      },
      "cell_type": "code",
      "source": [
        "X = samples_df[['Ca', 'Fe', 'Mg', 'Ni', 'S', 'Si', 'Ti']].values\n",
        "Y = samples_df['mineral']\n",
        "\n",
        "X_train, X_test, Y_train, Y_test = train_test_split(X, Y, test_size=.2)"
      ],
      "execution_count": 0,
      "outputs": []
    },
    {
      "metadata": {
        "id": "BPMYQLh0lgRA",
        "colab_type": "code",
        "colab": {
          "base_uri": "https://localhost:8080/",
          "height": 435
        },
        "outputId": "3f1f06a2-1882-4486-e586-ddf85c644984"
      },
      "cell_type": "code",
      "source": [
        "mod = SVC(kernel='linear')\n",
        "mod.fit(X_train, Y_train)\n",
        "(mod.predict(X_train) == Y_train).mean(), (mod.predict(X_test) == Y_test).mean()"
      ],
      "execution_count": 86,
      "outputs": [
        {
          "output_type": "error",
          "ename": "KeyboardInterrupt",
          "evalue": "ignored",
          "traceback": [
            "\u001b[0;31m---------------------------------------------------------------------------\u001b[0m",
            "\u001b[0;31mKeyboardInterrupt\u001b[0m                         Traceback (most recent call last)",
            "\u001b[0;32m<ipython-input-86-b5d674f8b520>\u001b[0m in \u001b[0;36m<module>\u001b[0;34m()\u001b[0m\n\u001b[1;32m      1\u001b[0m \u001b[0mmod\u001b[0m \u001b[0;34m=\u001b[0m \u001b[0mSVC\u001b[0m\u001b[0;34m(\u001b[0m\u001b[0mkernel\u001b[0m\u001b[0;34m=\u001b[0m\u001b[0;34m'linear'\u001b[0m\u001b[0;34m)\u001b[0m\u001b[0;34m\u001b[0m\u001b[0;34m\u001b[0m\u001b[0m\n\u001b[0;32m----> 2\u001b[0;31m \u001b[0mmod\u001b[0m\u001b[0;34m.\u001b[0m\u001b[0mfit\u001b[0m\u001b[0;34m(\u001b[0m\u001b[0mX_train\u001b[0m\u001b[0;34m,\u001b[0m \u001b[0mY_train\u001b[0m\u001b[0;34m)\u001b[0m\u001b[0;34m\u001b[0m\u001b[0;34m\u001b[0m\u001b[0m\n\u001b[0m\u001b[1;32m      3\u001b[0m \u001b[0;34m(\u001b[0m\u001b[0mmod\u001b[0m\u001b[0;34m.\u001b[0m\u001b[0mpredict\u001b[0m\u001b[0;34m(\u001b[0m\u001b[0mX_train\u001b[0m\u001b[0;34m)\u001b[0m \u001b[0;34m==\u001b[0m \u001b[0mY_train\u001b[0m\u001b[0;34m)\u001b[0m\u001b[0;34m.\u001b[0m\u001b[0mmean\u001b[0m\u001b[0;34m(\u001b[0m\u001b[0;34m)\u001b[0m\u001b[0;34m,\u001b[0m \u001b[0;34m(\u001b[0m\u001b[0mmod\u001b[0m\u001b[0;34m.\u001b[0m\u001b[0mpredict\u001b[0m\u001b[0;34m(\u001b[0m\u001b[0mX_test\u001b[0m\u001b[0;34m)\u001b[0m \u001b[0;34m==\u001b[0m \u001b[0mY_test\u001b[0m\u001b[0;34m)\u001b[0m\u001b[0;34m.\u001b[0m\u001b[0mmean\u001b[0m\u001b[0;34m(\u001b[0m\u001b[0;34m)\u001b[0m\u001b[0;34m\u001b[0m\u001b[0;34m\u001b[0m\u001b[0m\n",
            "\u001b[0;32m/usr/local/lib/python3.6/dist-packages/sklearn/svm/base.py\u001b[0m in \u001b[0;36mfit\u001b[0;34m(self, X, y, sample_weight)\u001b[0m\n\u001b[1;32m    210\u001b[0m \u001b[0;34m\u001b[0m\u001b[0m\n\u001b[1;32m    211\u001b[0m         \u001b[0mseed\u001b[0m \u001b[0;34m=\u001b[0m \u001b[0mrnd\u001b[0m\u001b[0;34m.\u001b[0m\u001b[0mrandint\u001b[0m\u001b[0;34m(\u001b[0m\u001b[0mnp\u001b[0m\u001b[0;34m.\u001b[0m\u001b[0miinfo\u001b[0m\u001b[0;34m(\u001b[0m\u001b[0;34m'i'\u001b[0m\u001b[0;34m)\u001b[0m\u001b[0;34m.\u001b[0m\u001b[0mmax\u001b[0m\u001b[0;34m)\u001b[0m\u001b[0;34m\u001b[0m\u001b[0;34m\u001b[0m\u001b[0m\n\u001b[0;32m--> 212\u001b[0;31m         \u001b[0mfit\u001b[0m\u001b[0;34m(\u001b[0m\u001b[0mX\u001b[0m\u001b[0;34m,\u001b[0m \u001b[0my\u001b[0m\u001b[0;34m,\u001b[0m \u001b[0msample_weight\u001b[0m\u001b[0;34m,\u001b[0m \u001b[0msolver_type\u001b[0m\u001b[0;34m,\u001b[0m \u001b[0mkernel\u001b[0m\u001b[0;34m,\u001b[0m \u001b[0mrandom_seed\u001b[0m\u001b[0;34m=\u001b[0m\u001b[0mseed\u001b[0m\u001b[0;34m)\u001b[0m\u001b[0;34m\u001b[0m\u001b[0;34m\u001b[0m\u001b[0m\n\u001b[0m\u001b[1;32m    213\u001b[0m         \u001b[0;31m# see comment on the other call to np.iinfo in this file\u001b[0m\u001b[0;34m\u001b[0m\u001b[0;34m\u001b[0m\u001b[0;34m\u001b[0m\u001b[0m\n\u001b[1;32m    214\u001b[0m \u001b[0;34m\u001b[0m\u001b[0m\n",
            "\u001b[0;32m/usr/local/lib/python3.6/dist-packages/sklearn/svm/base.py\u001b[0m in \u001b[0;36m_dense_fit\u001b[0;34m(self, X, y, sample_weight, solver_type, kernel, random_seed)\u001b[0m\n\u001b[1;32m    269\u001b[0m                 \u001b[0mcache_size\u001b[0m\u001b[0;34m=\u001b[0m\u001b[0mself\u001b[0m\u001b[0;34m.\u001b[0m\u001b[0mcache_size\u001b[0m\u001b[0;34m,\u001b[0m \u001b[0mcoef0\u001b[0m\u001b[0;34m=\u001b[0m\u001b[0mself\u001b[0m\u001b[0;34m.\u001b[0m\u001b[0mcoef0\u001b[0m\u001b[0;34m,\u001b[0m\u001b[0;34m\u001b[0m\u001b[0;34m\u001b[0m\u001b[0m\n\u001b[1;32m    270\u001b[0m                 \u001b[0mgamma\u001b[0m\u001b[0;34m=\u001b[0m\u001b[0mself\u001b[0m\u001b[0;34m.\u001b[0m\u001b[0m_gamma\u001b[0m\u001b[0;34m,\u001b[0m \u001b[0mepsilon\u001b[0m\u001b[0;34m=\u001b[0m\u001b[0mself\u001b[0m\u001b[0;34m.\u001b[0m\u001b[0mepsilon\u001b[0m\u001b[0;34m,\u001b[0m\u001b[0;34m\u001b[0m\u001b[0;34m\u001b[0m\u001b[0m\n\u001b[0;32m--> 271\u001b[0;31m                 max_iter=self.max_iter, random_seed=random_seed)\n\u001b[0m\u001b[1;32m    272\u001b[0m \u001b[0;34m\u001b[0m\u001b[0m\n\u001b[1;32m    273\u001b[0m         \u001b[0mself\u001b[0m\u001b[0;34m.\u001b[0m\u001b[0m_warn_from_fit_status\u001b[0m\u001b[0;34m(\u001b[0m\u001b[0;34m)\u001b[0m\u001b[0;34m\u001b[0m\u001b[0;34m\u001b[0m\u001b[0m\n",
            "\u001b[0;31mKeyboardInterrupt\u001b[0m: "
          ]
        }
      ]
    },
    {
      "metadata": {
        "id": "aVNS4b4sW_sG",
        "colab_type": "code",
        "colab": {
          "base_uri": "https://localhost:8080/",
          "height": 153
        },
        "outputId": "b5f3db55-9faf-4748-f601-599975cecf45"
      },
      "cell_type": "code",
      "source": [
        "def simulate_mineral(name, weights):\n",
        "  intensities = {'mineral': name}\n",
        "  for e in elements.values():\n",
        "    v = e['intercept']\n",
        "    v += np.random.normal(scale=e['noise'])\n",
        "    if e['element'] in weights:\n",
        "      v += e['coef']*weights[e['element']]\n",
        "      v += np.random.normal(scale=e['std'])\n",
        "      \n",
        "    v = int(np.clip(v, 0, None))\n",
        "    intensities[e['element']] = v\n",
        "\n",
        "  return intensities\n",
        "\n",
        "simulate_mineral('NiS', to_dict(periodictable.formula('NiS').mass_fraction))"
      ],
      "execution_count": 40,
      "outputs": [
        {
          "output_type": "execute_result",
          "data": {
            "text/plain": [
              "{'Ca': 0,\n",
              " 'Fe': 0,\n",
              " 'Mg': 0,\n",
              " 'Ni': 280,\n",
              " 'S': 69,\n",
              " 'Si': 1,\n",
              " 'Ti': 2,\n",
              " 'mineral': 'NiS'}"
            ]
          },
          "metadata": {
            "tags": []
          },
          "execution_count": 40
        }
      ]
    },
    {
      "metadata": {
        "id": "jdh6Hha1Xiqf",
        "colab_type": "code",
        "colab": {
          "base_uri": "https://localhost:8080/",
          "height": 34
        },
        "outputId": "f02a73cd-4866-4b1c-d2e7-fe537730c660"
      },
      "cell_type": "code",
      "source": [
        ""
      ],
      "execution_count": 26,
      "outputs": [
        {
          "output_type": "execute_result",
          "data": {
            "text/plain": [
              "{Ni: 0.6466993688738453, S: 0.35330063112615473}"
            ]
          },
          "metadata": {
            "tags": []
          },
          "execution_count": 26
        }
      ]
    },
    {
      "metadata": {
        "id": "kSKlHezeZwRg",
        "colab_type": "code",
        "colab": {}
      },
      "cell_type": "code",
      "source": [
        ""
      ],
      "execution_count": 0,
      "outputs": []
    }
  ]
}