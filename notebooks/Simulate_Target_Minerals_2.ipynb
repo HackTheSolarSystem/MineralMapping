{
  "nbformat": 4,
  "nbformat_minor": 0,
  "metadata": {
    "colab": {
      "name": "Simulate Target Minerals 2",
      "version": "0.3.2",
      "provenance": [],
      "collapsed_sections": []
    },
    "kernelspec": {
      "name": "python3",
      "display_name": "Python 3"
    }
  },
  "cells": [
    {
      "metadata": {
        "id": "wlmiLgTWnELl",
        "colab_type": "code",
        "colab": {}
      },
      "cell_type": "code",
      "source": [
        "import numpy as np\n",
        "import pandas as pd\n",
        "from skimage.io import imread, imshow\n",
        "#!pip install periodictable\n",
        "import periodictable\n",
        "import matplotlib.pyplot as plt\n",
        "\n",
        "from sklearn.ensemble import RandomForestClassifier, RandomForestRegressor\n",
        "from sklearn.linear_model import SGDClassifier, SGDRegressor\n",
        "from sklearn.svm import SVC\n",
        "from sklearn.model_selection import train_test_split\n",
        "\n",
        "from pathlib import Path\n",
        "import re\n",
        "import json"
      ],
      "execution_count": 0,
      "outputs": []
    },
    {
      "metadata": {
        "id": "j6VLesjdnI1P",
        "colab_type": "code",
        "colab": {
          "base_uri": "https://localhost:8080/",
          "height": 204
        },
        "outputId": "807fb1bc-dab8-410f-f915-4f04b1f4b676"
      },
      "cell_type": "code",
      "source": [
        "samples_df = pd.read_csv('simulated_mineral_samples.csv')\n",
        "samples_df.head()"
      ],
      "execution_count": 2,
      "outputs": [
        {
          "output_type": "execute_result",
          "data": {
            "text/html": [
              "<div>\n",
              "<style scoped>\n",
              "    .dataframe tbody tr th:only-of-type {\n",
              "        vertical-align: middle;\n",
              "    }\n",
              "\n",
              "    .dataframe tbody tr th {\n",
              "        vertical-align: top;\n",
              "    }\n",
              "\n",
              "    .dataframe thead th {\n",
              "        text-align: right;\n",
              "    }\n",
              "</style>\n",
              "<table border=\"1\" class=\"dataframe\">\n",
              "  <thead>\n",
              "    <tr style=\"text-align: right;\">\n",
              "      <th></th>\n",
              "      <th>Ca</th>\n",
              "      <th>Fe</th>\n",
              "      <th>Mg</th>\n",
              "      <th>Ni</th>\n",
              "      <th>S</th>\n",
              "      <th>Si</th>\n",
              "      <th>Ti</th>\n",
              "      <th>mineral</th>\n",
              "    </tr>\n",
              "  </thead>\n",
              "  <tbody>\n",
              "    <tr>\n",
              "      <th>0</th>\n",
              "      <td>0</td>\n",
              "      <td>0</td>\n",
              "      <td>0</td>\n",
              "      <td>268</td>\n",
              "      <td>69</td>\n",
              "      <td>0</td>\n",
              "      <td>4</td>\n",
              "      <td>Millerite</td>\n",
              "    </tr>\n",
              "    <tr>\n",
              "      <th>1</th>\n",
              "      <td>0</td>\n",
              "      <td>0</td>\n",
              "      <td>0</td>\n",
              "      <td>109</td>\n",
              "      <td>74</td>\n",
              "      <td>0</td>\n",
              "      <td>4</td>\n",
              "      <td>Millerite</td>\n",
              "    </tr>\n",
              "    <tr>\n",
              "      <th>2</th>\n",
              "      <td>0</td>\n",
              "      <td>1</td>\n",
              "      <td>0</td>\n",
              "      <td>159</td>\n",
              "      <td>78</td>\n",
              "      <td>0</td>\n",
              "      <td>2</td>\n",
              "      <td>Millerite</td>\n",
              "    </tr>\n",
              "    <tr>\n",
              "      <th>3</th>\n",
              "      <td>0</td>\n",
              "      <td>0</td>\n",
              "      <td>0</td>\n",
              "      <td>323</td>\n",
              "      <td>76</td>\n",
              "      <td>0</td>\n",
              "      <td>3</td>\n",
              "      <td>Millerite</td>\n",
              "    </tr>\n",
              "    <tr>\n",
              "      <th>4</th>\n",
              "      <td>0</td>\n",
              "      <td>1</td>\n",
              "      <td>0</td>\n",
              "      <td>240</td>\n",
              "      <td>72</td>\n",
              "      <td>0</td>\n",
              "      <td>4</td>\n",
              "      <td>Millerite</td>\n",
              "    </tr>\n",
              "  </tbody>\n",
              "</table>\n",
              "</div>"
            ],
            "text/plain": [
              "   Ca  Fe  Mg   Ni   S  Si  Ti    mineral\n",
              "0   0   0   0  268  69   0   4  Millerite\n",
              "1   0   0   0  109  74   0   4  Millerite\n",
              "2   0   1   0  159  78   0   2  Millerite\n",
              "3   0   0   0  323  76   0   3  Millerite\n",
              "4   0   1   0  240  72   0   4  Millerite"
            ]
          },
          "metadata": {
            "tags": []
          },
          "execution_count": 2
        }
      ]
    },
    {
      "metadata": {
        "id": "XYTwlrMCnYd4",
        "colab_type": "code",
        "colab": {}
      },
      "cell_type": "code",
      "source": [
        "X = samples_df[['Ca', 'Fe', 'Mg', 'Ni', 'S', 'Si', 'Ti']].values\n",
        "Y = samples_df['mineral']\n",
        "\n",
        "X_train, X_test, Y_train, Y_test = train_test_split(X, Y, test_size=.2)"
      ],
      "execution_count": 0,
      "outputs": []
    },
    {
      "metadata": {
        "id": "b3EtceqsndEA",
        "colab_type": "code",
        "colab": {
          "base_uri": "https://localhost:8080/",
          "height": 34
        },
        "outputId": "4a191728-a592-403c-d9de-4a4a55e51a7b"
      },
      "cell_type": "code",
      "source": [
        "#mod = SVC(kernel='rbf', max_iter=300)\n",
        "mod = RandomForestClassifier(100, max_depth=5, n_jobs=-1)\n",
        "mod.fit(X_train, Y_train)\n",
        "(mod.predict(X_train) == Y_train).mean(), (mod.predict(X_test) == Y_test).mean()"
      ],
      "execution_count": 4,
      "outputs": [
        {
          "output_type": "execute_result",
          "data": {
            "text/plain": [
              "(0.9525, 0.9547857142857142)"
            ]
          },
          "metadata": {
            "tags": []
          },
          "execution_count": 4
        }
      ]
    },
    {
      "metadata": {
        "id": "3o8xyGqSoHJI",
        "colab_type": "code",
        "colab": {
          "base_uri": "https://localhost:8080/",
          "height": 34
        },
        "outputId": "e666e9e7-5380-44bf-ff25-85d395057f74"
      },
      "cell_type": "code",
      "source": [
        "np.argmax(mod.predict_proba(X_test[:5]), axis=1)"
      ],
      "execution_count": 5,
      "outputs": [
        {
          "output_type": "execute_result",
          "data": {
            "text/plain": [
              "array([0, 6, 4, 2, 5])"
            ]
          },
          "metadata": {
            "tags": []
          },
          "execution_count": 5
        }
      ]
    },
    {
      "metadata": {
        "id": "pTTIrGaJomjo",
        "colab_type": "code",
        "colab": {}
      },
      "cell_type": "code",
      "source": [
        "# Define where your images are\n",
        "\n",
        "root = Path('gdrive/My Drive/meteorite_mineral_mapper')\n",
        "image_path = root / 'dataset_1_opaques'"
      ],
      "execution_count": 0,
      "outputs": []
    },
    {
      "metadata": {
        "id": "85HNtZJzo7g5",
        "colab_type": "code",
        "colab": {
          "base_uri": "https://localhost:8080/",
          "height": 1207
        },
        "outputId": "ea9226d9-3564-4fb9-a1d7-f29966fdc687"
      },
      "cell_type": "code",
      "source": [
        "#standard_minerals = [i for i in list(image_path.glob('*_mask.tif')) if 'obj' not in i.name]\n",
        "#standards = [{'name': s.name.split('_')[2].split('.')[0], 'image': imread(s)} for s in image_path.glob('standards_32*.tif')]\n",
        "\n",
        "images = [{'element': s.name.split('_')[2].split('.')[0], 'image': imread(s)} for s in image_path.glob('obj1_32bt_*')]\n",
        "images"
      ],
      "execution_count": 7,
      "outputs": [
        {
          "output_type": "execute_result",
          "data": {
            "text/plain": [
              "[{'element': 'Al', 'image': array([[25, 45, 51, ...,  8,  7,  5],\n",
              "         [15, 19, 47, ...,  5, 11, 11],\n",
              "         [ 8,  8, 18, ...,  7, 15,  8],\n",
              "         ...,\n",
              "         [ 0,  0,  5, ...,  0,  0,  0],\n",
              "         [ 2,  3,  2, ...,  0,  0,  0],\n",
              "         [ 0,  0,  0, ...,  0,  0,  4]], dtype=int32)},\n",
              " {'element': 'Ca', 'image': array([[26, 15, 11, ...,  2,  6,  0],\n",
              "         [37, 29, 21, ...,  5,  0,  0],\n",
              "         [46, 45, 29, ...,  3,  7,  6],\n",
              "         ...,\n",
              "         [ 9, 13, 11, ...,  0,  2,  0],\n",
              "         [ 4,  3,  3, ...,  2,  0,  2],\n",
              "         [ 2,  0,  4, ...,  0,  0,  0]], dtype=int32)},\n",
              " {'element': 'Cr', 'image': array([[25, 17, 12, ..., 11,  9,  9],\n",
              "         [15, 15, 10, ...,  3,  4,  9],\n",
              "         [23, 20, 14, ...,  7,  8, 11],\n",
              "         ...,\n",
              "         [10,  6, 25, ...,  3,  7,  2],\n",
              "         [10,  6, 11, ...,  5,  7, 10],\n",
              "         [11,  9,  7, ...,  2,  4,  6]], dtype=int32)},\n",
              " {'element': 'Fe', 'image': array([[ 15,  12,   9, ...,  75,  81,  83],\n",
              "         [  6,   7,  11, ...,  82,  72,  86],\n",
              "         [ 14,  17,  15, ...,  86,  89,  75],\n",
              "         ...,\n",
              "         [216, 102,  70, ...,   0,   3,   7],\n",
              "         [243, 112,  85, ...,   4,   0,   9],\n",
              "         [330, 165, 130, ...,   4,   6,   9]], dtype=int32)},\n",
              " {'element': 'Mg', 'image': array([[ 65,  26,   5, ...,  31,  39,  37],\n",
              "         [ 81,  42,  27, ...,  51,  34,  28],\n",
              "         [105,  56,  55, ...,  45,  29,  32],\n",
              "         ...,\n",
              "         [ 29,  56, 127, ..., 294, 290, 283],\n",
              "         [ 19,  34,  81, ..., 311, 275, 258],\n",
              "         [  3,  22,  47, ..., 300, 253, 251]], dtype=int32)},\n",
              " {'element': 'Ni', 'image': array([[ 0,  0,  0, ..., 11, 18, 10],\n",
              "         [ 0,  0,  0, ..., 11,  9, 12],\n",
              "         [ 0,  0,  0, ...,  2,  3, 11],\n",
              "         ...,\n",
              "         [19,  8,  2, ...,  0,  0,  0],\n",
              "         [15, 14,  9, ...,  0,  0,  0],\n",
              "         [17, 15, 13, ...,  0,  0,  0]], dtype=int32)},\n",
              " {'element': 'Pho', 'image': array([[0, 0, 0, ..., 2, 3, 0],\n",
              "         [2, 3, 0, ..., 0, 2, 3],\n",
              "         [4, 0, 0, ..., 0, 0, 0],\n",
              "         ...,\n",
              "         [2, 3, 0, ..., 2, 0, 0],\n",
              "         [4, 2, 3, ..., 3, 0, 2],\n",
              "         [4, 4, 6, ..., 0, 0, 0]], dtype=int32)},\n",
              " {'element': 'Si', 'image': array([[332, 229, 262, ..., 183, 167, 159],\n",
              "         [347, 243, 238, ..., 174, 176, 175],\n",
              "         [341, 256, 267, ..., 152, 162, 160],\n",
              "         ...,\n",
              "         [ 83, 112, 222, ..., 195, 205, 206],\n",
              "         [ 43,  95, 141, ..., 190, 192, 199],\n",
              "         [ 21,  51, 102, ..., 214, 200, 209]], dtype=int32)},\n",
              " {'element': 'Sul', 'image': array([[ 0,  0,  0, ...,  4,  3,  2],\n",
              "         [ 0,  0,  0, ...,  0,  0,  2],\n",
              "         [ 0,  0,  0, ...,  0,  7,  4],\n",
              "         ...,\n",
              "         [21, 27,  9, ...,  0,  0,  0],\n",
              "         [11, 21, 15, ...,  0,  0,  0],\n",
              "         [14, 21, 26, ...,  0,  0,  0]], dtype=int32)},\n",
              " {'element': 'Ti', 'image': array([[ 9, 12,  8, ...,  4,  5,  0],\n",
              "         [ 8,  9,  3, ...,  2,  0,  3],\n",
              "         [ 7,  5,  6, ...,  2,  5,  6],\n",
              "         ...,\n",
              "         [ 2,  0,  4, ...,  4,  0,  0],\n",
              "         [ 6,  2,  5, ...,  2,  0,  0],\n",
              "         [ 7,  3,  5, ...,  0,  3,  6]], dtype=int32)}]"
            ]
          },
          "metadata": {
            "tags": []
          },
          "execution_count": 7
        }
      ]
    },
    {
      "metadata": {
        "id": "S027OwSGpCD5",
        "colab_type": "code",
        "colab": {}
      },
      "cell_type": "code",
      "source": [
        "columns = []\n",
        "pixels = []\n",
        "for element in images:\n",
        "  columns.append(element['element'])\n",
        "  pixels.append(element['image'].flatten())"
      ],
      "execution_count": 0,
      "outputs": []
    },
    {
      "metadata": {
        "id": "iGB0OkHMpSUI",
        "colab_type": "code",
        "colab": {
          "base_uri": "https://localhost:8080/",
          "height": 204
        },
        "outputId": "b3b2ff99-ef81-4e08-e246-b2cd56d7f5d8"
      },
      "cell_type": "code",
      "source": [
        "image_pixels_df = pd.DataFrame(np.dstack(pixels)[0], columns=columns)\n",
        "image_pixels_df = image_pixels_df.reset_index().rename(columns={'Pho': 'P', 'Sul': 'S', 'index': 'order'})\n",
        "image_pixels_df.head()"
      ],
      "execution_count": 9,
      "outputs": [
        {
          "output_type": "execute_result",
          "data": {
            "text/html": [
              "<div>\n",
              "<style scoped>\n",
              "    .dataframe tbody tr th:only-of-type {\n",
              "        vertical-align: middle;\n",
              "    }\n",
              "\n",
              "    .dataframe tbody tr th {\n",
              "        vertical-align: top;\n",
              "    }\n",
              "\n",
              "    .dataframe thead th {\n",
              "        text-align: right;\n",
              "    }\n",
              "</style>\n",
              "<table border=\"1\" class=\"dataframe\">\n",
              "  <thead>\n",
              "    <tr style=\"text-align: right;\">\n",
              "      <th></th>\n",
              "      <th>order</th>\n",
              "      <th>Al</th>\n",
              "      <th>Ca</th>\n",
              "      <th>Cr</th>\n",
              "      <th>Fe</th>\n",
              "      <th>Mg</th>\n",
              "      <th>Ni</th>\n",
              "      <th>P</th>\n",
              "      <th>Si</th>\n",
              "      <th>S</th>\n",
              "      <th>Ti</th>\n",
              "    </tr>\n",
              "  </thead>\n",
              "  <tbody>\n",
              "    <tr>\n",
              "      <th>0</th>\n",
              "      <td>0</td>\n",
              "      <td>25</td>\n",
              "      <td>26</td>\n",
              "      <td>25</td>\n",
              "      <td>15</td>\n",
              "      <td>65</td>\n",
              "      <td>0</td>\n",
              "      <td>0</td>\n",
              "      <td>332</td>\n",
              "      <td>0</td>\n",
              "      <td>9</td>\n",
              "    </tr>\n",
              "    <tr>\n",
              "      <th>1</th>\n",
              "      <td>1</td>\n",
              "      <td>45</td>\n",
              "      <td>15</td>\n",
              "      <td>17</td>\n",
              "      <td>12</td>\n",
              "      <td>26</td>\n",
              "      <td>0</td>\n",
              "      <td>0</td>\n",
              "      <td>229</td>\n",
              "      <td>0</td>\n",
              "      <td>12</td>\n",
              "    </tr>\n",
              "    <tr>\n",
              "      <th>2</th>\n",
              "      <td>2</td>\n",
              "      <td>51</td>\n",
              "      <td>11</td>\n",
              "      <td>12</td>\n",
              "      <td>9</td>\n",
              "      <td>5</td>\n",
              "      <td>0</td>\n",
              "      <td>0</td>\n",
              "      <td>262</td>\n",
              "      <td>0</td>\n",
              "      <td>8</td>\n",
              "    </tr>\n",
              "    <tr>\n",
              "      <th>3</th>\n",
              "      <td>3</td>\n",
              "      <td>62</td>\n",
              "      <td>5</td>\n",
              "      <td>12</td>\n",
              "      <td>8</td>\n",
              "      <td>5</td>\n",
              "      <td>0</td>\n",
              "      <td>5</td>\n",
              "      <td>278</td>\n",
              "      <td>0</td>\n",
              "      <td>12</td>\n",
              "    </tr>\n",
              "    <tr>\n",
              "      <th>4</th>\n",
              "      <td>4</td>\n",
              "      <td>80</td>\n",
              "      <td>4</td>\n",
              "      <td>6</td>\n",
              "      <td>5</td>\n",
              "      <td>6</td>\n",
              "      <td>0</td>\n",
              "      <td>0</td>\n",
              "      <td>313</td>\n",
              "      <td>0</td>\n",
              "      <td>9</td>\n",
              "    </tr>\n",
              "  </tbody>\n",
              "</table>\n",
              "</div>"
            ],
            "text/plain": [
              "   order  Al  Ca  Cr  Fe  Mg  Ni  P   Si  S  Ti\n",
              "0      0  25  26  25  15  65   0  0  332  0   9\n",
              "1      1  45  15  17  12  26   0  0  229  0  12\n",
              "2      2  51  11  12   9   5   0  0  262  0   8\n",
              "3      3  62   5  12   8   5   0  5  278  0  12\n",
              "4      4  80   4   6   5   6   0  0  313  0   9"
            ]
          },
          "metadata": {
            "tags": []
          },
          "execution_count": 9
        }
      ]
    },
    {
      "metadata": {
        "id": "OTUfBPycp4X7",
        "colab_type": "code",
        "colab": {}
      },
      "cell_type": "code",
      "source": [
        "X = image_pixels_df[['Ca', 'Fe', 'Mg', 'Ni', 'S', 'Si', 'Ti']].values\n",
        "image_pixels_df['predicted_element'] = mod.predict(X)"
      ],
      "execution_count": 0,
      "outputs": []
    },
    {
      "metadata": {
        "id": "TD7WNydKr4s6",
        "colab_type": "code",
        "colab": {
          "base_uri": "https://localhost:8080/",
          "height": 204
        },
        "outputId": "90b6300a-97e6-4bf9-d9c2-6ec35db18148"
      },
      "cell_type": "code",
      "source": [
        "\n",
        "results = image_pixels_df.merge(\n",
        "    pd.Series(mod.classes_, name='predicted_element').reset_index().rename(columns={'index': 'element_index'}),\n",
        "    on='predicted_element'\n",
        ").sort_values('order')\n",
        "results.head()"
      ],
      "execution_count": 11,
      "outputs": [
        {
          "output_type": "execute_result",
          "data": {
            "text/html": [
              "<div>\n",
              "<style scoped>\n",
              "    .dataframe tbody tr th:only-of-type {\n",
              "        vertical-align: middle;\n",
              "    }\n",
              "\n",
              "    .dataframe tbody tr th {\n",
              "        vertical-align: top;\n",
              "    }\n",
              "\n",
              "    .dataframe thead th {\n",
              "        text-align: right;\n",
              "    }\n",
              "</style>\n",
              "<table border=\"1\" class=\"dataframe\">\n",
              "  <thead>\n",
              "    <tr style=\"text-align: right;\">\n",
              "      <th></th>\n",
              "      <th>order</th>\n",
              "      <th>Al</th>\n",
              "      <th>Ca</th>\n",
              "      <th>Cr</th>\n",
              "      <th>Fe</th>\n",
              "      <th>Mg</th>\n",
              "      <th>Ni</th>\n",
              "      <th>P</th>\n",
              "      <th>Si</th>\n",
              "      <th>S</th>\n",
              "      <th>Ti</th>\n",
              "      <th>predicted_element</th>\n",
              "      <th>element_index</th>\n",
              "    </tr>\n",
              "  </thead>\n",
              "  <tbody>\n",
              "    <tr>\n",
              "      <th>0</th>\n",
              "      <td>0</td>\n",
              "      <td>25</td>\n",
              "      <td>26</td>\n",
              "      <td>25</td>\n",
              "      <td>15</td>\n",
              "      <td>65</td>\n",
              "      <td>0</td>\n",
              "      <td>0</td>\n",
              "      <td>332</td>\n",
              "      <td>0</td>\n",
              "      <td>9</td>\n",
              "      <td>Pyroxene</td>\n",
              "      <td>4</td>\n",
              "    </tr>\n",
              "    <tr>\n",
              "      <th>1</th>\n",
              "      <td>1</td>\n",
              "      <td>45</td>\n",
              "      <td>15</td>\n",
              "      <td>17</td>\n",
              "      <td>12</td>\n",
              "      <td>26</td>\n",
              "      <td>0</td>\n",
              "      <td>0</td>\n",
              "      <td>229</td>\n",
              "      <td>0</td>\n",
              "      <td>12</td>\n",
              "      <td>Pyroxene</td>\n",
              "      <td>4</td>\n",
              "    </tr>\n",
              "    <tr>\n",
              "      <th>2</th>\n",
              "      <td>2</td>\n",
              "      <td>51</td>\n",
              "      <td>11</td>\n",
              "      <td>12</td>\n",
              "      <td>9</td>\n",
              "      <td>5</td>\n",
              "      <td>0</td>\n",
              "      <td>0</td>\n",
              "      <td>262</td>\n",
              "      <td>0</td>\n",
              "      <td>8</td>\n",
              "      <td>Pyroxene</td>\n",
              "      <td>4</td>\n",
              "    </tr>\n",
              "    <tr>\n",
              "      <th>3</th>\n",
              "      <td>3</td>\n",
              "      <td>62</td>\n",
              "      <td>5</td>\n",
              "      <td>12</td>\n",
              "      <td>8</td>\n",
              "      <td>5</td>\n",
              "      <td>0</td>\n",
              "      <td>5</td>\n",
              "      <td>278</td>\n",
              "      <td>0</td>\n",
              "      <td>12</td>\n",
              "      <td>Pyroxene</td>\n",
              "      <td>4</td>\n",
              "    </tr>\n",
              "    <tr>\n",
              "      <th>4</th>\n",
              "      <td>4</td>\n",
              "      <td>80</td>\n",
              "      <td>4</td>\n",
              "      <td>6</td>\n",
              "      <td>5</td>\n",
              "      <td>6</td>\n",
              "      <td>0</td>\n",
              "      <td>0</td>\n",
              "      <td>313</td>\n",
              "      <td>0</td>\n",
              "      <td>9</td>\n",
              "      <td>Pyroxene</td>\n",
              "      <td>4</td>\n",
              "    </tr>\n",
              "  </tbody>\n",
              "</table>\n",
              "</div>"
            ],
            "text/plain": [
              "   order  Al  Ca  Cr  Fe  Mg  Ni  P   Si  S  Ti predicted_element  \\\n",
              "0      0  25  26  25  15  65   0  0  332  0   9          Pyroxene   \n",
              "1      1  45  15  17  12  26   0  0  229  0  12          Pyroxene   \n",
              "2      2  51  11  12   9   5   0  0  262  0   8          Pyroxene   \n",
              "3      3  62   5  12   8   5   0  5  278  0  12          Pyroxene   \n",
              "4      4  80   4   6   5   6   0  0  313  0   9          Pyroxene   \n",
              "\n",
              "   element_index  \n",
              "0              4  \n",
              "1              4  \n",
              "2              4  \n",
              "3              4  \n",
              "4              4  "
            ]
          },
          "metadata": {
            "tags": []
          },
          "execution_count": 11
        }
      ]
    },
    {
      "metadata": {
        "id": "I-2Msqdtqzp6",
        "colab_type": "code",
        "colab": {
          "base_uri": "https://localhost:8080/",
          "height": 591
        },
        "outputId": "fb9503d8-e52b-4bf3-eca9-df8279cc2646"
      },
      "cell_type": "code",
      "source": [
        "imshow(results['element_index'].reshape((512, 512)))"
      ],
      "execution_count": 12,
      "outputs": [
        {
          "output_type": "stream",
          "text": [
            "/usr/local/lib/python3.6/dist-packages/ipykernel_launcher.py:1: FutureWarning: reshape is deprecated and will raise in a subsequent release. Please use .values.reshape(...) instead\n",
            "  \"\"\"Entry point for launching an IPython kernel.\n",
            "/usr/local/lib/python3.6/dist-packages/skimage/io/_plugins/matplotlib_plugin.py:51: FutureWarning: Conversion of the second argument of issubdtype from `float` to `np.floating` is deprecated. In future, it will be treated as `np.float64 == np.dtype(float).type`.\n",
            "  out_of_range_float = (np.issubdtype(image.dtype, np.float) and\n",
            "/usr/local/lib/python3.6/dist-packages/skimage/io/_plugins/matplotlib_plugin.py:74: UserWarning: Low image data range; displaying image with stretched contrast.\n",
            "  warn(\"Low image data range; displaying image with \"\n",
            "/usr/local/lib/python3.6/dist-packages/matplotlib/axes/_base.py:1334: MatplotlibDeprecationWarning: \n",
            "box-forced\n",
            "  \"2.2\", \"box-forced\", obj_type=\"keyword argument\")\n"
          ],
          "name": "stderr"
        },
        {
          "output_type": "execute_result",
          "data": {
            "text/plain": [
              "<matplotlib.image.AxesImage at 0x7fee4c69f320>"
            ]
          },
          "metadata": {
            "tags": []
          },
          "execution_count": 12
        },
        {
          "output_type": "display_data",
          "data": {
            "image/png": "[encoded data removed]",
            "text/plain": [
              "<Figure size 576x396 with 2 Axes>"
            ]
          },
          "metadata": {
            "tags": []
          }
        }
      ]
    },
    {
      "metadata": {
        "id": "HK-4_rMdrFcy",
        "colab_type": "code",
        "colab": {
          "base_uri": "https://localhost:8080/",
          "height": 544
        },
        "outputId": "e03a3ae5-4336-4cc1-ce92-8b3baaa04ea0"
      },
      "cell_type": "code",
      "source": [
        "figure, ax = plt.subplots(figsize=(8,8))\n",
        "i = ax.imshow(\n",
        "    results['element_index'].reshape((512, 512)),\n",
        "    cmap='jet'\n",
        ")\n",
        "cbar = figure.colorbar(i, ticks=range(len(mod.classes_)))\n",
        "cbar.ax.set_yticklabels(mod.classes_)\n",
        "ax.legend()"
      ],
      "execution_count": 20,
      "outputs": [
        {
          "output_type": "stream",
          "text": [
            "/usr/local/lib/python3.6/dist-packages/ipykernel_launcher.py:3: FutureWarning: reshape is deprecated and will raise in a subsequent release. Please use .values.reshape(...) instead\n",
            "  This is separate from the ipykernel package so we can avoid doing imports until\n",
            "No handles with labels found to put in legend.\n"
          ],
          "name": "stderr"
        },
        {
          "output_type": "execute_result",
          "data": {
            "text/plain": [
              "<matplotlib.legend.Legend at 0x7fee4c1fa978>"
            ]
          },
          "metadata": {
            "tags": []
          },
          "execution_count": 20
        },
        {
          "output_type": "display_data",
          "data": {
            "image/png": "[encoded data removed]",
            "text/plain": [
              "<Figure size 576x576 with 2 Axes>"
            ]
          },
          "metadata": {
            "tags": []
          }
        }
      ]
    },
    {
      "metadata": {
        "id": "A8T5mPLBssbz",
        "colab_type": "code",
        "colab": {
          "base_uri": "https://localhost:8080/",
          "height": 51
        },
        "outputId": "ec9bc611-f019-470a-b3da-b5b53d495704"
      },
      "cell_type": "code",
      "source": [
        "figure.colorbar()\n",
        "\n",
        "mod.classes_"
      ],
      "execution_count": 17,
      "outputs": [
        {
          "output_type": "execute_result",
          "data": {
            "text/plain": [
              "array(['Kamacite', 'Millerite', 'Olivine', 'Pentlandite', 'Pyroxene',\n",
              "       'Taenite', 'Troilite'], dtype=object)"
            ]
          },
          "metadata": {
            "tags": []
          },
          "execution_count": 17
        }
      ]
    },
    {
      "metadata": {
        "id": "WvcAmyUHs39D",
        "colab_type": "code",
        "colab": {}
      },
      "cell_type": "code",
      "source": [
        ""
      ],
      "execution_count": 0,
      "outputs": []
    }
  ]
}