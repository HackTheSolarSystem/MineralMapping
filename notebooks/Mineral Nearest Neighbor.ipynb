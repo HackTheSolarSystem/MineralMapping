{
 "cells": [
  {
   "cell_type": "code",
   "execution_count": 162,
   "metadata": {},
   "outputs": [],
   "source": [
    "import numpy as np\n",
    "import pandas as pd\n",
    "import periodictable\n",
    "\n",
    "from pathlib import Path"
   ]
  },
  {
   "cell_type": "code",
   "execution_count": 163,
   "metadata": {},
   "outputs": [
    {
     "data": {
      "text/html": [
       "<div>\n",
       "<style scoped>\n",
       "    .dataframe tbody tr th:only-of-type {\n",
       "        vertical-align: middle;\n",
       "    }\n",
       "\n",
       "    .dataframe tbody tr th {\n",
       "        vertical-align: top;\n",
       "    }\n",
       "\n",
       "    .dataframe thead th {\n",
       "        text-align: right;\n",
       "    }\n",
       "</style>\n",
       "<table border=\"1\" class=\"dataframe\">\n",
       "  <thead>\n",
       "    <tr style=\"text-align: right;\">\n",
       "      <th></th>\n",
       "      <th>element</th>\n",
       "      <th>coefficient</th>\n",
       "    </tr>\n",
       "  </thead>\n",
       "  <tbody>\n",
       "    <tr>\n",
       "      <th>0</th>\n",
       "      <td>Mg</td>\n",
       "      <td>0.001186</td>\n",
       "    </tr>\n",
       "    <tr>\n",
       "      <th>1</th>\n",
       "      <td>Ni</td>\n",
       "      <td>0.003291</td>\n",
       "    </tr>\n",
       "    <tr>\n",
       "      <th>2</th>\n",
       "      <td>Fe</td>\n",
       "      <td>0.003189</td>\n",
       "    </tr>\n",
       "    <tr>\n",
       "      <th>3</th>\n",
       "      <td>Ca</td>\n",
       "      <td>0.002151</td>\n",
       "    </tr>\n",
       "    <tr>\n",
       "      <th>4</th>\n",
       "      <td>S</td>\n",
       "      <td>0.004667</td>\n",
       "    </tr>\n",
       "    <tr>\n",
       "      <th>5</th>\n",
       "      <td>Ti</td>\n",
       "      <td>0.000781</td>\n",
       "    </tr>\n",
       "    <tr>\n",
       "      <th>6</th>\n",
       "      <td>Si</td>\n",
       "      <td>0.000982</td>\n",
       "    </tr>\n",
       "  </tbody>\n",
       "</table>\n",
       "</div>"
      ],
      "text/plain": [
       "  element  coefficient\n",
       "0      Mg     0.001186\n",
       "1      Ni     0.003291\n",
       "2      Fe     0.003189\n",
       "3      Ca     0.002151\n",
       "4       S     0.004667\n",
       "5      Ti     0.000781\n",
       "6      Si     0.000982"
      ]
     },
     "execution_count": 163,
     "metadata": {},
     "output_type": "execute_result"
    }
   ],
   "source": [
    "coeff_df = pd.read_csv('https://raw.githubusercontent.com/HackTheSolarSystem/MineralMapping/master/challenge_data/weight_proportion_coefficients.csv')\n",
    "coeff_df"
   ]
  },
  {
   "cell_type": "code",
   "execution_count": 164,
   "metadata": {},
   "outputs": [],
   "source": [
    "chemical_formulas = {\n",
    "    \"Kamacite\": \"Fe9Ni\",\n",
    "    \"Taenite\": \"Fe8Ni2\",\n",
    "    \"Millerite\": \"NiS\",\n",
    "    \"Troilite\": \"FeS\",\n",
    "    \"Pentlandite\": \"FeNiS\",\n",
    "    \"Olivine\": \"Fe2Mg2SiO4\",\n",
    "    \"Pyroxene\": \"FeMgSiO3\",\n",
    "}"
   ]
  },
  {
   "cell_type": "code",
   "execution_count": 165,
   "metadata": {
    "scrolled": false
   },
   "outputs": [],
   "source": [
    "weight_proportions = {\n",
    "    mineral: {\n",
    "        str(e): m\n",
    "        for e, m in periodictable.formula(formula).mass_fraction.items()\n",
    "    }\n",
    "    for mineral, formula in chemical_formulas.items()\n",
    "}\n",
    "weight_proportions[\"Olivine\"] = {\n",
    "    'Ca': 0.0002,\n",
    "    'Fe': 0.0742,\n",
    "    'Mg': 0.298,\n",
    "    'Mn': 0.0011,\n",
    "    'Ni': 0.0029,\n",
    "    'Si': 0.1908,\n",
    "}\n",
    "weight_proportions_df = pd.DataFrame.from_records(weight_proportions).fillna(0)"
   ]
  },
  {
   "cell_type": "code",
   "execution_count": 166,
   "metadata": {
    "scrolled": true
   },
   "outputs": [
    {
     "data": {
      "text/html": [
       "<div>\n",
       "<style scoped>\n",
       "    .dataframe tbody tr th:only-of-type {\n",
       "        vertical-align: middle;\n",
       "    }\n",
       "\n",
       "    .dataframe tbody tr th {\n",
       "        vertical-align: top;\n",
       "    }\n",
       "\n",
       "    .dataframe thead th {\n",
       "        text-align: right;\n",
       "    }\n",
       "</style>\n",
       "<table border=\"1\" class=\"dataframe\">\n",
       "  <thead>\n",
       "    <tr style=\"text-align: right;\">\n",
       "      <th></th>\n",
       "      <th>Kamacite</th>\n",
       "      <th>Millerite</th>\n",
       "      <th>Olivine</th>\n",
       "      <th>Pentlandite</th>\n",
       "      <th>Pyroxene</th>\n",
       "      <th>Taenite</th>\n",
       "      <th>Troilite</th>\n",
       "    </tr>\n",
       "  </thead>\n",
       "  <tbody>\n",
       "    <tr>\n",
       "      <th>Ca</th>\n",
       "      <td>0.000000</td>\n",
       "      <td>0.000000</td>\n",
       "      <td>0.0002</td>\n",
       "      <td>0.000000</td>\n",
       "      <td>0.000000</td>\n",
       "      <td>0.000000</td>\n",
       "      <td>0.000000</td>\n",
       "    </tr>\n",
       "    <tr>\n",
       "      <th>Fe</th>\n",
       "      <td>0.895433</td>\n",
       "      <td>0.000000</td>\n",
       "      <td>0.0742</td>\n",
       "      <td>0.380926</td>\n",
       "      <td>0.357445</td>\n",
       "      <td>0.791922</td>\n",
       "      <td>0.635252</td>\n",
       "    </tr>\n",
       "    <tr>\n",
       "      <th>Mg</th>\n",
       "      <td>0.000000</td>\n",
       "      <td>0.000000</td>\n",
       "      <td>0.2980</td>\n",
       "      <td>0.000000</td>\n",
       "      <td>0.155568</td>\n",
       "      <td>0.000000</td>\n",
       "      <td>0.000000</td>\n",
       "    </tr>\n",
       "    <tr>\n",
       "      <th>Ni</th>\n",
       "      <td>0.104567</td>\n",
       "      <td>0.646699</td>\n",
       "      <td>0.0029</td>\n",
       "      <td>0.400355</td>\n",
       "      <td>0.000000</td>\n",
       "      <td>0.208078</td>\n",
       "      <td>0.000000</td>\n",
       "    </tr>\n",
       "    <tr>\n",
       "      <th>S</th>\n",
       "      <td>0.000000</td>\n",
       "      <td>0.353301</td>\n",
       "      <td>0.0000</td>\n",
       "      <td>0.218719</td>\n",
       "      <td>0.000000</td>\n",
       "      <td>0.000000</td>\n",
       "      <td>0.364748</td>\n",
       "    </tr>\n",
       "    <tr>\n",
       "      <th>Si</th>\n",
       "      <td>0.000000</td>\n",
       "      <td>0.000000</td>\n",
       "      <td>0.1908</td>\n",
       "      <td>0.000000</td>\n",
       "      <td>0.179766</td>\n",
       "      <td>0.000000</td>\n",
       "      <td>0.000000</td>\n",
       "    </tr>\n",
       "    <tr>\n",
       "      <th>Ti</th>\n",
       "      <td>0.000000</td>\n",
       "      <td>0.000000</td>\n",
       "      <td>0.0000</td>\n",
       "      <td>0.000000</td>\n",
       "      <td>0.000000</td>\n",
       "      <td>0.000000</td>\n",
       "      <td>0.000000</td>\n",
       "    </tr>\n",
       "  </tbody>\n",
       "</table>\n",
       "</div>"
      ],
      "text/plain": [
       "    Kamacite  Millerite  Olivine  Pentlandite  Pyroxene   Taenite  Troilite\n",
       "Ca  0.000000   0.000000   0.0002     0.000000  0.000000  0.000000  0.000000\n",
       "Fe  0.895433   0.000000   0.0742     0.380926  0.357445  0.791922  0.635252\n",
       "Mg  0.000000   0.000000   0.2980     0.000000  0.155568  0.000000  0.000000\n",
       "Ni  0.104567   0.646699   0.0029     0.400355  0.000000  0.208078  0.000000\n",
       "S   0.000000   0.353301   0.0000     0.218719  0.000000  0.000000  0.364748\n",
       "Si  0.000000   0.000000   0.1908     0.000000  0.179766  0.000000  0.000000\n",
       "Ti  0.000000   0.000000   0.0000     0.000000  0.000000  0.000000  0.000000"
      ]
     },
     "execution_count": 166,
     "metadata": {},
     "output_type": "execute_result"
    }
   ],
   "source": [
    "weight_proportion_elements = set(weight_proportions_df.index)\n",
    "coeff_elements = set(coeff_df.element.unique())\n",
    "\n",
    "# Remove any elements that don't appear in the coefficients\n",
    "missing_elements = list(weight_proportion_elements - coeff_elements)\n",
    "weight_proportions_df.drop(missing_elements, inplace=True)\n",
    "\n",
    "# Add in empty rows for elements that appear in the coefficients but\n",
    "# are missing from the weight proportions\n",
    "extra_elements = list(coeff_elements - weight_proportion_elements)\n",
    "for e in extra_elements:\n",
    "    weight_proportions_df.loc[e] = [0] * weight_proportions_df.shape[1]\n",
    "weight_proportions_df"
   ]
  },
  {
   "cell_type": "code",
   "execution_count": 167,
   "metadata": {},
   "outputs": [
    {
     "data": {
      "text/plain": [
       "array([[0.00000000e+00, 2.80754999e+02, 0.00000000e+00, 3.17720337e+01,\n",
       "        0.00000000e+00, 0.00000000e+00, 0.00000000e+00],\n",
       "       [0.00000000e+00, 0.00000000e+00, 0.00000000e+00, 1.96495219e+02,\n",
       "        7.57064867e+01, 0.00000000e+00, 0.00000000e+00],\n",
       "       [9.29880613e-02, 2.32647507e+01, 2.51251746e+02, 8.81145339e-01,\n",
       "        0.00000000e+00, 1.94208412e+02, 0.00000000e+00],\n",
       "       [0.00000000e+00, 1.19435863e+02, 0.00000000e+00, 1.21645144e+02,\n",
       "        4.68679417e+01, 0.00000000e+00, 0.00000000e+00],\n",
       "       [0.00000000e+00, 1.12073794e+02, 1.31163722e+02, 0.00000000e+00,\n",
       "        0.00000000e+00, 1.82977255e+02, 0.00000000e+00],\n",
       "       [0.00000000e+00, 2.48299961e+02, 0.00000000e+00, 6.32232308e+01,\n",
       "        0.00000000e+00, 0.00000000e+00, 0.00000000e+00],\n",
       "       [0.00000000e+00, 1.99177608e+02, 0.00000000e+00, 0.00000000e+00,\n",
       "        7.81594767e+01, 0.00000000e+00, 0.00000000e+00]])"
      ]
     },
     "execution_count": 167,
     "metadata": {},
     "output_type": "execute_result"
    }
   ],
   "source": [
    "weight_proportions_df.sort_index(inplace=True)\n",
    "coeff_df.sort_values('element', inplace=True)\n",
    "\n",
    "coeff_vec = np.reciprocal(np.array(coeff_df.coefficient.values))\n",
    "theor_intensities = np.diag(coeff_vec).dot(weight_proportions_df).T\n",
    "theor_intensities"
   ]
  },
  {
   "cell_type": "code",
   "execution_count": 168,
   "metadata": {},
   "outputs": [],
   "source": [
    "from sklearn.neighbors import KNeighborsClassifier"
   ]
  },
  {
   "cell_type": "code",
   "execution_count": 169,
   "metadata": {},
   "outputs": [
    {
     "data": {
      "text/plain": [
       "KNeighborsClassifier(algorithm='auto', leaf_size=30, metric='minkowski',\n",
       "           metric_params=None, n_jobs=None, n_neighbors=1, p=2,\n",
       "           weights='uniform')"
      ]
     },
     "execution_count": 169,
     "metadata": {},
     "output_type": "execute_result"
    }
   ],
   "source": [
    "classes = range(theor_intensities.shape[0])\n",
    "\n",
    "# Fit a nearest neightbors classifier with the theoretical intensities as the centers\n",
    "clf = KNeighborsClassifier(n_neighbors=1)\n",
    "clf.fit(theor_intensities, classes)"
   ]
  },
  {
   "cell_type": "code",
   "execution_count": 196,
   "metadata": {
    "scrolled": true
   },
   "outputs": [
    {
     "data": {
      "text/plain": [
       "[{'name': 'Ca', 'image': array([[12, 12, 11, ...,  5,  4, 12],\n",
       "         [ 4,  4, 15, ...,  4,  8,  0],\n",
       "         [ 6,  6, 18, ...,  5,  3,  7],\n",
       "         ...,\n",
       "         [ 0,  3,  0, ..., 10,  7,  4],\n",
       "         [ 0,  0,  0, ...,  3,  7,  2],\n",
       "         [ 2,  0,  2, ...,  7,  3,  3]], dtype=int32)},\n",
       " {'name': 'Fe', 'image': array([[49, 44, 45, ..., 19, 21, 17],\n",
       "         [38, 42, 48, ..., 11, 17, 23],\n",
       "         [52, 38, 37, ..., 20, 17, 20],\n",
       "         ...,\n",
       "         [48, 33, 30, ..., 41, 41, 41],\n",
       "         [47, 46, 34, ..., 42, 54, 43],\n",
       "         [56, 32, 41, ..., 56, 51, 40]], dtype=int32)},\n",
       " {'name': 'Mg', 'image': array([[ 66,  76,  90, ..., 167, 171, 150],\n",
       "         [ 49,  62,  90, ..., 159, 174, 148],\n",
       "         [ 70,  72,  64, ..., 186, 159, 181],\n",
       "         ...,\n",
       "         [239, 201, 196, ..., 114, 133, 186],\n",
       "         [216, 162, 158, ...,  90, 127, 186],\n",
       "         [188, 149, 161, ...,  79, 121, 138]], dtype=int32)},\n",
       " {'name': 'Ni', 'image': array([[2, 0, 2, ..., 0, 0, 0],\n",
       "         [0, 0, 0, ..., 0, 2, 0],\n",
       "         [0, 0, 0, ..., 0, 0, 3],\n",
       "         ...,\n",
       "         [2, 2, 2, ..., 3, 2, 0],\n",
       "         [0, 0, 0, ..., 3, 2, 0],\n",
       "         [0, 0, 0, ..., 4, 4, 0]], dtype=int32)},\n",
       " {'name': 'S', 'image': array([[0, 0, 0, ..., 0, 0, 0],\n",
       "         [0, 0, 0, ..., 0, 0, 0],\n",
       "         [0, 0, 0, ..., 0, 0, 0],\n",
       "         ...,\n",
       "         [0, 0, 0, ..., 0, 0, 2],\n",
       "         [0, 0, 0, ..., 0, 4, 0],\n",
       "         [0, 0, 0, ..., 0, 2, 0]], dtype=int32)},\n",
       " {'name': 'Si', 'image': array([[330, 226, 221, ..., 263, 271, 289],\n",
       "         [344, 215, 210, ..., 297, 288, 286],\n",
       "         [307, 231, 183, ..., 275, 281, 285],\n",
       "         ...,\n",
       "         [194, 164, 191, ..., 227, 196, 277],\n",
       "         [191, 161, 171, ..., 221, 196, 257],\n",
       "         [193, 165, 171, ..., 209, 186, 225]], dtype=int32)},\n",
       " {'name': 'Ti', 'image': array([[3, 0, 0, ..., 0, 3, 0],\n",
       "         [0, 4, 4, ..., 4, 0, 3],\n",
       "         [2, 3, 3, ..., 2, 4, 2],\n",
       "         ...,\n",
       "         [0, 0, 2, ..., 8, 4, 2],\n",
       "         [3, 2, 4, ..., 5, 5, 2],\n",
       "         [0, 3, 2, ..., 9, 3, 2]], dtype=int32)}]"
      ]
     },
     "execution_count": 196,
     "metadata": {},
     "output_type": "execute_result"
    }
   ],
   "source": [
    "from skimage.io import imread, imshow\n",
    "from pathlib import Path\n",
    "\n",
    "image_path = Path(\"obj2\")\n",
    "obj1_intensities = [\n",
    "    {\n",
    "        'name': s.name.split('_')[2].split('.')[0],\n",
    "        'image': imread(s)\n",
    "    }\n",
    "    for s in image_path.glob('*32bt*')\n",
    "    if s.name.split('_')[2].split('.')[0] in weight_proportions_df.index\n",
    "]\n",
    "obj1_intensities"
   ]
  },
  {
   "cell_type": "code",
   "execution_count": 197,
   "metadata": {},
   "outputs": [
    {
     "data": {
      "text/plain": [
       "array([[[ 12,  49,  66, ...,   0, 330,   3],\n",
       "        [ 12,  44,  76, ...,   0, 226,   0],\n",
       "        [ 11,  45,  90, ...,   0, 221,   0],\n",
       "        ...,\n",
       "        [  5,  19, 167, ...,   0, 263,   0],\n",
       "        [  4,  21, 171, ...,   0, 271,   3],\n",
       "        [ 12,  17, 150, ...,   0, 289,   0]],\n",
       "\n",
       "       [[  4,  38,  49, ...,   0, 344,   0],\n",
       "        [  4,  42,  62, ...,   0, 215,   4],\n",
       "        [ 15,  48,  90, ...,   0, 210,   4],\n",
       "        ...,\n",
       "        [  4,  11, 159, ...,   0, 297,   4],\n",
       "        [  8,  17, 174, ...,   0, 288,   0],\n",
       "        [  0,  23, 148, ...,   0, 286,   3]],\n",
       "\n",
       "       [[  6,  52,  70, ...,   0, 307,   2],\n",
       "        [  6,  38,  72, ...,   0, 231,   3],\n",
       "        [ 18,  37,  64, ...,   0, 183,   3],\n",
       "        ...,\n",
       "        [  5,  20, 186, ...,   0, 275,   2],\n",
       "        [  3,  17, 159, ...,   0, 281,   4],\n",
       "        [  7,  20, 181, ...,   0, 285,   2]],\n",
       "\n",
       "       ...,\n",
       "\n",
       "       [[  0,  48, 239, ...,   0, 194,   0],\n",
       "        [  3,  33, 201, ...,   0, 164,   0],\n",
       "        [  0,  30, 196, ...,   0, 191,   2],\n",
       "        ...,\n",
       "        [ 10,  41, 114, ...,   0, 227,   8],\n",
       "        [  7,  41, 133, ...,   0, 196,   4],\n",
       "        [  4,  41, 186, ...,   2, 277,   2]],\n",
       "\n",
       "       [[  0,  47, 216, ...,   0, 191,   3],\n",
       "        [  0,  46, 162, ...,   0, 161,   2],\n",
       "        [  0,  34, 158, ...,   0, 171,   4],\n",
       "        ...,\n",
       "        [  3,  42,  90, ...,   0, 221,   5],\n",
       "        [  7,  54, 127, ...,   4, 196,   5],\n",
       "        [  2,  43, 186, ...,   0, 257,   2]],\n",
       "\n",
       "       [[  2,  56, 188, ...,   0, 193,   0],\n",
       "        [  0,  32, 149, ...,   0, 165,   3],\n",
       "        [  2,  41, 161, ...,   0, 171,   2],\n",
       "        ...,\n",
       "        [  7,  56,  79, ...,   0, 209,   9],\n",
       "        [  3,  51, 121, ...,   2, 186,   3],\n",
       "        [  3,  40, 138, ...,   0, 225,   2]]], dtype=int32)"
      ]
     },
     "execution_count": 197,
     "metadata": {},
     "output_type": "execute_result"
    }
   ],
   "source": [
    "dfs = []\n",
    "\n",
    "pixels = []\n",
    "for element in obj1_intensities:\n",
    "    #image = imread(s2)\n",
    "    pixels.append(element['image'])\n",
    "\n",
    "#df = pd.DataFrame(np.dstack(pixels)[0], columns=[i['name'] for i in obj1_intensities])\n",
    "#df\n",
    "\n",
    "points = np.dstack(pixels)\n",
    "points"
   ]
  },
  {
   "cell_type": "code",
   "execution_count": 198,
   "metadata": {},
   "outputs": [
    {
     "data": {
      "text/plain": [
       "array([[[  0,   0, 255],\n",
       "        [  0,   0, 255],\n",
       "        [  0,   0, 255],\n",
       "        ...,\n",
       "        [255, 255,   0],\n",
       "        [255, 255,   0],\n",
       "        [255, 255,   0]],\n",
       "\n",
       "       [[  0,   0, 255],\n",
       "        [  0,   0, 255],\n",
       "        [  0,   0, 255],\n",
       "        ...,\n",
       "        [255, 255,   0],\n",
       "        [255, 255,   0],\n",
       "        [  0,   0, 255]],\n",
       "\n",
       "       [[  0,   0, 255],\n",
       "        [  0,   0, 255],\n",
       "        [  0,   0, 255],\n",
       "        ...,\n",
       "        [255, 255,   0],\n",
       "        [255, 255,   0],\n",
       "        [255, 255,   0]],\n",
       "\n",
       "       ...,\n",
       "\n",
       "       [[255, 255,   0],\n",
       "        [255, 255,   0],\n",
       "        [255, 255,   0],\n",
       "        ...,\n",
       "        [  0,   0, 255],\n",
       "        [  0,   0, 255],\n",
       "        [255, 255,   0]],\n",
       "\n",
       "       [[255, 255,   0],\n",
       "        [  0,   0, 255],\n",
       "        [  0,   0, 255],\n",
       "        ...,\n",
       "        [  0,   0, 255],\n",
       "        [  0,   0, 255],\n",
       "        [255, 255,   0]],\n",
       "\n",
       "       [[255, 255,   0],\n",
       "        [  0,   0, 255],\n",
       "        [  0,   0, 255],\n",
       "        ...,\n",
       "        [  0,   0, 255],\n",
       "        [  0,   0, 255],\n",
       "        [  0,   0, 255]]])"
      ]
     },
     "execution_count": 198,
     "metadata": {},
     "output_type": "execute_result"
    }
   ],
   "source": [
    "color_map = [\n",
    "    [255, 0, 0],\n",
    "    [255, 165, 0],\n",
    "    [255, 255, 0],\n",
    "    [160, 82, 45],\n",
    "    [0, 0, 255],\n",
    "    [128, 0, 128],\n",
    "    [255, 128, 0],\n",
    "]\n",
    "\n",
    "img_pts = []\n",
    "for row in points:\n",
    "    row_pts = []\n",
    "    y_hat = clf.predict(row)\n",
    "    for val in y_hat:\n",
    "        rgb = color_map[val]\n",
    "        row_pts.append(rgb)\n",
    "#    row_pts.append(color_map[int(clf.predict(row))])\n",
    "    img_pts.append(row_pts)\n",
    "np.array(img_pts)"
   ]
  },
  {
   "cell_type": "code",
   "execution_count": 199,
   "metadata": {},
   "outputs": [],
   "source": [
    "from PIL import Image\n",
    "img = Image.fromarray(np.array(img_pts).astype(np.uint8))"
   ]
  },
  {
   "cell_type": "code",
   "execution_count": 200,
   "metadata": {},
   "outputs": [],
   "source": [
    "img.show()"
   ]
  },
  {
   "cell_type": "code",
   "execution_count": 201,
   "metadata": {},
   "outputs": [],
   "source": [
    "img.save(\"/Users/peter/sandbox/MineralMapping/backend/obj2_NN.png\")"
   ]
  },
  {
   "cell_type": "code",
   "execution_count": null,
   "metadata": {},
   "outputs": [],
   "source": []
  }
 ],
 "metadata": {
  "kernelspec": {
   "display_name": "Python 3",
   "language": "python",
   "name": "python3"
  },
  "language_info": {
   "codemirror_mode": {
    "name": "ipython",
    "version": 3
   },
   "file_extension": ".py",
   "mimetype": "text/x-python",
   "name": "python",
   "nbconvert_exporter": "python",
   "pygments_lexer": "ipython3",
   "version": "3.7.1"
  }
 },
 "nbformat": 4,
 "nbformat_minor": 2
}
