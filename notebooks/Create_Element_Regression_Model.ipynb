{
  "nbformat": 4,
  "nbformat_minor": 0,
  "metadata": {
    "colab": {
      "name": "Create Element Regression Model",
      "version": "0.3.2",
      "provenance": []
    },
    "kernelspec": {
      "name": "python3",
      "display_name": "Python 3"
    }
  },
  "cells": [
    {
      "metadata": {
        "id": "QpHl0Hp_XntJ",
        "colab_type": "code",
        "colab": {}
      },
      "cell_type": "code",
      "source": [
        "import numpy as np\n",
        "import pandas as pd\n",
        "from skimage.io import imread, imshow\n",
        "import periodictable\n",
        "\n",
        "from pathlib import Path\n",
        "import re\n",
        "import json"
      ],
      "execution_count": 0,
      "outputs": []
    },
    {
      "metadata": {
        "id": "ywglepxAXwV3",
        "colab_type": "code",
        "colab": {
          "base_uri": "https://localhost:8080/",
          "height": 34
        },
        "outputId": "09ba3192-8a1c-4f53-d3cc-be9a9266bf4d"
      },
      "cell_type": "code",
      "source": [
        "# Only if on Google Colab\n",
        "\n",
        "from google.colab import drive\n",
        "drive.mount('/content/gdrive', force_remount=True)"
      ],
      "execution_count": 4,
      "outputs": [
        {
          "output_type": "stream",
          "text": [
            "Mounted at /content/gdrive\n"
          ],
          "name": "stdout"
        }
      ]
    },
    {
      "metadata": {
        "id": "_l4u8Q69XzG8",
        "colab_type": "code",
        "colab": {
          "base_uri": "https://localhost:8080/",
          "height": 204
        },
        "outputId": "829e5b99-31b6-4ac4-b384-b63270c0859d"
      },
      "cell_type": "code",
      "source": [
        "df = pd.read_csv('https://raw.githubusercontent.com/HackTheSolarSystem/MineralMapping/master/challenge_data/mineral_standards.csv')\n",
        "df.head(5)"
      ],
      "execution_count": 58,
      "outputs": [
        {
          "output_type": "execute_result",
          "data": {
            "text/html": [
              "<div>\n",
              "<style scoped>\n",
              "    .dataframe tbody tr th:only-of-type {\n",
              "        vertical-align: middle;\n",
              "    }\n",
              "\n",
              "    .dataframe tbody tr th {\n",
              "        vertical-align: top;\n",
              "    }\n",
              "\n",
              "    .dataframe thead th {\n",
              "        text-align: right;\n",
              "    }\n",
              "</style>\n",
              "<table border=\"1\" class=\"dataframe\">\n",
              "  <thead>\n",
              "    <tr style=\"text-align: right;\">\n",
              "      <th></th>\n",
              "      <th>Mg</th>\n",
              "      <th>Ni</th>\n",
              "      <th>Al</th>\n",
              "      <th>Fe</th>\n",
              "      <th>Ca</th>\n",
              "      <th>Cr</th>\n",
              "      <th>P</th>\n",
              "      <th>S</th>\n",
              "      <th>Ti</th>\n",
              "      <th>Si</th>\n",
              "      <th>mineral</th>\n",
              "    </tr>\n",
              "  </thead>\n",
              "  <tbody>\n",
              "    <tr>\n",
              "      <th>0</th>\n",
              "      <td>0</td>\n",
              "      <td>0</td>\n",
              "      <td>0</td>\n",
              "      <td>0</td>\n",
              "      <td>171</td>\n",
              "      <td>0</td>\n",
              "      <td>4</td>\n",
              "      <td>0</td>\n",
              "      <td>459</td>\n",
              "      <td>0</td>\n",
              "      <td>CaTiO3std15</td>\n",
              "    </tr>\n",
              "    <tr>\n",
              "      <th>1</th>\n",
              "      <td>0</td>\n",
              "      <td>0</td>\n",
              "      <td>0</td>\n",
              "      <td>0</td>\n",
              "      <td>148</td>\n",
              "      <td>3</td>\n",
              "      <td>2</td>\n",
              "      <td>0</td>\n",
              "      <td>462</td>\n",
              "      <td>1</td>\n",
              "      <td>CaTiO3std15</td>\n",
              "    </tr>\n",
              "    <tr>\n",
              "      <th>2</th>\n",
              "      <td>0</td>\n",
              "      <td>2</td>\n",
              "      <td>0</td>\n",
              "      <td>0</td>\n",
              "      <td>141</td>\n",
              "      <td>6</td>\n",
              "      <td>3</td>\n",
              "      <td>0</td>\n",
              "      <td>455</td>\n",
              "      <td>2</td>\n",
              "      <td>CaTiO3std15</td>\n",
              "    </tr>\n",
              "    <tr>\n",
              "      <th>3</th>\n",
              "      <td>1</td>\n",
              "      <td>2</td>\n",
              "      <td>2</td>\n",
              "      <td>0</td>\n",
              "      <td>122</td>\n",
              "      <td>6</td>\n",
              "      <td>3</td>\n",
              "      <td>0</td>\n",
              "      <td>502</td>\n",
              "      <td>0</td>\n",
              "      <td>CaTiO3std15</td>\n",
              "    </tr>\n",
              "    <tr>\n",
              "      <th>4</th>\n",
              "      <td>0</td>\n",
              "      <td>0</td>\n",
              "      <td>0</td>\n",
              "      <td>0</td>\n",
              "      <td>138</td>\n",
              "      <td>5</td>\n",
              "      <td>5</td>\n",
              "      <td>0</td>\n",
              "      <td>457</td>\n",
              "      <td>1</td>\n",
              "      <td>CaTiO3std15</td>\n",
              "    </tr>\n",
              "  </tbody>\n",
              "</table>\n",
              "</div>"
            ],
            "text/plain": [
              "   Mg  Ni  Al  Fe   Ca  Cr  P  S   Ti  Si      mineral\n",
              "0   0   0   0   0  171   0  4  0  459   0  CaTiO3std15\n",
              "1   0   0   0   0  148   3  2  0  462   1  CaTiO3std15\n",
              "2   0   2   0   0  141   6  3  0  455   2  CaTiO3std15\n",
              "3   1   2   2   0  122   6  3  0  502   0  CaTiO3std15\n",
              "4   0   0   0   0  138   5  5  0  457   1  CaTiO3std15"
            ]
          },
          "metadata": {
            "tags": []
          },
          "execution_count": 58
        }
      ]
    },
    {
      "metadata": {
        "id": "Ctl55lOk1vOW",
        "colab_type": "code",
        "colab": {
          "base_uri": "https://localhost:8080/",
          "height": 34
        },
        "outputId": "665815a7-07fd-44c7-e58b-eacc1155968b"
      },
      "cell_type": "code",
      "source": [
        "dict((str(e), w) for e,w in periodictable.formula('TiO2').mass_fraction.items())"
      ],
      "execution_count": 59,
      "outputs": [
        {
          "output_type": "execute_result",
          "data": {
            "text/plain": [
              "{'O': 0.40065710228908996, 'Ti': 0.5993428977109101}"
            ]
          },
          "metadata": {
            "tags": []
          },
          "execution_count": 59
        }
      ]
    },
    {
      "metadata": {
        "id": "6yR8OdpUZ5dx",
        "colab_type": "code",
        "colab": {
          "base_uri": "https://localhost:8080/",
          "height": 578
        },
        "outputId": "ad99b79c-b3bf-4214-dcd0-0f2a7a65a0d3"
      },
      "cell_type": "code",
      "source": [
        "rows = []\n",
        "for filename in df['mineral'].unique():\n",
        "  try:\n",
        "    formula = re.match(r'([A-Za-z0-9]*).*(std)(.*)', filename).groups()[0]\n",
        "    weights = periodictable.formula(formula).mass_fraction\n",
        "    weights = dict((str(e), w) for e,w in weights.items())\n",
        "    weights['mineral_formula'] = formula\n",
        "    weights['mineral'] = filename\n",
        "    rows.append(weights)\n",
        "  except:\n",
        "    print(filename)\n",
        "\n",
        "# rutile\n",
        "weights = periodictable.formula('TiO2').mass_fraction\n",
        "weights = dict((str(e), w) for e,w in weights.items())\n",
        "weights['mineral_formula'] = 'TiO2'\n",
        "weights['mineral'] = 'rutile'\n",
        "rows.append(weights)\n",
        "\n",
        "# SCOlv\n",
        "rows.append({\n",
        "    'mineral': 'SCOlvstd6', 'mineral_formula': '???', \n",
        "    'Si': .1908, 'Fe': .0742, 'Mg': .298, 'Mn': .0011, 'Ca': .0002, 'Ni': .0029\n",
        "})  \n",
        "  \n",
        "rows"
      ],
      "execution_count": 54,
      "outputs": [
        {
          "output_type": "stream",
          "text": [
            "rutile\n",
            "SCOlvstd6\n"
          ],
          "name": "stdout"
        },
        {
          "output_type": "execute_result",
          "data": {
            "text/plain": [
              "[{'Ca': 0.29481430479788623,\n",
              "  'O': 0.3530754020796921,\n",
              "  'Ti': 0.3521102931224217,\n",
              "  'mineral': 'CaTiO3std15',\n",
              "  'mineral_formula': 'CaTiO3'},\n",
              " {'Fe': 1.0, 'mineral': 'Fe-num2std9', 'mineral_formula': 'Fe'},\n",
              " {'Fe': 0.6352519622341031,\n",
              "  'S': 0.3647480377658969,\n",
              "  'mineral': 'FeSstd2',\n",
              "  'mineral_formula': 'FeS'},\n",
              " {'Fe': 0.723591407862219,\n",
              "  'O': 0.276408592137781,\n",
              "  'mineral': 'Fe3O4std15',\n",
              "  'mineral_formula': 'Fe3O4'},\n",
              " {'Ni': 1.0, 'mineral': 'Nistd9', 'mineral_formula': 'Ni'},\n",
              " {'Ni': 0.6466993688738453,\n",
              "  'S': 0.35330063112615473,\n",
              "  'mineral': 'NiSstd2',\n",
              "  'mineral_formula': 'NiS'},\n",
              " {'O': 0.40065710228908996,\n",
              "  'Ti': 0.5993428977109101,\n",
              "  'mineral': 'rutile',\n",
              "  'mineral_formula': 'TiO2'},\n",
              " {'Ca': 0.0002,\n",
              "  'Fe': 0.0742,\n",
              "  'Mg': 0.298,\n",
              "  'Mn': 0.0011,\n",
              "  'Ni': 0.0029,\n",
              "  'Si': 0.1908,\n",
              "  'mineral': 'SCOlvstd6',\n",
              "  'mineral_formula': '???'}]"
            ]
          },
          "metadata": {
            "tags": []
          },
          "execution_count": 54
        }
      ]
    },
    {
      "metadata": {
        "id": "SzCPCN-JaM1o",
        "colab_type": "code",
        "colab": {
          "base_uri": "https://localhost:8080/",
          "height": 297
        },
        "outputId": "567e2bee-873f-4aea-e83d-a0b291831e18"
      },
      "cell_type": "code",
      "source": [
        "weights_df = pd.DataFrame.from_records(rows).fillna(0)\n",
        "weights_df.columns = [str(i) + '_weight' if str(i)[0].isupper() else str(i) for i in weights_df.columns]\n",
        "weights_df"
      ],
      "execution_count": 55,
      "outputs": [
        {
          "output_type": "execute_result",
          "data": {
            "text/html": [
              "<div>\n",
              "<style scoped>\n",
              "    .dataframe tbody tr th:only-of-type {\n",
              "        vertical-align: middle;\n",
              "    }\n",
              "\n",
              "    .dataframe tbody tr th {\n",
              "        vertical-align: top;\n",
              "    }\n",
              "\n",
              "    .dataframe thead th {\n",
              "        text-align: right;\n",
              "    }\n",
              "</style>\n",
              "<table border=\"1\" class=\"dataframe\">\n",
              "  <thead>\n",
              "    <tr style=\"text-align: right;\">\n",
              "      <th></th>\n",
              "      <th>Ca_weight</th>\n",
              "      <th>Fe_weight</th>\n",
              "      <th>Mg_weight</th>\n",
              "      <th>Mn_weight</th>\n",
              "      <th>Ni_weight</th>\n",
              "      <th>O_weight</th>\n",
              "      <th>S_weight</th>\n",
              "      <th>Si_weight</th>\n",
              "      <th>Ti_weight</th>\n",
              "      <th>mineral</th>\n",
              "      <th>mineral_formula</th>\n",
              "    </tr>\n",
              "  </thead>\n",
              "  <tbody>\n",
              "    <tr>\n",
              "      <th>0</th>\n",
              "      <td>0.294814</td>\n",
              "      <td>0.000000</td>\n",
              "      <td>0.000</td>\n",
              "      <td>0.0000</td>\n",
              "      <td>0.000000</td>\n",
              "      <td>0.353075</td>\n",
              "      <td>0.000000</td>\n",
              "      <td>0.0000</td>\n",
              "      <td>0.352110</td>\n",
              "      <td>CaTiO3std15</td>\n",
              "      <td>CaTiO3</td>\n",
              "    </tr>\n",
              "    <tr>\n",
              "      <th>1</th>\n",
              "      <td>0.000000</td>\n",
              "      <td>1.000000</td>\n",
              "      <td>0.000</td>\n",
              "      <td>0.0000</td>\n",
              "      <td>0.000000</td>\n",
              "      <td>0.000000</td>\n",
              "      <td>0.000000</td>\n",
              "      <td>0.0000</td>\n",
              "      <td>0.000000</td>\n",
              "      <td>Fe-num2std9</td>\n",
              "      <td>Fe</td>\n",
              "    </tr>\n",
              "    <tr>\n",
              "      <th>2</th>\n",
              "      <td>0.000000</td>\n",
              "      <td>0.635252</td>\n",
              "      <td>0.000</td>\n",
              "      <td>0.0000</td>\n",
              "      <td>0.000000</td>\n",
              "      <td>0.000000</td>\n",
              "      <td>0.364748</td>\n",
              "      <td>0.0000</td>\n",
              "      <td>0.000000</td>\n",
              "      <td>FeSstd2</td>\n",
              "      <td>FeS</td>\n",
              "    </tr>\n",
              "    <tr>\n",
              "      <th>3</th>\n",
              "      <td>0.000000</td>\n",
              "      <td>0.723591</td>\n",
              "      <td>0.000</td>\n",
              "      <td>0.0000</td>\n",
              "      <td>0.000000</td>\n",
              "      <td>0.276409</td>\n",
              "      <td>0.000000</td>\n",
              "      <td>0.0000</td>\n",
              "      <td>0.000000</td>\n",
              "      <td>Fe3O4std15</td>\n",
              "      <td>Fe3O4</td>\n",
              "    </tr>\n",
              "    <tr>\n",
              "      <th>4</th>\n",
              "      <td>0.000000</td>\n",
              "      <td>0.000000</td>\n",
              "      <td>0.000</td>\n",
              "      <td>0.0000</td>\n",
              "      <td>1.000000</td>\n",
              "      <td>0.000000</td>\n",
              "      <td>0.000000</td>\n",
              "      <td>0.0000</td>\n",
              "      <td>0.000000</td>\n",
              "      <td>Nistd9</td>\n",
              "      <td>Ni</td>\n",
              "    </tr>\n",
              "    <tr>\n",
              "      <th>5</th>\n",
              "      <td>0.000000</td>\n",
              "      <td>0.000000</td>\n",
              "      <td>0.000</td>\n",
              "      <td>0.0000</td>\n",
              "      <td>0.646699</td>\n",
              "      <td>0.000000</td>\n",
              "      <td>0.353301</td>\n",
              "      <td>0.0000</td>\n",
              "      <td>0.000000</td>\n",
              "      <td>NiSstd2</td>\n",
              "      <td>NiS</td>\n",
              "    </tr>\n",
              "    <tr>\n",
              "      <th>6</th>\n",
              "      <td>0.000000</td>\n",
              "      <td>0.000000</td>\n",
              "      <td>0.000</td>\n",
              "      <td>0.0000</td>\n",
              "      <td>0.000000</td>\n",
              "      <td>0.400657</td>\n",
              "      <td>0.000000</td>\n",
              "      <td>0.0000</td>\n",
              "      <td>0.599343</td>\n",
              "      <td>rutile</td>\n",
              "      <td>TiO2</td>\n",
              "    </tr>\n",
              "    <tr>\n",
              "      <th>7</th>\n",
              "      <td>0.000200</td>\n",
              "      <td>0.074200</td>\n",
              "      <td>0.298</td>\n",
              "      <td>0.0011</td>\n",
              "      <td>0.002900</td>\n",
              "      <td>0.000000</td>\n",
              "      <td>0.000000</td>\n",
              "      <td>0.1908</td>\n",
              "      <td>0.000000</td>\n",
              "      <td>SCOlvstd6</td>\n",
              "      <td>???</td>\n",
              "    </tr>\n",
              "  </tbody>\n",
              "</table>\n",
              "</div>"
            ],
            "text/plain": [
              "   Ca_weight  Fe_weight  Mg_weight  Mn_weight  Ni_weight  O_weight  S_weight  \\\n",
              "0   0.294814   0.000000      0.000     0.0000   0.000000  0.353075  0.000000   \n",
              "1   0.000000   1.000000      0.000     0.0000   0.000000  0.000000  0.000000   \n",
              "2   0.000000   0.635252      0.000     0.0000   0.000000  0.000000  0.364748   \n",
              "3   0.000000   0.723591      0.000     0.0000   0.000000  0.276409  0.000000   \n",
              "4   0.000000   0.000000      0.000     0.0000   1.000000  0.000000  0.000000   \n",
              "5   0.000000   0.000000      0.000     0.0000   0.646699  0.000000  0.353301   \n",
              "6   0.000000   0.000000      0.000     0.0000   0.000000  0.400657  0.000000   \n",
              "7   0.000200   0.074200      0.298     0.0011   0.002900  0.000000  0.000000   \n",
              "\n",
              "   Si_weight  Ti_weight      mineral mineral_formula  \n",
              "0     0.0000   0.352110  CaTiO3std15          CaTiO3  \n",
              "1     0.0000   0.000000  Fe-num2std9              Fe  \n",
              "2     0.0000   0.000000      FeSstd2             FeS  \n",
              "3     0.0000   0.000000   Fe3O4std15           Fe3O4  \n",
              "4     0.0000   0.000000       Nistd9              Ni  \n",
              "5     0.0000   0.000000      NiSstd2             NiS  \n",
              "6     0.0000   0.599343       rutile            TiO2  \n",
              "7     0.1908   0.000000    SCOlvstd6             ???  "
            ]
          },
          "metadata": {
            "tags": []
          },
          "execution_count": 55
        }
      ]
    },
    {
      "metadata": {
        "id": "xzH5x9eW0qtE",
        "colab_type": "code",
        "colab": {
          "base_uri": "https://localhost:8080/",
          "height": 253
        },
        "outputId": "398efadc-5982-4c68-bb8d-6be2213df880"
      },
      "cell_type": "code",
      "source": [
        "df = df.merge(weights_df, on='mineral')\n",
        "df.head()"
      ],
      "execution_count": 60,
      "outputs": [
        {
          "output_type": "execute_result",
          "data": {
            "text/html": [
              "<div>\n",
              "<style scoped>\n",
              "    .dataframe tbody tr th:only-of-type {\n",
              "        vertical-align: middle;\n",
              "    }\n",
              "\n",
              "    .dataframe tbody tr th {\n",
              "        vertical-align: top;\n",
              "    }\n",
              "\n",
              "    .dataframe thead th {\n",
              "        text-align: right;\n",
              "    }\n",
              "</style>\n",
              "<table border=\"1\" class=\"dataframe\">\n",
              "  <thead>\n",
              "    <tr style=\"text-align: right;\">\n",
              "      <th></th>\n",
              "      <th>Mg</th>\n",
              "      <th>Ni</th>\n",
              "      <th>Al</th>\n",
              "      <th>Fe</th>\n",
              "      <th>Ca</th>\n",
              "      <th>Cr</th>\n",
              "      <th>P</th>\n",
              "      <th>S</th>\n",
              "      <th>Ti</th>\n",
              "      <th>Si</th>\n",
              "      <th>...</th>\n",
              "      <th>Ca_weight</th>\n",
              "      <th>Fe_weight</th>\n",
              "      <th>Mg_weight</th>\n",
              "      <th>Mn_weight</th>\n",
              "      <th>Ni_weight</th>\n",
              "      <th>O_weight</th>\n",
              "      <th>S_weight</th>\n",
              "      <th>Si_weight</th>\n",
              "      <th>Ti_weight</th>\n",
              "      <th>mineral_formula</th>\n",
              "    </tr>\n",
              "  </thead>\n",
              "  <tbody>\n",
              "    <tr>\n",
              "      <th>0</th>\n",
              "      <td>0</td>\n",
              "      <td>0</td>\n",
              "      <td>0</td>\n",
              "      <td>0</td>\n",
              "      <td>171</td>\n",
              "      <td>0</td>\n",
              "      <td>4</td>\n",
              "      <td>0</td>\n",
              "      <td>459</td>\n",
              "      <td>0</td>\n",
              "      <td>...</td>\n",
              "      <td>0.294814</td>\n",
              "      <td>0.0</td>\n",
              "      <td>0.0</td>\n",
              "      <td>0.0</td>\n",
              "      <td>0.0</td>\n",
              "      <td>0.353075</td>\n",
              "      <td>0.0</td>\n",
              "      <td>0.0</td>\n",
              "      <td>0.35211</td>\n",
              "      <td>CaTiO3</td>\n",
              "    </tr>\n",
              "    <tr>\n",
              "      <th>1</th>\n",
              "      <td>0</td>\n",
              "      <td>0</td>\n",
              "      <td>0</td>\n",
              "      <td>0</td>\n",
              "      <td>148</td>\n",
              "      <td>3</td>\n",
              "      <td>2</td>\n",
              "      <td>0</td>\n",
              "      <td>462</td>\n",
              "      <td>1</td>\n",
              "      <td>...</td>\n",
              "      <td>0.294814</td>\n",
              "      <td>0.0</td>\n",
              "      <td>0.0</td>\n",
              "      <td>0.0</td>\n",
              "      <td>0.0</td>\n",
              "      <td>0.353075</td>\n",
              "      <td>0.0</td>\n",
              "      <td>0.0</td>\n",
              "      <td>0.35211</td>\n",
              "      <td>CaTiO3</td>\n",
              "    </tr>\n",
              "    <tr>\n",
              "      <th>2</th>\n",
              "      <td>0</td>\n",
              "      <td>2</td>\n",
              "      <td>0</td>\n",
              "      <td>0</td>\n",
              "      <td>141</td>\n",
              "      <td>6</td>\n",
              "      <td>3</td>\n",
              "      <td>0</td>\n",
              "      <td>455</td>\n",
              "      <td>2</td>\n",
              "      <td>...</td>\n",
              "      <td>0.294814</td>\n",
              "      <td>0.0</td>\n",
              "      <td>0.0</td>\n",
              "      <td>0.0</td>\n",
              "      <td>0.0</td>\n",
              "      <td>0.353075</td>\n",
              "      <td>0.0</td>\n",
              "      <td>0.0</td>\n",
              "      <td>0.35211</td>\n",
              "      <td>CaTiO3</td>\n",
              "    </tr>\n",
              "    <tr>\n",
              "      <th>3</th>\n",
              "      <td>1</td>\n",
              "      <td>2</td>\n",
              "      <td>2</td>\n",
              "      <td>0</td>\n",
              "      <td>122</td>\n",
              "      <td>6</td>\n",
              "      <td>3</td>\n",
              "      <td>0</td>\n",
              "      <td>502</td>\n",
              "      <td>0</td>\n",
              "      <td>...</td>\n",
              "      <td>0.294814</td>\n",
              "      <td>0.0</td>\n",
              "      <td>0.0</td>\n",
              "      <td>0.0</td>\n",
              "      <td>0.0</td>\n",
              "      <td>0.353075</td>\n",
              "      <td>0.0</td>\n",
              "      <td>0.0</td>\n",
              "      <td>0.35211</td>\n",
              "      <td>CaTiO3</td>\n",
              "    </tr>\n",
              "    <tr>\n",
              "      <th>4</th>\n",
              "      <td>0</td>\n",
              "      <td>0</td>\n",
              "      <td>0</td>\n",
              "      <td>0</td>\n",
              "      <td>138</td>\n",
              "      <td>5</td>\n",
              "      <td>5</td>\n",
              "      <td>0</td>\n",
              "      <td>457</td>\n",
              "      <td>1</td>\n",
              "      <td>...</td>\n",
              "      <td>0.294814</td>\n",
              "      <td>0.0</td>\n",
              "      <td>0.0</td>\n",
              "      <td>0.0</td>\n",
              "      <td>0.0</td>\n",
              "      <td>0.353075</td>\n",
              "      <td>0.0</td>\n",
              "      <td>0.0</td>\n",
              "      <td>0.35211</td>\n",
              "      <td>CaTiO3</td>\n",
              "    </tr>\n",
              "  </tbody>\n",
              "</table>\n",
              "<p>5 rows × 21 columns</p>\n",
              "</div>"
            ],
            "text/plain": [
              "   Mg  Ni  Al  Fe   Ca  Cr  P  S   Ti  Si       ...        Ca_weight  \\\n",
              "0   0   0   0   0  171   0  4  0  459   0       ...         0.294814   \n",
              "1   0   0   0   0  148   3  2  0  462   1       ...         0.294814   \n",
              "2   0   2   0   0  141   6  3  0  455   2       ...         0.294814   \n",
              "3   1   2   2   0  122   6  3  0  502   0       ...         0.294814   \n",
              "4   0   0   0   0  138   5  5  0  457   1       ...         0.294814   \n",
              "\n",
              "   Fe_weight  Mg_weight  Mn_weight  Ni_weight  O_weight  S_weight  Si_weight  \\\n",
              "0        0.0        0.0        0.0        0.0  0.353075       0.0        0.0   \n",
              "1        0.0        0.0        0.0        0.0  0.353075       0.0        0.0   \n",
              "2        0.0        0.0        0.0        0.0  0.353075       0.0        0.0   \n",
              "3        0.0        0.0        0.0        0.0  0.353075       0.0        0.0   \n",
              "4        0.0        0.0        0.0        0.0  0.353075       0.0        0.0   \n",
              "\n",
              "   Ti_weight  mineral_formula  \n",
              "0    0.35211           CaTiO3  \n",
              "1    0.35211           CaTiO3  \n",
              "2    0.35211           CaTiO3  \n",
              "3    0.35211           CaTiO3  \n",
              "4    0.35211           CaTiO3  \n",
              "\n",
              "[5 rows x 21 columns]"
            ]
          },
          "metadata": {
            "tags": []
          },
          "execution_count": 60
        }
      ]
    },
    {
      "metadata": {
        "id": "dUVQmKUobS5I",
        "colab_type": "code",
        "colab": {
          "base_uri": "https://localhost:8080/",
          "height": 85
        },
        "outputId": "13ceab9a-a83e-4d00-b73c-e0424f33d21e"
      },
      "cell_type": "code",
      "source": [
        "df.columns"
      ],
      "execution_count": 61,
      "outputs": [
        {
          "output_type": "execute_result",
          "data": {
            "text/plain": [
              "Index(['Mg', 'Ni', 'Al', 'Fe', 'Ca', 'Cr', 'P', 'S', 'Ti', 'Si', 'mineral',\n",
              "       'Ca_weight', 'Fe_weight', 'Mg_weight', 'Mn_weight', 'Ni_weight',\n",
              "       'O_weight', 'S_weight', 'Si_weight', 'Ti_weight', 'mineral_formula'],\n",
              "      dtype='object')"
            ]
          },
          "metadata": {
            "tags": []
          },
          "execution_count": 61
        }
      ]
    },
    {
      "metadata": {
        "id": "cUg-1y35cfdZ",
        "colab_type": "code",
        "colab": {}
      },
      "cell_type": "code",
      "source": [
        "from sklearn.ensemble import RandomForestClassifier, RandomForestRegressor\n",
        "from sklearn.linear_model import SGDClassifier\n",
        "from sklearn.svm import SVC\n",
        "from sklearn.model_selection import train_test_split"
      ],
      "execution_count": 0,
      "outputs": []
    },
    {
      "metadata": {
        "id": "z9uizpnbclT0",
        "colab_type": "code",
        "colab": {}
      },
      "cell_type": "code",
      "source": [
        "X = df[['Mg', 'Ni', 'Al', 'Fe', 'Ca', 'Cr', 'P', 'S', 'Ti', 'Si']].values\n",
        "Y = df['mineral']"
      ],
      "execution_count": 0,
      "outputs": []
    },
    {
      "metadata": {
        "id": "4utiCMKa3kgj",
        "colab_type": "code",
        "colab": {}
      },
      "cell_type": "code",
      "source": [
        "X_train, X_test, Y_train, Y_test = train_test_split(X, Y, test_size=.2)"
      ],
      "execution_count": 0,
      "outputs": []
    },
    {
      "metadata": {
        "id": "RQ1PpDrs3G_b",
        "colab_type": "code",
        "colab": {
          "base_uri": "https://localhost:8080/",
          "height": 85
        },
        "outputId": "5289a290-1c02-45a4-dd8a-9b4072727621"
      },
      "cell_type": "code",
      "source": [
        "\n",
        "#mod = RandomForestClassifier()\n",
        "#mod = SGDClassifier()\n",
        "mod = SVC(kernel='linear')\n",
        "mod.fit(X_train, Y_train)"
      ],
      "execution_count": 86,
      "outputs": [
        {
          "output_type": "execute_result",
          "data": {
            "text/plain": [
              "SVC(C=1.0, cache_size=200, class_weight=None, coef0=0.0,\n",
              "  decision_function_shape='ovr', degree=3, gamma='auto_deprecated',\n",
              "  kernel='linear', max_iter=-1, probability=False, random_state=None,\n",
              "  shrinking=True, tol=0.001, verbose=False)"
            ]
          },
          "metadata": {
            "tags": []
          },
          "execution_count": 86
        }
      ]
    },
    {
      "metadata": {
        "id": "GqDlOLU73H5L",
        "colab_type": "code",
        "colab": {
          "base_uri": "https://localhost:8080/",
          "height": 34
        },
        "outputId": "9fb3353f-75be-4491-c1f8-8e2657e8079f"
      },
      "cell_type": "code",
      "source": [
        "(mod.predict(X_train) == Y_train).mean(), (mod.predict(X_test) == Y_test).mean()"
      ],
      "execution_count": 87,
      "outputs": [
        {
          "output_type": "execute_result",
          "data": {
            "text/plain": [
              "(0.9999572046047845, 1.0)"
            ]
          },
          "metadata": {
            "tags": []
          },
          "execution_count": 87
        }
      ]
    },
    {
      "metadata": {
        "id": "Y4XrncbR3PQx",
        "colab_type": "code",
        "colab": {
          "base_uri": "https://localhost:8080/",
          "height": 1071
        },
        "outputId": "b9ac7578-3975-4632-863b-70038651f224"
      },
      "cell_type": "code",
      "source": [
        "Y_test[mod.predict(X_test) != Y_test]"
      ],
      "execution_count": 85,
      "outputs": [
        {
          "output_type": "execute_result",
          "data": {
            "text/plain": [
              "13772     Fe3O4std15\n",
              "13448     Fe3O4std15\n",
              "9539         FeSstd2\n",
              "2577     CaTiO3std15\n",
              "5341     Fe-num2std9\n",
              "11338        FeSstd2\n",
              "1708     CaTiO3std15\n",
              "15556         Nistd9\n",
              "16361         Nistd9\n",
              "17832        NiSstd2\n",
              "23271         rutile\n",
              "11409     Fe3O4std15\n",
              "14076     Fe3O4std15\n",
              "9216         FeSstd2\n",
              "19665        NiSstd2\n",
              "13570     Fe3O4std15\n",
              "19011        NiSstd2\n",
              "20527        NiSstd2\n",
              "16216         Nistd9\n",
              "23799         rutile\n",
              "9591         FeSstd2\n",
              "21325        NiSstd2\n",
              "2239     CaTiO3std15\n",
              "8505         FeSstd2\n",
              "1050     CaTiO3std15\n",
              "16052         Nistd9\n",
              "16947        NiSstd2\n",
              "16928        NiSstd2\n",
              "8575         FeSstd2\n",
              "4498     Fe-num2std9\n",
              "            ...     \n",
              "6580     Fe-num2std9\n",
              "153      CaTiO3std15\n",
              "1904     CaTiO3std15\n",
              "24078         rutile\n",
              "529      CaTiO3std15\n",
              "683      CaTiO3std15\n",
              "5736     Fe-num2std9\n",
              "10526        FeSstd2\n",
              "1638     CaTiO3std15\n",
              "16470         Nistd9\n",
              "3685     Fe-num2std9\n",
              "1936     CaTiO3std15\n",
              "16798         Nistd9\n",
              "11658     Fe3O4std15\n",
              "5210     Fe-num2std9\n",
              "16834         Nistd9\n",
              "12580     Fe3O4std15\n",
              "1108     CaTiO3std15\n",
              "15448         Nistd9\n",
              "2837     CaTiO3std15\n",
              "14211     Fe3O4std15\n",
              "7772         FeSstd2\n",
              "14441     Fe3O4std15\n",
              "3543     Fe-num2std9\n",
              "11824     Fe3O4std15\n",
              "7571         FeSstd2\n",
              "4862     Fe-num2std9\n",
              "5142     Fe-num2std9\n",
              "23507         rutile\n",
              "9080         FeSstd2\n",
              "Name: mineral, Length: 209, dtype: object"
            ]
          },
          "metadata": {
            "tags": []
          },
          "execution_count": 85
        }
      ]
    },
    {
      "metadata": {
        "id": "zbNyMHWQ4bvh",
        "colab_type": "code",
        "colab": {
          "base_uri": "https://localhost:8080/",
          "height": 391
        },
        "outputId": "a0863e0a-6127-4635-e739-67ee9595b7bc"
      },
      "cell_type": "code",
      "source": [
        "df.loc[4602]"
      ],
      "execution_count": 77,
      "outputs": [
        {
          "output_type": "execute_result",
          "data": {
            "text/plain": [
              "Mg                           0\n",
              "Ni                           5\n",
              "Al                           0\n",
              "Fe                         271\n",
              "Ca                           0\n",
              "Cr                           6\n",
              "P                            2\n",
              "S                            0\n",
              "Ti                           3\n",
              "Si                           1\n",
              "mineral            Fe-num2std9\n",
              "Ca_weight                    0\n",
              "Fe_weight                    1\n",
              "Mg_weight                    0\n",
              "Mn_weight                    0\n",
              "Ni_weight                    0\n",
              "O_weight                     0\n",
              "S_weight                     0\n",
              "Si_weight                    0\n",
              "Ti_weight                    0\n",
              "mineral_formula             Fe\n",
              "Name: 4602, dtype: object"
            ]
          },
          "metadata": {
            "tags": []
          },
          "execution_count": 77
        }
      ]
    },
    {
      "metadata": {
        "id": "5-_a5Cje4rVl",
        "colab_type": "code",
        "colab": {
          "base_uri": "https://localhost:8080/",
          "height": 357
        },
        "outputId": "0ef4c179-91b3-4f6f-cd51-23c2a5cf9564"
      },
      "cell_type": "code",
      "source": [
        "df[df['mineral_formula'] == 'Fe'].mean()"
      ],
      "execution_count": 78,
      "outputs": [
        {
          "output_type": "execute_result",
          "data": {
            "text/plain": [
              "Mg             0.127520\n",
              "Ni             1.346949\n",
              "Al             0.471066\n",
              "Fe           316.354543\n",
              "Ca             0.398010\n",
              "Cr             8.184080\n",
              "P              1.607489\n",
              "S              0.034826\n",
              "Ti             4.253993\n",
              "Si             1.859649\n",
              "Ca_weight      0.000000\n",
              "Fe_weight      1.000000\n",
              "Mg_weight      0.000000\n",
              "Mn_weight      0.000000\n",
              "Ni_weight      0.000000\n",
              "O_weight       0.000000\n",
              "S_weight       0.000000\n",
              "Si_weight      0.000000\n",
              "Ti_weight      0.000000\n",
              "dtype: float64"
            ]
          },
          "metadata": {
            "tags": []
          },
          "execution_count": 78
        }
      ]
    },
    {
      "metadata": {
        "id": "N1cca-Af4xbm",
        "colab_type": "code",
        "colab": {}
      },
      "cell_type": "code",
      "source": [
        ""
      ],
      "execution_count": 0,
      "outputs": []
    }
  ]
}