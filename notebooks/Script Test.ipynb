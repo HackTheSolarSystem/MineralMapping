{
 "cells": [
  {
   "cell_type": "code",
   "execution_count": 1,
   "metadata": {},
   "outputs": [],
   "source": [
    "import numpy as np"
   ]
  },
  {
   "cell_type": "code",
   "execution_count": 10,
   "metadata": {},
   "outputs": [
    {
     "data": {
      "text/plain": [
       "array([10,  9, 80])"
      ]
     },
     "execution_count": 10,
     "metadata": {},
     "output_type": "execute_result"
    }
   ],
   "source": [
    "(np.random.dirichlet([.3, .2, .3])*100).astype(int)"
   ]
  },
  {
   "cell_type": "code",
   "execution_count": 11,
   "metadata": {},
   "outputs": [
    {
     "ename": "TypeError",
     "evalue": "multivariate_normal() takes at least 2 positional arguments (1 given)",
     "output_type": "error",
     "traceback": [
      "\u001b[0;31m---------------------------------------------------------------------------\u001b[0m",
      "\u001b[0;31mTypeError\u001b[0m                                 Traceback (most recent call last)",
      "\u001b[0;32m<ipython-input-11-1f20aa3ada2e>\u001b[0m in \u001b[0;36m<module>\u001b[0;34m\u001b[0m\n\u001b[0;32m----> 1\u001b[0;31m \u001b[0;34m(\u001b[0m\u001b[0mnp\u001b[0m\u001b[0;34m.\u001b[0m\u001b[0mrandom\u001b[0m\u001b[0;34m.\u001b[0m\u001b[0mmultivariate_normal\u001b[0m\u001b[0;34m(\u001b[0m\u001b[0;34m[\u001b[0m\u001b[0;36m.3\u001b[0m\u001b[0;34m,\u001b[0m \u001b[0;36m.2\u001b[0m\u001b[0;34m,\u001b[0m \u001b[0;36m.3\u001b[0m\u001b[0;34m]\u001b[0m\u001b[0;34m)\u001b[0m\u001b[0;34m*\u001b[0m\u001b[0;36m100\u001b[0m\u001b[0;34m)\u001b[0m\u001b[0;34m.\u001b[0m\u001b[0mastype\u001b[0m\u001b[0;34m(\u001b[0m\u001b[0mint\u001b[0m\u001b[0;34m)\u001b[0m\u001b[0;34m\u001b[0m\u001b[0;34m\u001b[0m\u001b[0m\n\u001b[0m",
      "\u001b[0;32mmtrand.pyx\u001b[0m in \u001b[0;36mmtrand.RandomState.multivariate_normal\u001b[0;34m()\u001b[0m\n",
      "\u001b[0;31mTypeError\u001b[0m: multivariate_normal() takes at least 2 positional arguments (1 given)"
     ]
    }
   ],
   "source": [
    "(np.random.multivariate_normal([.3, .2, .3])*100).astype(int)"
   ]
  },
  {
   "cell_type": "code",
   "execution_count": 24,
   "metadata": {},
   "outputs": [
    {
     "data": {
      "text/plain": [
       "array([86,  7])"
      ]
     },
     "execution_count": 24,
     "metadata": {},
     "output_type": "execute_result"
    }
   ],
   "source": [
    "(np.random.multivariate_normal(\n",
    "    [.6, .4],\n",
    "    [\n",
    "        [1, .5], \n",
    "        [.5, 1]\n",
    "    ]\n",
    ")*100).astype(int)"
   ]
  },
  {
   "cell_type": "code",
   "execution_count": 43,
   "metadata": {},
   "outputs": [
    {
     "data": {
      "text/plain": [
       "[[0.2, 0.8], [0.1, 0.5], [0.1, 0.4]]"
      ]
     },
     "execution_count": 43,
     "metadata": {},
     "output_type": "execute_result"
    }
   ],
   "source": [
    "mg = [.2, .8]\n",
    "fe = [.1, .5]\n",
    "al = [.1, .4]\n",
    "\n",
    "e = [mg, fe, al]\n",
    "\n",
    "e"
   ]
  },
  {
   "cell_type": "code",
   "execution_count": 46,
   "metadata": {},
   "outputs": [
    {
     "data": {
      "text/plain": [
       "(0.4, 0.6)"
      ]
     },
     "execution_count": 46,
     "metadata": {},
     "output_type": "execute_result"
    }
   ],
   "source": [
    "base = sum([i[0] for i in e])\n",
    "remainder = 1 - base\n",
    "base, remainder"
   ]
  },
  {
   "cell_type": "code",
   "execution_count": 47,
   "metadata": {},
   "outputs": [
    {
     "data": {
      "text/plain": [
       "[0.6000000000000001, 0.4, 0.30000000000000004]"
      ]
     },
     "execution_count": 47,
     "metadata": {},
     "output_type": "execute_result"
    }
   ],
   "source": [
    "er = [j-i for i,j in e]\n",
    "er"
   ]
  },
  {
   "cell_type": "code",
   "execution_count": 98,
   "metadata": {
    "scrolled": true
   },
   "outputs": [
    {
     "data": {
      "text/plain": [
       "array([[0.24450094, 0.17015275, 0.18534631],\n",
       "       [0.33787895, 0.11692832, 0.14519273],\n",
       "       [0.22929236, 0.20644416, 0.16426348],\n",
       "       ...,\n",
       "       [0.27751172, 0.02248828, 0.3       ],\n",
       "       [0.32244434, 0.23062245, 0.0469332 ],\n",
       "       [0.21439032, 0.21158702, 0.17402266]])"
      ]
     },
     "execution_count": 98,
     "metadata": {},
     "output_type": "execute_result"
    }
   ],
   "source": [
    "n = 10000\n",
    "epsilon = .0001\n",
    "\n",
    "v = np.hstack([\n",
    "    np.random.uniform(0, .6, (n, 1)),\n",
    "    np.random.uniform(0, .4, (n, 1)),\n",
    "    np.random.uniform(0, .3, (n, 1))\n",
    "])\n",
    "\n",
    "while True:\n",
    "    s = v.sum(axis=1, keepdims=True)\n",
    "    v = (v/s)*remainder\n",
    "    mask = v < er\n",
    "    r = np.clip(v - er, 0, None)\n",
    "    v = v - r\n",
    "    v = v + (mask * (r.sum(axis=1) / mask.sum(axis=1)).reshape(-1, 1))\n",
    "    if np.abs(remainder - v.sum(axis=1)).mean() < epsilon:\n",
    "        break\n",
    "v"
   ]
  },
  {
   "cell_type": "code",
   "execution_count": 114,
   "metadata": {},
   "outputs": [
    {
     "data": {
      "text/plain": [
       "2"
      ]
     },
     "execution_count": 114,
     "metadata": {},
     "output_type": "execute_result"
    }
   ],
   "source": [
    "np.random.randint(*[2, 3+1])"
   ]
  },
  {
   "cell_type": "code",
   "execution_count": 106,
   "metadata": {
    "scrolled": true
   },
   "outputs": [
    {
     "data": {
      "text/plain": [
       "(10000,)"
      ]
     },
     "execution_count": 106,
     "metadata": {},
     "output_type": "execute_result"
    }
   ],
   "source": [
    "v[:,0].shape"
   ]
  },
  {
   "cell_type": "code",
   "execution_count": 90,
   "metadata": {},
   "outputs": [
    {
     "data": {
      "text/plain": [
       "array([[0.43069037, 0.09908611, 0.07022352],\n",
       "       [0.29549099, 0.14830941, 0.1561996 ],\n",
       "       [0.32653339, 0.24128261, 0.032184  ],\n",
       "       [0.3426094 , 0.21159262, 0.04579797],\n",
       "       [0.42378799, 0.11202859, 0.06418341],\n",
       "       [0.30886628, 0.09989651, 0.19123721],\n",
       "       [0.09283066, 0.26901905, 0.23815029],\n",
       "       [0.33134445, 0.11850587, 0.15014968],\n",
       "       [0.24893436, 0.18932264, 0.16174301],\n",
       "       [0.35564305, 0.21625167, 0.02810528],\n",
       "       [0.23536117, 0.11414493, 0.2504939 ],\n",
       "       [0.24402775, 0.13087225, 0.2251    ],\n",
       "       [0.21505474, 0.25110487, 0.13384039],\n",
       "       [0.40668408, 0.04653354, 0.14678238],\n",
       "       [0.33223169, 0.24940953, 0.01835878],\n",
       "       [0.09270287, 0.32792377, 0.17937335],\n",
       "       [0.27163187, 0.16131453, 0.1670536 ],\n",
       "       [0.2113283 , 0.27448236, 0.11418934],\n",
       "       [0.28431523, 0.21047961, 0.10520516],\n",
       "       [0.18631724, 0.22612023, 0.18756254],\n",
       "       [0.27100078, 0.27734683, 0.05165239],\n",
       "       [0.19629121, 0.15599418, 0.24771461],\n",
       "       [0.3207522 , 0.03793734, 0.24131047],\n",
       "       [0.31309401, 0.17459719, 0.11230881],\n",
       "       [0.21338212, 0.3282136 , 0.05840427],\n",
       "       [0.3137234 , 0.12041931, 0.16585729],\n",
       "       [0.4157796 , 0.12154139, 0.06267901],\n",
       "       [0.25938815, 0.21618145, 0.1244304 ],\n",
       "       [0.267768  , 0.21950145, 0.11273055],\n",
       "       [0.45824307, 0.04616997, 0.09558696],\n",
       "       [0.1811251 , 0.12418678, 0.29468812],\n",
       "       [0.33897801, 0.08752403, 0.17349796],\n",
       "       [0.39296139, 0.16669094, 0.04034767],\n",
       "       [0.15289545, 0.4       , 0.04710455],\n",
       "       [0.48950121, 0.1002184 , 0.01028039],\n",
       "       [0.17992614, 0.25321562, 0.16685824],\n",
       "       [0.23195351, 0.30932206, 0.05872442],\n",
       "       [0.18025716, 0.2422827 , 0.17746014],\n",
       "       [0.11210688, 0.4       , 0.08789312],\n",
       "       [0.28882351, 0.2015539 , 0.10962259],\n",
       "       [0.20171638, 0.28867335, 0.10961027],\n",
       "       [0.24313614, 0.33349861, 0.02336525],\n",
       "       [0.14134065, 0.21801603, 0.24064332],\n",
       "       [0.30351487, 0.11518997, 0.18129517],\n",
       "       [0.19207385, 0.32910877, 0.07881738],\n",
       "       [0.3467655 , 0.19117549, 0.06205901],\n",
       "       [0.26476725, 0.15775594, 0.17747682],\n",
       "       [0.41655119, 0.07455327, 0.10889555],\n",
       "       [0.34841767, 0.17636237, 0.07521997],\n",
       "       [0.33496269, 0.13063872, 0.13439859],\n",
       "       [0.33361741, 0.16763579, 0.0987468 ],\n",
       "       [0.39505485, 0.1645242 , 0.04042095],\n",
       "       [0.26610216, 0.19697279, 0.13692505],\n",
       "       [0.23387151, 0.19124197, 0.17488652],\n",
       "       [0.28819022, 0.05911269, 0.25269709],\n",
       "       [0.25885154, 0.26810549, 0.07304297],\n",
       "       [0.37700228, 0.071649  , 0.15134872],\n",
       "       [0.29633425, 0.08540765, 0.2182581 ],\n",
       "       [0.29414616, 0.03431522, 0.27153862],\n",
       "       [0.07483936, 0.4       , 0.12516064],\n",
       "       [0.35904267, 0.00866577, 0.23229156],\n",
       "       [0.26943892, 0.155238  , 0.17532308],\n",
       "       [0.28568531, 0.16091326, 0.15340143],\n",
       "       [0.15621484, 0.19628141, 0.24750375],\n",
       "       [0.21889284, 0.25291143, 0.12819573],\n",
       "       [0.16626812, 0.38969675, 0.04403513],\n",
       "       [0.07427991, 0.22572009, 0.3       ],\n",
       "       [0.43415828, 0.07587842, 0.0899633 ],\n",
       "       [0.31515469, 0.16562935, 0.11921596],\n",
       "       [0.0792596 , 0.22730922, 0.29343118],\n",
       "       [0.24741394, 0.20063453, 0.15195153],\n",
       "       [0.14054307, 0.30668654, 0.15277039],\n",
       "       [0.19658294, 0.10341706, 0.3       ],\n",
       "       [0.24881911, 0.05118089, 0.3       ],\n",
       "       [0.20075455, 0.30087067, 0.09837479],\n",
       "       [0.32659485, 0.23152392, 0.04188123],\n",
       "       [0.18402978, 0.34515716, 0.07081306],\n",
       "       [0.26502025, 0.15967029, 0.17530946],\n",
       "       [0.31160897, 0.13058716, 0.15780388],\n",
       "       [0.25018846, 0.21158304, 0.1382285 ],\n",
       "       [0.13521992, 0.32545792, 0.13932215],\n",
       "       [0.42688642, 0.15670563, 0.01640795],\n",
       "       [0.39925814, 0.00425109, 0.19649076],\n",
       "       [0.07417014, 0.22582986, 0.3       ],\n",
       "       [0.14585107, 0.15414893, 0.3       ],\n",
       "       [0.26815794, 0.21484039, 0.11700168],\n",
       "       [0.25810302, 0.04189698, 0.3       ],\n",
       "       [0.07538618, 0.25842232, 0.2661915 ],\n",
       "       [0.23144978, 0.0961751 , 0.27237512],\n",
       "       [0.14928324, 0.4       , 0.05071676],\n",
       "       [0.37349834, 0.03420538, 0.19229628],\n",
       "       [0.17779262, 0.15518377, 0.26702361],\n",
       "       [0.3887862 , 0.02135786, 0.18985594],\n",
       "       [0.48938962, 0.08421458, 0.0263958 ],\n",
       "       [0.05235452, 0.3260945 , 0.22155098],\n",
       "       [0.29633345, 0.18719836, 0.1164682 ],\n",
       "       [0.06482274, 0.38994808, 0.14522918],\n",
       "       [0.46555086, 0.04682353, 0.08762561],\n",
       "       [0.27621717, 0.20934773, 0.11443509],\n",
       "       [0.25138289, 0.20033236, 0.14828475]])"
      ]
     },
     "execution_count": 90,
     "metadata": {},
     "output_type": "execute_result"
    }
   ],
   "source": [
    "v + (mask * (r.sum(axis=1) / mask.sum(axis=1)).reshape(-1, 1))"
   ]
  },
  {
   "cell_type": "code",
   "execution_count": 71,
   "metadata": {},
   "outputs": [
    {
     "data": {
      "text/plain": [
       "array([0.51819469, 0.48531933, 0.4179453 ])"
      ]
     },
     "execution_count": 71,
     "metadata": {},
     "output_type": "execute_result"
    }
   ],
   "source": [
    "().max(axis=0)"
   ]
  },
  {
   "cell_type": "code",
   "execution_count": 37,
   "metadata": {},
   "outputs": [
    {
     "data": {
      "text/plain": [
       "array([0.10583389, 0.11619859, 0.07796751])"
      ]
     },
     "execution_count": 37,
     "metadata": {},
     "output_type": "execute_result"
    }
   ],
   "source": [
    "(np.random.dirichlet([.3/.3, .3/.3, .2/.3], 100)*.3).mean(axis=0)"
   ]
  },
  {
   "cell_type": "code",
   "execution_count": 40,
   "metadata": {},
   "outputs": [
    {
     "data": {
      "text/plain": [
       "array([0.13973045, 0.26175997, 0.03032623, 0.04334607, 0.06525919,\n",
       "       0.05828494, 0.15684558, 0.021649  , 0.04540511, 0.01168353,\n",
       "       0.20205348, 0.07783196, 0.19040343, 0.10650728, 0.23817727,\n",
       "       0.29491684, 0.2668693 , 0.13887666, 0.20572537, 0.29497441,\n",
       "       0.03350519, 0.19824205, 0.27870415, 0.19333929, 0.11400419,\n",
       "       0.03994783, 0.19499268, 0.19896374, 0.07108705, 0.09150387,\n",
       "       0.04527015, 0.04387614, 0.0868268 , 0.17954728, 0.22054238,\n",
       "       0.22494754, 0.10226065, 0.17844594, 0.28563748, 0.04084861,\n",
       "       0.00895984, 0.11356124, 0.04312995, 0.08703568, 0.22611631,\n",
       "       0.06320879, 0.24092101, 0.18227995, 0.2042579 , 0.1938455 ,\n",
       "       0.21587845, 0.2826496 , 0.25284241, 0.29577161, 0.13610027,\n",
       "       0.10113323, 0.27908333, 0.00731766, 0.16869443, 0.18517493,\n",
       "       0.06454272, 0.25596764, 0.25927574, 0.06367048, 0.0369488 ,\n",
       "       0.02540027, 0.08120563, 0.11981771, 0.12403923, 0.25564978,\n",
       "       0.17373492, 0.16514544, 0.09524488, 0.27445189, 0.20304067,\n",
       "       0.2516233 , 0.14859132, 0.2050178 , 0.05515066, 0.08608902,\n",
       "       0.21212377, 0.17363956, 0.06231844, 0.04731823, 0.00040903,\n",
       "       0.01328476, 0.25689002, 0.09098966, 0.17232685, 0.01401853,\n",
       "       0.24684281, 0.12678106, 0.27642347, 0.02145826, 0.01817487,\n",
       "       0.06098015, 0.07325862, 0.05910741, 0.18191575, 0.01212801])"
      ]
     },
     "execution_count": 40,
     "metadata": {},
     "output_type": "execute_result"
    }
   ],
   "source": [
    "np.random.uniform(0, .3, 100)."
   ]
  },
  {
   "cell_type": "code",
   "execution_count": null,
   "metadata": {},
   "outputs": [],
   "source": []
  },
  {
   "cell_type": "code",
   "execution_count": 115,
   "metadata": {},
   "outputs": [],
   "source": [
    "import periodictable"
   ]
  },
  {
   "cell_type": "code",
   "execution_count": 118,
   "metadata": {},
   "outputs": [
    {
     "data": {
      "text/plain": [
       "152.1674"
      ]
     },
     "execution_count": 118,
     "metadata": {},
     "output_type": "execute_result"
    }
   ],
   "source": [
    "periodictable.formula(\"(SiO3)2\").mass"
   ]
  },
  {
   "cell_type": "code",
   "execution_count": 119,
   "metadata": {},
   "outputs": [
    {
     "data": {
      "text/plain": [
       "76.0837"
      ]
     },
     "execution_count": 119,
     "metadata": {},
     "output_type": "execute_result"
    }
   ],
   "source": [
    "periodictable.formula(\"SiO3\").mass"
   ]
  },
  {
   "cell_type": "code",
   "execution_count": 120,
   "metadata": {},
   "outputs": [
    {
     "ename": "ModuleNotFoundError",
     "evalue": "No module named 'lib'",
     "output_type": "error",
     "traceback": [
      "\u001b[0;31m---------------------------------------------------------------------------\u001b[0m",
      "\u001b[0;31mModuleNotFoundError\u001b[0m                       Traceback (most recent call last)",
      "\u001b[0;32m<ipython-input-120-e2c0057ed3c4>\u001b[0m in \u001b[0;36m<module>\u001b[0;34m\u001b[0m\n\u001b[1;32m      9\u001b[0m \u001b[0;32mfrom\u001b[0m \u001b[0msklearn\u001b[0m\u001b[0;34m.\u001b[0m\u001b[0mmodel_selection\u001b[0m \u001b[0;32mimport\u001b[0m \u001b[0mtrain_test_split\u001b[0m\u001b[0;34m\u001b[0m\u001b[0;34m\u001b[0m\u001b[0m\n\u001b[1;32m     10\u001b[0m \u001b[0;34m\u001b[0m\u001b[0m\n\u001b[0;32m---> 11\u001b[0;31m \u001b[0;32mfrom\u001b[0m \u001b[0mlib\u001b[0m \u001b[0;32mimport\u001b[0m \u001b[0mget_standards_characteristics\u001b[0m\u001b[0;34m,\u001b[0m \u001b[0mload_target_minerals\u001b[0m\u001b[0;34m,\u001b[0m \u001b[0mget_formula\u001b[0m\u001b[0;34m,\u001b[0m \u001b[0mload_images\u001b[0m\u001b[0;34m\u001b[0m\u001b[0;34m\u001b[0m\u001b[0m\n\u001b[0m\u001b[1;32m     12\u001b[0m \u001b[0;34m\u001b[0m\u001b[0m\n\u001b[1;32m     13\u001b[0m \u001b[0;32mdef\u001b[0m \u001b[0mget_variable_percent\u001b[0m\u001b[0;34m(\u001b[0m\u001b[0mformula\u001b[0m\u001b[0;34m,\u001b[0m \u001b[0mn\u001b[0m\u001b[0;34m,\u001b[0m \u001b[0mepsilon\u001b[0m\u001b[0;34m=\u001b[0m\u001b[0;36m.0001\u001b[0m\u001b[0;34m)\u001b[0m\u001b[0;34m:\u001b[0m\u001b[0;34m\u001b[0m\u001b[0;34m\u001b[0m\u001b[0m\n",
      "\u001b[0;31mModuleNotFoundError\u001b[0m: No module named 'lib'"
     ]
    }
   ],
   "source": [
    "import argparse\n",
    "import json\n",
    "from pathlib import Path\n",
    "\n",
    "import matplotlib.pyplot as plt\n",
    "import numpy as np\n",
    "import pandas as pd\n",
    "from sklearn.ensemble import RandomForestClassifier\n",
    "from sklearn.model_selection import train_test_split\n",
    "\n",
    "from lib import get_standards_characteristics, load_target_minerals, get_formula, load_images\n",
    "\n",
    "def get_variable_percent(formula, n, epsilon=.0001):\n",
    "    elements = [\n",
    "        {'element': e, 'min': m[0], 'max': m[1]}\n",
    "        for e, m in formula.items()\n",
    "    ]\n",
    "\n",
    "    base = sum([e['min'] for e in elements])\n",
    "    remainder = 1 - base\n",
    "    element_remainders = [e['max'] - e['min'] for e in elements]\n",
    "\n",
    "    v = np.hstack([\n",
    "        np.random.uniform(0, e, (n, 1)) for e in element_remainders\n",
    "    ])\n",
    "\n",
    "    while remainder > 0:\n",
    "        s = v.sum(axis=1, keepdims=True)\n",
    "        v = (v/s)*remainder\n",
    "        mask = v < element_remainders\n",
    "        r = np.clip(v - element_remainders, 0, None)\n",
    "        v = v - r\n",
    "        v = v + (mask * (r.sum(axis=1) / mask.sum(axis=1)).reshape(-1, 1))\n",
    "        if np.abs(remainder - v.sum(axis=1)).mean() < epsilon:\n",
    "            break\n",
    "\n",
    "    return [(e['element'], e['min']+v[:, i]) for i, e in enumerate(elements)]\n",
    "\n",
    "def simulate_mineral(mineral, formula, standard_elements, n=5):\n",
    "    if not isinstance(formula, list):\n",
    "        formula = [formula]\n",
    "\n",
    "    #elements = []\n",
    "    #masses = []\n",
    "\n",
    "    mineral_elements = {}\n",
    "    def append(element, mass):\n",
    "        if element in mineral_elements:\n",
    "            mineral_elements[element] += mass\n",
    "        else:\n",
    "            mineral_elements[element] = mass\n",
    "\n",
    "    for component in formula:\n",
    "        if isinstance(component, str):\n",
    "            for element, mass in get_formula(component, format=\"mass\").items():\n",
    "                append(element, np.ones(n)*mass)\n",
    "        elif isinstance(component, dict):\n",
    "            if 'quantity' in component:\n",
    "                quantity = component['quantity']\n",
    "                if isinstance(quantity, list):\n",
    "                    quantity = np.random.randint(quantity[0], quantity[1]+1)\n",
    "            else:\n",
    "                quantity = 1\n",
    "\n",
    "            for molecule, percent in get_variable_percent(component['components'], n):\n",
    "                for element, mass in get_formula(molecule, format=\"mass\").items():\n",
    "                    append(element, percent*mass*quantity)\n",
    "        else:\n",
    "            raise ValueError(f\"{str(component)} is not a recognized format\")\n",
    "\n",
    "    # Calculate mass percents\n",
    "    df = pd.DataFrame(mineral_elements)\n",
    "    df.columns = [f\"{element}_mass\" for element in df.columns]\n",
    "    df['mass'] = df.sum(axis=1)\n",
    "    for element in mineral_elements:\n",
    "        df[f\"{element}_percent\"] = df[f\"{element}_mass\"]/df['mass']\n",
    "\n",
    "    # Convert to intensities\n",
    "    for element in standard_elements:\n",
    "        e = standard_elements[element]\n",
    "        df[element] = (\n",
    "            e['intercept'] + np.random.normal(scale=e['intercept'], size=n)\n",
    "        )\n",
    "\n",
    "        if f\"{element}_percent\" in df:\n",
    "            df[element] += (\n",
    "                e['coef']*df[f\"{element}_percent\"] +\n",
    "                np.random.normal(scale=e['std'], size=n)\n",
    "            )\n",
    "\n",
    "        df[element] = np.clip(df[element], 0, None)\n",
    "\n",
    "\n",
    "    '''mineral_elements = get_formula(component)\n",
    "    for element, weight in mineral_elements.items():\n",
    "        elements.append(element)\n",
    "        masses.append(np.ones(n)*weight)'''\n",
    "\n",
    "    df['mineral'] = mineral\n",
    "    #df['formula'] = formula\n",
    "\n",
    "    #return elements, masses\n",
    "    return df\n",
    "\n",
    "\n",
    "\n"
   ]
  },
  {
   "cell_type": "code",
   "execution_count": null,
   "metadata": {},
   "outputs": [],
   "source": [
    "    characteristics = get_standards_characteristics(standards_dir, bits)\n",
    "    target_minerals = load_target_minerals(target_minerals_file)\n",
    "    #print(characteristics)\n",
    "    elements = list(characteristics.keys())\n",
    "    #\n",
    "\n",
    "    mineral_dfs = []\n",
    "    for mineral, formula in target_minerals.items():\n",
    "        #print(mineral)\n",
    "\n",
    "        df = simulate_mineral(mineral, formula, characteristics, 10000)\n",
    "        #print(df.head())\n",
    "        mineral_dfs.append(df[elements + ['mineral']])\n",
    "\n",
    "    df = pd.concat(mineral_dfs)\n",
    "\n",
    "    #print(len(df))\n",
    "    #print(df.head())\n",
    "\n",
    "    X = df[elements].values\n",
    "    Y = df['mineral']\n",
    "    X_train, X_test, Y_train, Y_test = train_test_split(X, Y, test_size=.2)\n",
    "\n",
    "    print(\"Training Classifier...\")\n",
    "    model = RandomForestClassifier(100, max_depth=10, n_jobs=-1)\n",
    "    model.fit(X_train, Y_train)\n",
    "    print(\"Training Accuracy:\", (model.predict(X_train) == Y_train).mean())\n",
    "    print(\"Testing Accuracy:\", (model.predict(X_test) == Y_test).mean())\n",
    "\n",
    "    meteorite_df, meteorite_shape = load_images(meteorite_dir, bits)\n",
    "    x = meteorite_df[elements].values\n",
    "    meteorite_df['mineral'] = model.predict(x)\n",
    "    \n",
    "    #print(meteorite_df.head(20))\n",
    "    results = meteorite_df.merge(\n",
    "        pd.Series(\n",
    "            model.classes_, name='mineral'\n",
    "        ).reset_index().rename(columns={'index': 'mineral_index'}),\n",
    "        on='mineral'\n",
    "    ).sort_values('order')\n",
    "\n",
    "    figure, ax = plt.subplots(figsize=(30,30))\n",
    "    i = ax.imshow(\n",
    "        results['mineral_index'].values.reshape(meteorite_shape),\n",
    "        cmap=plt.cm.get_cmap('jet', len(model.classes_))\n",
    "    )\n",
    "    cbar = figure.colorbar(i, ticks=range(len(model.classes_)))\n",
    "    cbar.ax.set_yticklabels(model.classes_)\n",
    "    ax.legend()\n",
    "\n",
    "    #figure.savefig('test.png')"
   ]
  }
 ],
 "metadata": {
  "kernelspec": {
   "display_name": "Python 3",
   "language": "python",
   "name": "python3"
  },
  "language_info": {
   "codemirror_mode": {
    "name": "ipython",
    "version": 3
   },
   "file_extension": ".py",
   "mimetype": "text/x-python",
   "name": "python",
   "nbconvert_exporter": "python",
   "pygments_lexer": "ipython3",
   "version": "3.6.7"
  }
 },
 "nbformat": 4,
 "nbformat_minor": 2
}
